{
 "cells": [
  {
   "cell_type": "markdown",
   "metadata": {},
   "source": [
    "<h1 alingn=\"center\">Вариант 24 </h1>"
   ]
  },
  {
   "cell_type": "code",
   "execution_count": 38,
   "metadata": {},
   "outputs": [
    {
     "data": {
      "text/plain": [
       "9.341548540943208"
      ]
     },
     "execution_count": 38,
     "metadata": {},
     "output_type": "execute_result"
    }
   ],
   "source": [
    "from math import e\n",
    "import numpy as np\n",
    "import matplotlib.pyplot as plt\n",
    "\n",
    "\n",
    "def f(x):\n",
    "    return 2 * e**x - 2 * x + 3\n",
    "\n",
    "\n",
    "def f_sh(x):\n",
    "    return 2 * e**x - 2\n",
    "\n",
    "\n",
    "def integral(x0, xn):\n",
    "    return 2 * e**xn - xn**2 + 3 * xn - (2 * e**x0 - x0**2 + 3 * x0)\n",
    "\n",
    "\n",
    "a, b = 1, 2\n",
    "n = 5\n",
    "var = \"24\"\n",
    "epsilon = 10 ** (-8)\n",
    "# Создание таблицы (xi,fi)\n",
    "x_mas = np.arange(a, b + 0.00000000000001, (b - a) / n)\n",
    "f_mas = []\n",
    "for i in x_mas:\n",
    "    f_mas.append(f(i))\n",
    "\n",
    "actual_integral = integral(a, b)\n",
    "actual_integral\n"
   ]
  },
  {
   "cell_type": "markdown",
   "metadata": {},
   "source": [
    "<h1 alingn=\"center\">Вариант 25 </h1>"
   ]
  },
  {
   "cell_type": "code",
   "execution_count": 8,
   "metadata": {},
   "outputs": [
    {
     "data": {
      "text/plain": [
       "5.9614353597610235"
      ]
     },
     "execution_count": 8,
     "metadata": {},
     "output_type": "execute_result"
    }
   ],
   "source": [
    "from math import e, log\n",
    "import numpy as np\n",
    "import matplotlib.pyplot as plt\n",
    "\n",
    "\n",
    "def f(x):\n",
    "    return 3**x + 2 - x\n",
    "\n",
    "\n",
    "def f_sh(x):\n",
    "    return 3**x * log(3) - 1\n",
    "\n",
    "\n",
    "def integral(x0, xn):\n",
    "    return (\n",
    "        3**xn / log(3)\n",
    "        - 1 / 2 * xn**2\n",
    "        + 2 * xn\n",
    "        - (3**x0 / log(3) - 1 / 2 * x0**2 + 2 * x0)\n",
    "    )\n",
    "\n",
    "\n",
    "a, b = 1, 2\n",
    "n = 5\n",
    "var = \"25\"\n",
    "epsilon = 10 ** (-8)\n",
    "# Создание таблицы (xi,fi)\n",
    "x_mas = np.arange(a, b + 0.00000000000001, (b - a) / n)\n",
    "f_mas = []\n",
    "for i in x_mas:\n",
    "    f_mas.append(f(i))\n",
    "\n",
    "actual_integral = integral(a, b)\n",
    "actual_integral\n"
   ]
  },
  {
   "attachments": {},
   "cell_type": "markdown",
   "metadata": {},
   "source": [
    "<h2> Метод трапеций"
   ]
  },
  {
   "cell_type": "code",
   "execution_count": 39,
   "metadata": {},
   "outputs": [
    {
     "name": "stdout",
     "output_type": "stream",
     "text": [
      "Вариант: 24\n",
      "J = 9.341548540943208\n",
      "\n",
      "Формула трапеций №1\n",
      "N    |h                        |Integral                 |Погрешность              |Оценка погрешности       |k                        \n",
      "1    |1.0                      |10.107337927389695       |-0.7657893864464871      |3.369112642463232        |                         \n",
      "2    |0.5                      |9.535358034032912        |-0.19380949308970408     |-0.190659964452261       |                         \n",
      "4    |0.25                     |9.390151833750242        |-0.04860329280703368     |-0.04840206676089013     |1.977861375747113        \n",
      "8    |0.125                    |9.353708849212321        |-0.012160308269113074    |-0.012147661512640203    |1.9943900373347685       \n",
      "16   |0.0625                   |9.344589211654071        |-0.0030406707108632247   |-0.003039879186083283    |1.998592721446534        \n",
      "32   |0.03125                  |9.342308745736586        |-0.0007602047933783496   |-0.0007601553058282917   |1.999647879824046        \n",
      "64   |0.015625                 |9.341738594461484        |-0.00019005351827594552  |-0.0001900504250341347   |1.9999119511559564       \n",
      "128  |0.0078125                |9.341596054467775        |-4.751352456722202e-05   |-4.7513331236241165e-05  |1.9999779866051113       \n",
      "256  |0.00390625               |9.341560419333417        |-1.1878390209218992e-05  |-1.1878378119334343e-05  |1.9999944968048926       \n",
      "512  |0.001953125              |9.341551510541327        |-2.969598119406669e-06   |-2.969597363270774e-06   |1.9999986234538794       \n",
      "1024 |0.0009765625             |9.341549283342774        |-7.423995658228932e-07   |-7.423995178612586e-07   |1.9999996559535695       \n",
      "2048 |0.00048828125            |9.341548726543104        |-1.8559989634070462e-07  |-1.855998898273962e-07   |1.999999919454025        \n",
      "4096 |0.000244140625           |9.341548587343194        |-4.639998607558482e-08   |-4.6399970088373266e-08  |2.0000000736420334       \n",
      "Количество обращений к f:  4097\n",
      "Результат:  9.341548587343194\n"
     ]
    }
   ],
   "source": [
    "def trapeze_method(a, b):\n",
    "    n = 1\n",
    "    h = (b - a) / n\n",
    "    medium = (f(a) + f(b)) / 2\n",
    "    int_cur = h * medium\n",
    "    int_prev = 0\n",
    "    pogr = int_cur / 3\n",
    "    k = ''\n",
    "    print(\"{:<5}|{:<25}|{:<25}|{:<25}|{:<25}|{:<25}\".format(\n",
    "        n, h, int_cur, actual_integral - int_cur, pogr, k\n",
    "    ))\n",
    "    count_f = 2\n",
    "\n",
    "    while abs(pogr) > epsilon * abs(int_cur):\n",
    "        int_prev_pr = int_prev\n",
    "        int_prev = int_cur\n",
    "        n *= 2\n",
    "        h /= 2\n",
    "        for i in range(1, n, 2):\n",
    "            medium += f(a + i * h)\n",
    "            count_f += 1\n",
    "        int_cur = h * medium\n",
    "        sa2 = int_cur\n",
    "        pogr = (int_cur - int_prev) / 3\n",
    "        if (n >= 4):\n",
    "            k =  (1/log(0.5)) * log((int_cur - int_prev_pr)/(int_prev - int_prev_pr)-1)\n",
    "        print(\"{:<5}|{:<25}|{:<25}|{:<25}|{:<25}|{:<25}\".format(\n",
    "            n, h, int_cur, actual_integral - int_cur, pogr, k\n",
    "        ))\n",
    "    print(\"Количество обращений к f: \", count_f)\n",
    "    return int_cur\n",
    "\n",
    "print(\"\"\"Вариант: {}\n",
    "J = {}\n",
    "\n",
    "Формула трапеций №1\n",
    "{:<5}|{:<25}|{:<25}|{:<25}|{:<25}|{:<25}\"\"\".format(var, actual_integral, \"N\", \"h\", \"Integral\", \"Погрешность\", \"Оценка погрешности\", \"k\"))\n",
    "\n",
    "print(\"Результат: \",trapeze_method(a, b))\n"
   ]
  },
  {
   "attachments": {},
   "cell_type": "markdown",
   "metadata": {},
   "source": [
    "<h2> Модифицированный метод трапеций"
   ]
  },
  {
   "cell_type": "code",
   "execution_count": 40,
   "metadata": {},
   "outputs": [
    {
     "name": "stdout",
     "output_type": "stream",
     "text": [
      "\n",
      "Формула трапеций №2\n",
      "N    |h                        |Integral                 |Погрешность              |Оценка погрешности       |k                        \n",
      "1    |1.0                      |9.328875548977761        |0.012672991965446911     |0.6219250365985174       |                         \n",
      "2    |0.5                      |9.340742439429928        |0.0008061015132803107    |0.0007911260301444401    |                         \n",
      "4    |0.25                     |9.341497935099495        |5.06058437128587e-05     |5.036637797116346e-05    |3.9733746507890375       \n",
      "8    |0.125                    |9.341545374549634        |3.1663935740056104e-06   |3.1626300092568724e-06   |3.9932642929121354       \n",
      "16   |0.0625                   |9.3415483429884          |1.9795480810103072e-07   |1.9789591772697199e-07   |3.9983110299335674       \n",
      "32   |0.03125                  |9.341548528570168        |1.2373039481872183e-08   |1.2372117907943903e-08   |3.9995774594294407       \n",
      "Количество обращений к f:  33\n",
      "Результат:  9.341548528570168\n"
     ]
    }
   ],
   "source": [
    "def trapeze_method_2(a, b):\n",
    "    n = 1\n",
    "    h = (b - a) / n\n",
    "    sk = (f(a) + f(b)) / 2\n",
    "    sk2 = (f_sh(a) - f_sh(b)) / 12\n",
    "    int_cur = h * sk + (h**2) * sk2\n",
    "    int_prev = 0\n",
    "    alpha = (0.5**4) / (1 - (0.5**4))\n",
    "    pogr = alpha * int_cur\n",
    "    k = ''\n",
    "    count_f = 2\n",
    "    print(\"{:<5}|{:<25}|{:<25}|{:<25}|{:<25}|{:<25}\".format(\n",
    "        n, h, int_cur, actual_integral - int_cur, pogr, k\n",
    "    ))\n",
    "    while abs(pogr) >= epsilon * abs(int_cur):\n",
    "        int_prev_pr = int_prev\n",
    "        int_prev = int_cur\n",
    "        n *= 2\n",
    "        h /= 2\n",
    "        for i in range(1, n, 2):\n",
    "            sk += f(a + i * h)\n",
    "            count_f += 1\n",
    "        int_cur = h * sk + (h**2) * sk2\n",
    "        pogr = alpha * (int_cur - int_prev)\n",
    "        if (n >= 4):\n",
    "            k =  (1/log(0.5)) * log((int_cur - int_prev_pr)/(int_prev - int_prev_pr)-1)\n",
    "        print(\"{:<5}|{:<25}|{:<25}|{:<25}|{:<25}|{:<25}\".format(\n",
    "            n, h, int_cur, actual_integral - int_cur, pogr, k\n",
    "        ))\n",
    "    print(\"Количество обращений к f: \", count_f)\n",
    "    return int_cur\n",
    "\n",
    "print(\"\"\"\n",
    "Формула трапеций №2\n",
    "{:<5}|{:<25}|{:<25}|{:<25}|{:<25}|{:<25}\"\"\".format(\"N\", \"h\", \"Integral\", \"Погрешность\", \"Оценка погрешности\", \"k\"))\n",
    "\n",
    "print(\"Результат: \",trapeze_method_2(a, b))"
   ]
  },
  {
   "attachments": {},
   "cell_type": "markdown",
   "metadata": {},
   "source": [
    "<h2> Метод Симпсона"
   ]
  },
  {
   "cell_type": "code",
   "execution_count": 29,
   "metadata": {},
   "outputs": [
    {
     "name": "stdout",
     "output_type": "stream",
     "text": [
      "\n",
      "Формула Симпсона\n",
      "N    |h                        |Integral                 |Погрешность              |Оценка погрешности       |k                        \n",
      "1    |1.0                      |9.34469806958065         |-0.0031495286374418896   |0.6229798713053767       |                         \n",
      "2    |0.5                      |9.341749766989352        |-0.00020122604614414286  |-0.00019655350608651644  |                         \n",
      "4    |0.25                     |9.34156118769968         |-1.2646756472278753e-05  |-1.257195264479094e-05   |3.9666414504064837       \n",
      "8    |0.125                    |9.341549332467988        |-7.915247799417102e-07   |-7.903487794891361e-07   |3.9915754802594248       \n",
      "16   |0.0625                   |9.341548590430762        |-4.948755361056101e-08   |-4.9469148422076616e-08  |3.9978884827216965       \n",
      "Количество обращений к f:  33\n",
      "Результат:  9.341548590430762\n"
     ]
    }
   ],
   "source": [
    "def simpson_method(a,b):\n",
    "    n = 1\n",
    "    h = (b-a)/n\n",
    "    values = [f(a),f((a+b)/2),f(b)]\n",
    "    args = [a,(a+b)/2,b]\n",
    "    int_cur = ((b-a)/6)*(values[0]+4*values[1]+values[2])\n",
    "    int_prev = 0\n",
    "    alpha = 1/15\n",
    "    pogr = alpha * int_cur\n",
    "    k = ''\n",
    "    count_f = 3\n",
    "    print(\"{:<5}|{:<25}|{:<25}|{:<25}|{:<25}|{:<25}\".format(\n",
    "        n, h, int_cur, actual_integral - int_cur, pogr, k\n",
    "    ))\n",
    "    while abs(pogr) >= epsilon*abs(int_cur) :\n",
    "        int_prev_pr = int_prev\n",
    "        int_prev = int_cur\n",
    "        n = 2*n\n",
    "        h = h/2\n",
    "        int_cur = 0\n",
    "\n",
    "        for i in range(len(args)-1, 0, -1):\n",
    "            args.insert(i, args[i-1]+(h/2))\n",
    "            values.insert(i, f(args[i]))\n",
    "            count_f += 1\n",
    "\n",
    "        for i in range(0,2*n - 1,2):\n",
    "            int_cur += (h/6)*(values[i]+4*values[i+1]+values[i+2])\n",
    "        sa2 = int_cur\n",
    "        pogr = alpha * (int_cur - int_prev)\n",
    "        \n",
    "        if (n >= 4):\n",
    "            k =  (1/log(0.5)) * log((int_cur - int_prev_pr)/(int_prev - int_prev_pr)-1)\n",
    "        print(\"{:<5}|{:<25}|{:<25}|{:<25}|{:<25}|{:<25}\".format(\n",
    "            n, h, int_cur, actual_integral - int_cur, pogr, k\n",
    "        ))\n",
    "    print(\"Количество обращений к f: \", count_f)\n",
    "    return int_cur\n",
    "print(\"\"\"\n",
    "Формула Симпсона\n",
    "{:<5}|{:<25}|{:<25}|{:<25}|{:<25}|{:<25}\"\"\".format(\"N\", \"h\", \"Integral\", \"Погрешность\", \"Оценка погрешности\", \"k\"))\n",
    "\n",
    "print(\"Результат: \",simpson_method(a, b))"
   ]
  },
  {
   "attachments": {},
   "cell_type": "markdown",
   "metadata": {},
   "source": [
    "<h2>Метод Гаусса"
   ]
  },
  {
   "cell_type": "code",
   "execution_count": 46,
   "metadata": {},
   "outputs": [
    {
     "name": "stdout",
     "output_type": "stream",
     "text": [
      "\n",
      "Формула Гаусса\n",
      "N    |h                        |Integral                 |Погрешность              |Оценка погрешности       |k                        \n",
      "1    |1.0                      |9.341544060744367        |4.4801988412501714e-06   |0.1482784771546725       |                         \n",
      "2    |0.5                      |9.341548469153341        |7.178986649591934e-08    |6.997474563101987e-08    |0.5555555555555556       \n",
      "4    |0.25                     |9.341548539814335        |1.1288729950820198e-09   |1.1216030714418622e-09   |5.963200227077061        \n",
      "Количество обращений к f:  21\n",
      "Результат:  9.341548539814335\n"
     ]
    }
   ],
   "source": [
    "from math import sqrt\n",
    "\n",
    "\n",
    "def gauss_method(a, b):\n",
    "    n = 1\n",
    "    h = (b - a) / n\n",
    "    A = [5 / 9, 8 / 9, 5 / 9]\n",
    "    x = [-sqrt(3 / 5), 0, sqrt(3 / 5)]\n",
    "    epsilon = 10**(-8)\n",
    "    left = a\n",
    "    right = left + h\n",
    "    args = []\n",
    "    values = []\n",
    "    count_f = 0\n",
    "    for j in range(n):\n",
    "        args.append([((left + right) / 2) + (((right - left) / 2) * i) for i in x])\n",
    "        values.append([f(i) for i in args[j]])\n",
    "        count_f += len(args[j])\n",
    "        left = right\n",
    "        right = left + h\n",
    "    int_cur = 0\n",
    "    for i, j in zip(values[0], A):\n",
    "        int_cur += i * j\n",
    "    int_cur *= 1 / 2\n",
    "    int_prev = 0\n",
    "    alpha = 1 / 63\n",
    "    \n",
    "    pogr = alpha * (int_cur - int_prev)\n",
    "    k=''\n",
    "    \n",
    "    print(\"{:<5}|{:<25}|{:<25}|{:<25}|{:<25}|{:<25}\".format(\n",
    "        n, h, int_cur, actual_integral - int_cur, pogr, k\n",
    "    ))\n",
    "    while (abs(pogr) > epsilon * abs(int_cur)) or n < 4:\n",
    "        int_prev_pr = int_prev\n",
    "        int_prev = int_cur\n",
    "        n *= 2\n",
    "        h /= 2\n",
    "        int_cur = 0\n",
    "\n",
    "        left = a\n",
    "        right = left + h\n",
    "        args = []\n",
    "        values = []\n",
    "        for j in range(n):\n",
    "            args.append([((left + right) / 2) + (((right - left) / 2) * k) for k in x])\n",
    "            values.append([f(k) for k in args[j]])\n",
    "            count_f += len(args[j])\n",
    "            left = right\n",
    "            right = left + h\n",
    "\n",
    "        int_cur = 0\n",
    "        for i in values:\n",
    "            t = 0\n",
    "            for j, k in zip(i, A):\n",
    "                t += j * k\n",
    "            t *= h / 2\n",
    "            int_cur += t\n",
    "        pogr = alpha * (int_cur - int_prev)\n",
    "        \n",
    "        if (n >= 4):\n",
    "            k =  (1/log(0.5)) * log((int_cur - int_prev_pr)/(int_prev - int_prev_pr)-1)\n",
    "        print(\"{:<5}|{:<25}|{:<25}|{:<25}|{:<25}|{:<25}\".format(\n",
    "            n, h, int_cur, actual_integral - int_cur, pogr, k\n",
    "        ))\n",
    "    print(\"Количество обращений к f: \", count_f)\n",
    "    return int_cur\n",
    "\n",
    "print(\"\"\"\n",
    "Формула Гаусса\n",
    "{:<5}|{:<25}|{:<25}|{:<25}|{:<25}|{:<25}\"\"\".format(\"N\", \"h\", \"Integral\", \"Погрешность\", \"Оценка погрешности\", \"k\"))\n",
    "\n",
    "print(\"Результат: \", gauss_method(a, b))"
   ]
  }
 ],
 "metadata": {
  "kernelspec": {
   "display_name": "Python 3",
   "language": "python",
   "name": "python3"
  },
  "language_info": {
   "codemirror_mode": {
    "name": "ipython",
    "version": 3
   },
   "file_extension": ".py",
   "mimetype": "text/x-python",
   "name": "python",
   "nbconvert_exporter": "python",
   "pygments_lexer": "ipython3",
   "version": "3.10.7 (tags/v3.10.7:6cc6b13, Sep  5 2022, 14:08:36) [MSC v.1933 64 bit (AMD64)]"
  },
  "orig_nbformat": 4,
  "vscode": {
   "interpreter": {
    "hash": "26de051ba29f2982a8de78e945f0abaf191376122a1563185a90213a26c5da77"
   }
  }
 },
 "nbformat": 4,
 "nbformat_minor": 2
}
