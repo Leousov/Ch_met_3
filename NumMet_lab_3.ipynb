{
 "cells": [
  {
   "cell_type": "markdown",
   "metadata": {},
   "source": [
    "<h3>Кубическая норма"
   ]
  },
  {
   "cell_type": "code",
   "execution_count": 2,
   "metadata": {},
   "outputs": [],
   "source": [
    "# Дальше будет использоваться для определения нормы Якобиана\n",
    "def cubic_norm(A):\n",
    "    x = 0\n",
    "    sum = 0\n",
    "    for i in range(len(A)):\n",
    "        sum = 0\n",
    "        for j in range(len(A[i])):\n",
    "            sum += abs(A[i][j])\n",
    "        if sum > x:\n",
    "            x = sum\n",
    "    return x\n"
   ]
  },
  {
   "cell_type": "markdown",
   "metadata": {},
   "source": [
    "<h3>Создание пустой матрицы</h3>"
   ]
  },
  {
   "cell_type": "code",
   "execution_count": 3,
   "metadata": {},
   "outputs": [],
   "source": [
    "# Используется для решения СЛАУ\n",
    "def create_matrix(x, y):  # x - размерность матрицы\n",
    "    A = []\n",
    "    for i in range(x):\n",
    "        A.append([0]*y)\n",
    "    return A\n"
   ]
  },
  {
   "cell_type": "markdown",
   "metadata": {},
   "source": [
    "<h3>Создание единичной матрицы</h3>"
   ]
  },
  {
   "cell_type": "code",
   "execution_count": 4,
   "metadata": {},
   "outputs": [],
   "source": [
    "# Используется для решения СЛАУ\n",
    "def create_I_matrix(x):  # x - размерность матрицы\n",
    "    A = []\n",
    "    for i in range(x):\n",
    "        A.append([0]*x)\n",
    "        A[i][i] = 1\n",
    "    return A\n"
   ]
  },
  {
   "cell_type": "markdown",
   "metadata": {},
   "source": [
    "<h3> Произведение матриц </h3>"
   ]
  },
  {
   "cell_type": "code",
   "execution_count": 5,
   "metadata": {},
   "outputs": [],
   "source": [
    "# Используется для решения СЛАУ\n",
    "def matrix_product(A, B):\n",
    "    n = len(A)\n",
    "    m = len(B[0])\n",
    "    R = create_matrix(n, m)\n",
    "    for i in range(n):\n",
    "        for j in range(m):\n",
    "            for k in range(n):\n",
    "                R[i][j] += A[i][k] * B[k][j]\n",
    "    return R\n"
   ]
  },
  {
   "cell_type": "markdown",
   "metadata": {},
   "source": [
    "<h3>Решение системы ЛУ при треугольных матрицах"
   ]
  },
  {
   "cell_type": "code",
   "execution_count": 6,
   "metadata": {},
   "outputs": [],
   "source": [
    "# Используется для решения СЛАУ\n",
    "def solution(A, q, b):\n",
    "    # q определяет A - это нижняя треугольная матрица или верхняя\n",
    "    n = len(A)\n",
    "    x = []\n",
    "    if q:\n",
    "        for i in range(n):\n",
    "            x.append([0] * len(b[i]))\n",
    "            for k in range(len(b[i])):\n",
    "                for j in range(i+1):\n",
    "                    if i == j:\n",
    "                        x[i][k] += b[i][k] / A[i][i]\n",
    "                    else:\n",
    "                        x[i][k] -= A[i][j] * x[j][k] / A[i][i]\n",
    "    else:\n",
    "        for i in range(n):\n",
    "            x.append([0] * len(b[i]))\n",
    "        for i in range(n-1, -1, -1):\n",
    "            for k in range(len(b[i])):\n",
    "                for j in range(n-1, i-1, -1):\n",
    "                    if i == j:\n",
    "                        x[i][k] += b[i][k] / A[i][i]\n",
    "                    else:\n",
    "                        x[i][k] -= A[i][j] * x[j][k] / A[i][i]\n",
    "    return x\n"
   ]
  },
  {
   "cell_type": "markdown",
   "metadata": {},
   "source": [
    "<h2>LU разложение</h2>"
   ]
  },
  {
   "cell_type": "code",
   "execution_count": 7,
   "metadata": {},
   "outputs": [],
   "source": [
    "# Используется для решения СЛАУ\n",
    "def LU(A):  # Собственно реализация LU разложения\n",
    "    U = []\n",
    "    for i in A:\n",
    "        U.append(i.copy())\n",
    "    n = len(A)\n",
    "    L = create_matrix(n, n)\n",
    "    for i in range(n):\n",
    "        for j in range(n):\n",
    "            # Выбор главного элемента\n",
    "            m = j\n",
    "            for k in range(j+1, n):\n",
    "                if U[i][k] > U[i][m]:\n",
    "                    m = k\n",
    "            if m != j:\n",
    "                for k in range(n):\n",
    "                    x = U[i][m]\n",
    "                    U[i][m] = U[i][j]\n",
    "                    U[i][j] = x\n",
    "\n",
    "            U[0][i] = A[0][i]\n",
    "            L[i][0] = A[i][0] / U[0][0]\n",
    "            sum = 0\n",
    "            for k in range(i):\n",
    "                sum += L[i][k] * U[k][j]\n",
    "            U[i][j] = A[i][j] - sum\n",
    "            if (i > j):\n",
    "                L[j][i] = 0\n",
    "            else:\n",
    "                sum = 0\n",
    "                for k in range(i):\n",
    "                    sum += L[j][k] * U[k][i]\n",
    "                L[j][i] = (A[j][i] - sum) / U[i][i]\n",
    "    return L, U\n"
   ]
  },
  {
   "cell_type": "markdown",
   "metadata": {},
   "source": [
    "<h2> Вариант 24"
   ]
  },
  {
   "cell_type": "code",
   "execution_count": 8,
   "metadata": {},
   "outputs": [],
   "source": [
    "from math import cos, sin, asin, acos, pi\n",
    "\n",
    "# Основные функции f & g\n",
    "def f(x,y):\n",
    "    return cos(x)+y-1.2\n",
    "def g(x,y):\n",
    "    return 2*x-sin(y-0.5)-2\n",
    "# F для метода градиентного спуска\n",
    "def F(x,y):\n",
    "    return f(x,y)**2+g(x,y)**2\n",
    "# преобразованные функции для графиков\n",
    "def ff(x):\n",
    "    return 1.2 - cos(x)\n",
    "def gg(x):\n",
    "    return 1 + sin(x-0.5) / 2\n",
    "# Собственно, Якобиан\n",
    "def jac(x,y):\n",
    "    return [[-sin(x), 1], [2, -cos(y-0.5)]]\n",
    "def jacobian(x,y):\n",
    "    return cubic_norm(jac(x,y))\n",
    "# Функции для преобразования x & y\n",
    "def pfix(x,y):\n",
    "    return sin(y-0.5)/2 +1\n",
    "    \n",
    "def pfiy(x,y):\n",
    "    return 1.2-cos(x)\n",
    "# Начальные значения и точность\n",
    "x0 = 1.139\n",
    "y0 = 0.781\n",
    "e = 10 **(-4)\n",
    "arr1 = 0\n",
    "arr2 = 2"
   ]
  },
  {
   "cell_type": "markdown",
   "metadata": {},
   "source": [
    "<h2> Вариант 25"
   ]
  },
  {
   "cell_type": "code",
   "execution_count": 14,
   "metadata": {},
   "outputs": [],
   "source": [
    "from math import cos, sin\n",
    "# Основные функции f & g\n",
    "def g(x,y):\n",
    "    return cos(y+0.5)+x-0.8\n",
    "def f(x,y):\n",
    "    return sin(x)-2*y-1.6\n",
    "# F для метода градиентного спуска\n",
    "def F(x,y):\n",
    "    return f(x,y)**2+g(x,y)**2\n",
    "# преобразованные функции для графиков\n",
    "def gg(x):\n",
    "    return 0.8 - cos(x+0.5)\n",
    "def ff(x):\n",
    "    return (sin(x)-1.6)/2\n",
    "    \n",
    "# Собственно, Якобиан\n",
    "def jac(x,y):\n",
    "    return [[1, -sin(y+0.5)], [cos(x), -2]]\n",
    "def jacobian(x,y):\n",
    "    return cubic_norm(jac(x,y))\n",
    "# Функции для преобразования x & y\n",
    "def pfix(x,y):\n",
    "    return (0.8 - cos(y + 0.5))\n",
    "    \n",
    "def pfiy(x,y):\n",
    "    return (sin(x) / 2 - 0.8)\n",
    "x0 = -0.134\n",
    "y0 = -0.867\n",
    "e = 10 **(-10)\n",
    "arr1 = -2\n",
    "arr2 = 3"
   ]
  },
  {
   "cell_type": "markdown",
   "metadata": {},
   "source": [
    "<h1>TEST"
   ]
  },
  {
   "cell_type": "code",
   "execution_count": 10,
   "metadata": {},
   "outputs": [],
   "source": [
    "from math import cos, sin, asin\n",
    "def f(x,y):\n",
    "    return 0.8-cos(y-1)\n",
    "def g(x,y):\n",
    "    return 2+cos(x)\n",
    "def F(x,y):\n",
    "    return f(x,y)**2+g(x,y)**2\n",
    "\n",
    "def ff(x):\n",
    "    return cos(x)-1.2\n",
    "def gg(x):\n",
    "    try:\n",
    "        return asin(2*x-2)+0.5\n",
    "    except:\n",
    "        return None\n",
    "\n",
    "def jacobian(x,y):\n",
    "    A = [[0, sin(y-1)], \n",
    "         [-sin(x), 0]]\n",
    "    return cubic_norm(A)\n",
    "def fsh(x,y):\n",
    "    return sin(y-1)\n",
    "\n",
    "def gsh(x,y):\n",
    "    return -sin(x)\n",
    "\n",
    "\n",
    "\n",
    "\n",
    "x0 = 0.9\n",
    "y0 = 2.6\n",
    "e = 10 **(-10)"
   ]
  },
  {
   "cell_type": "markdown",
   "metadata": {},
   "source": [
    "<h1>Метод Ньютона"
   ]
  },
  {
   "cell_type": "code",
   "execution_count": 18,
   "metadata": {},
   "outputs": [
    {
     "ename": "ValueError",
     "evalue": "math domain error",
     "output_type": "error",
     "traceback": [
      "\u001b[1;31m---------------------------------------------------------------------------\u001b[0m",
      "\u001b[1;31mValueError\u001b[0m                                Traceback (most recent call last)",
      "Cell \u001b[1;32mIn [18], line 9\u001b[0m\n\u001b[0;32m      7\u001b[0m \u001b[39mif\u001b[39;00m  \u001b[39mabs\u001b[39m(prevx \u001b[39m-\u001b[39m x) \u001b[39m<\u001b[39m e \u001b[39mand\u001b[39;00m \u001b[39mabs\u001b[39m(prevy \u001b[39m-\u001b[39m y) \u001b[39m<\u001b[39m e:\n\u001b[0;32m      8\u001b[0m     \u001b[39mbreak\u001b[39;00m\n\u001b[1;32m----> 9\u001b[0m w \u001b[39m=\u001b[39m jac(x,y)\n\u001b[0;32m     10\u001b[0m L,U \u001b[39m=\u001b[39m LU(w)\n\u001b[0;32m     11\u001b[0m Y \u001b[39m=\u001b[39m solution(L, \u001b[39mTrue\u001b[39;00m, b(x,y))\n",
      "Cell \u001b[1;32mIn [14], line 18\u001b[0m, in \u001b[0;36mjac\u001b[1;34m(x, y)\u001b[0m\n\u001b[0;32m     17\u001b[0m \u001b[39mdef\u001b[39;00m \u001b[39mjac\u001b[39m(x,y):\n\u001b[1;32m---> 18\u001b[0m     \u001b[39mreturn\u001b[39;00m [[\u001b[39m1\u001b[39m, \u001b[39m-\u001b[39msin(y\u001b[39m+\u001b[39;49m\u001b[39m0.5\u001b[39;49m)], [cos(x), \u001b[39m-\u001b[39m\u001b[39m2\u001b[39m]]\n",
      "\u001b[1;31mValueError\u001b[0m: math domain error"
     ]
    }
   ],
   "source": [
    "def b(x,y):\n",
    "    return [[g(x,y)], [f(x,y)]]\n",
    "\n",
    "x,y = x0,y0\n",
    "prevx,  prevy = 0, 0\n",
    "while True:\n",
    "    if  abs(prevx - x) < e and abs(prevy - y) < e:\n",
    "        break\n",
    "    w = jac(x,y)\n",
    "    L,U = LU(w)\n",
    "    Y = solution(L, True, b(x,y))\n",
    "    X = solution(U, False, Y)\n",
    "    x += X[1][0]\n",
    "    y += X[0][0]\n"
   ]
  },
  {
   "cell_type": "markdown",
   "metadata": {},
   "source": [
    "<h1>Метод простой итерации"
   ]
  },
  {
   "cell_type": "code",
   "execution_count": 12,
   "metadata": {},
   "outputs": [
    {
     "name": "stdout",
     "output_type": "stream",
     "text": [
      "\n",
      " Метод простой итерации \n",
      " Fi1(x,y)=cos(x)+y-1.2\n",
      " Fi2(x,y)=2*x-sin(y-0.5)-2\n",
      " Якобиан \n",
      "|-sin(x)     1      |\n",
      "|   2    -cos(y-0.5)|\n",
      "\n",
      "Значение \n",
      "|-0.9080723847057184           1        |\n",
      "|        2           -0.9606406373319826|\n",
      "Norma=0.9868324091558129\n",
      "\n",
      "Itr             x                y               Норма невязки            Погрешность             Норма якобиана\n",
      "1  |-0.19580184623454788|-0.31297811883938387|9.182773103507964        |1.9949369965078274    |0.9669485738805665  |\n",
      "2  |-0.1825623237302343 |-0.8972765609830282 |10.15656010812179        |0.5842984421436443    |0.9471770366106571  |\n",
      "3  |-0.12211813399132176|-0.8907749544994514 |10.197585909880157       |0.060444189738912524  |0.9492421408751175  |\n",
      "4  |-0.12461415343474003|-0.8609074194455759 |10.133057771620086       |0.029867535053875516  |0.9582121024089877  |\n",
      "5  |-0.1355767779189554 |-0.862145944026066  |10.127127616511203       |0.010962624484215366  |0.9578570768750546  |\n",
      "6  |-0.1351387085346477 |-0.8675809092980484 |10.13881922569843        |0.005434965271982395  |0.9562817697668212  |\n",
      "7  |-0.13319939729357977|-0.8673638780918884 |10.139917624706973       |0.0019393112410679425 |0.9563452173434743  |\n",
      "8  |-0.13327736743034013|-0.8664029370852137 |10.137848694278842       |0.0009609410066747648 |0.9566256005068117  |\n",
      "9  |-0.13362206463997917|-0.8664415766246432 |10.137655008924847       |0.0003446972096390333 |0.956614343314231   |\n",
      "10 |-0.13360822096251068|-0.8666123928415929 |10.138022725791275       |0.0001708162169496985 |0.9565645608294672  |\n",
      "11 |-0.1335470046546302 |-0.8666055326988041 |10.138057172074232       |6.121630788047394e-05 |0.9565665606796737  |\n",
      "12 |-0.13354946368517584|-0.8665751972093962 |10.137991866990427       |3.0335489407895544e-05|0.9565754034595406  |\n",
      "13 |-0.13356033696933756|-0.8665764157766722 |10.137985750157643       |1.0873284161716512e-05|0.9565750482647641  |\n",
      "14 |-0.13355990020941988|-0.8665818040043294 |10.137997349673812       |5.388227657165956e-06 |0.95657347765713    |\n",
      "15 |-0.13355796893967176|-0.8665815875692411 |10.13799843617007        |1.9312697481232988e-06|0.9565735407460543  |\n",
      "16 |-0.1335580465157098 |-0.8665806305340643 |10.137996375909253       |9.570351767740348e-07 |0.9565738197128522  |\n",
      "17 |-0.13355838954180788|-0.866580668976652  |10.137996182930719       |3.430260980819e-07    |0.9565738085072145  |\n",
      "18 |-0.13355837576300922|-0.866580838962266  |10.137996548867788       |1.6998561402914447e-07|0.9565737589580565  |\n",
      "19 |-0.13355831483583602|-0.8665808321342213 |10.137996583144051       |6.09271731955019e-08  |0.9565737609483659  |\n",
      "20 |-0.13355831728318157|-0.8665808019419333 |10.137996518147508       |3.0192288003050294e-08|0.9565737697491269  |\n",
      "21 |-0.13355832810486834|-0.8665808031547084 |10.137996512059471       |1.0821686768913708e-08|0.9565737693956147  |\n",
      "22 |-0.13355832767017883|-0.8665808085173646 |10.137996523603942       |5.362656207985594e-09 |0.9565737678324522  |\n",
      "23 |-0.13355832574806592|-0.8665808083019555 |10.137996524685281       |1.922112913277374e-09 |0.9565737678952417  |\n",
      "24 |-0.13355832582527405|-0.8665808073494579 |10.13799652263479        |9.524976363195492e-10 |0.9565737681728856  |\n",
      "25 |-0.1335583261666735 |-0.8665808073877181 |10.137996522442728       |3.4139946425426615e-10|0.9565737681617331  |\n",
      "26 |-0.13355832615296015|-0.8665808075568977 |10.13799652280693        |1.6917955925066508e-10|0.9565737681124189  |\n",
      "27 |-0.13355832609232177|-0.8665808075501021 |10.137996522841043       |6.063838320358172e-11 |0.9565737681143998  |\n"
     ]
    }
   ],
   "source": [
    "def q(x,y):\n",
    "    return (pfix(x,y), pfiy(x,y))\n",
    "\n",
    "prevx, prevy =  x0, y0\n",
    "x, y = q(x0, y0)\n",
    "\n",
    "print(\"\"\"\n",
    " Метод простой итерации \n",
    " Fi1(x,y)=cos(x)+y-1.2\n",
    " Fi2(x,y)=2*x-sin(y-0.5)-2\n",
    " Якобиан \n",
    "|-sin(x)     1      |\n",
    "|   2    -cos(y-0.5)|\"\"\")\n",
    "print(\"\"\"\n",
    "Значение \n",
    "|-0.9080723847057184           1        |\n",
    "|        2           -0.9606406373319826|\n",
    "Norma={}\"\"\".format(jacobian(x,y)))\n",
    "print(\"\"\"\n",
    "Itr             x                y               Норма невязки            Погрешность             Норма якобиана\"\"\")\n",
    "i = 0\n",
    "\n",
    "\n",
    "\n",
    "while True:\n",
    "    i+=1\n",
    "    if  abs(prevx - x) < e and abs(prevy - y) < e:\n",
    "        break\n",
    "    prevx, prevy = x,y\n",
    "    x,y = q(x,y,)\n",
    "    print(\"\"\"{:<3}|{:<20}|{:<20}|{:<25}|{:<22}|{:<20}|\"\"\".format(i, x, y, F(x,y),max(abs(prevx - x), abs(prevy - y)),  jacobian(x,y)))\n",
    "lx, ly = x, y\n"
   ]
  },
  {
   "cell_type": "markdown",
   "metadata": {},
   "source": [
    "<h2>График функций"
   ]
  },
  {
   "cell_type": "code",
   "execution_count": 13,
   "metadata": {},
   "outputs": [
    {
     "ename": "TypeError",
     "evalue": "unsupported operand type(s) for -: 'NoneType' and 'float'",
     "output_type": "error",
     "traceback": [
      "\u001b[1;31m---------------------------------------------------------------------------\u001b[0m",
      "\u001b[1;31mTypeError\u001b[0m                                 Traceback (most recent call last)",
      "Cell \u001b[1;32mIn [13], line 14\u001b[0m\n\u001b[0;32m     12\u001b[0m \u001b[39mfor\u001b[39;00m i \u001b[39min\u001b[39;00m \u001b[39menumerate\u001b[39m(x):\n\u001b[0;32m     13\u001b[0m     \u001b[39mfor\u001b[39;00m j \u001b[39min\u001b[39;00m \u001b[39menumerate\u001b[39m(x):\n\u001b[1;32m---> 14\u001b[0m         \u001b[39mif\u001b[39;00m (y1[i[\u001b[39m0\u001b[39m]] \u001b[39m-\u001b[39m j[\u001b[39m1\u001b[39m]) \u001b[39m*\u001b[39m\u001b[39m*\u001b[39m \u001b[39m2\u001b[39m \u001b[39m+\u001b[39m (y2[j[\u001b[39m0\u001b[39m]] \u001b[39m-\u001b[39m i[\u001b[39m1\u001b[39m]) \u001b[39m*\u001b[39m\u001b[39m*\u001b[39m \u001b[39m2\u001b[39m  \u001b[39m<\u001b[39m fi:\n\u001b[0;32m     15\u001b[0m             fi \u001b[39m=\u001b[39m (y1[i[\u001b[39m0\u001b[39m]] \u001b[39m-\u001b[39m j[\u001b[39m1\u001b[39m]) \u001b[39m*\u001b[39m\u001b[39m*\u001b[39m \u001b[39m2\u001b[39m \u001b[39m+\u001b[39m (y2[j[\u001b[39m0\u001b[39m]] \u001b[39m-\u001b[39m i[\u001b[39m1\u001b[39m]) \u001b[39m*\u001b[39m\u001b[39m*\u001b[39m \u001b[39m2\u001b[39m\n\u001b[0;32m     16\u001b[0m             dx \u001b[39m=\u001b[39m i[\u001b[39m1\u001b[39m]\n",
      "\u001b[1;31mTypeError\u001b[0m: unsupported operand type(s) for -: 'NoneType' and 'float'"
     ]
    }
   ],
   "source": [
    "import numpy as np\n",
    "import matplotlib.pyplot as plt\n",
    "x = np.arange(arr1, arr2, 0.01)\n",
    "y1=[]\n",
    "y2=[]\n",
    "dx=0\n",
    "dy=0\n",
    "fi=10000\n",
    "for i in x:\n",
    "    y1.append(ff(i))\n",
    "    y2.append(gg(i))\n",
    "for i in enumerate(x):\n",
    "    for j in enumerate(x):\n",
    "        if (y1[i[0]] - j[1]) ** 2 + (y2[j[0]] - i[1]) ** 2  < fi:\n",
    "            fi = (y1[i[0]] - j[1]) ** 2 + (y2[j[0]] - i[1]) ** 2\n",
    "            dx = i[1]\n",
    "            dy = y1[i[0]]\n",
    "plt.plot(x, y1, y2, x, dx, dy, lx, ly,\"ro\")\n",
    "plt.show()"
   ]
  },
  {
   "cell_type": "code",
   "execution_count": null,
   "metadata": {},
   "outputs": [],
   "source": []
  }
 ],
 "metadata": {
  "kernelspec": {
   "display_name": "Python 3.10.7 64-bit",
   "language": "python",
   "name": "python3"
  },
  "language_info": {
   "codemirror_mode": {
    "name": "ipython",
    "version": 3
   },
   "file_extension": ".py",
   "mimetype": "text/x-python",
   "name": "python",
   "nbconvert_exporter": "python",
   "pygments_lexer": "ipython3",
   "version": "3.10.7"
  },
  "orig_nbformat": 4,
  "vscode": {
   "interpreter": {
    "hash": "26de051ba29f2982a8de78e945f0abaf191376122a1563185a90213a26c5da77"
   }
  }
 },
 "nbformat": 4,
 "nbformat_minor": 2
}
