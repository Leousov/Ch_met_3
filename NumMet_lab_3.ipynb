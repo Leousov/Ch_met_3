{
 "cells": [
  {
   "cell_type": "markdown",
   "metadata": {},
   "source": [
    "<h3>Кубическая норма"
   ]
  },
  {
   "cell_type": "code",
   "execution_count": null,
   "metadata": {},
   "outputs": [],
   "source": [
    "# Дальше будет использоваться для определения нормы Якобиана\n",
    "def cubic_norm(A):\n",
    "    x = 0\n",
    "    sum = 0\n",
    "    for i in range(len(A)):\n",
    "        sum = 0\n",
    "        for j in range(len(A[i])):\n",
    "            sum += abs(A[i][j])\n",
    "        if sum > x:\n",
    "            x = sum\n",
    "    return x\n"
   ]
  },
  {
   "cell_type": "markdown",
   "metadata": {},
   "source": [
    "<h3>Создание пустой матрицы</h3>"
   ]
  },
  {
   "cell_type": "code",
   "execution_count": null,
   "metadata": {},
   "outputs": [],
   "source": [
    "# Используется для решения СЛАУ\n",
    "def create_matrix(x, y):  # x - размерность матрицы\n",
    "    A = []\n",
    "    for i in range(x):\n",
    "        A.append([0]*y)\n",
    "    return A\n"
   ]
  },
  {
   "cell_type": "markdown",
   "metadata": {},
   "source": [
    "<h3>Создание единичной матрицы</h3>"
   ]
  },
  {
   "cell_type": "code",
   "execution_count": null,
   "metadata": {},
   "outputs": [],
   "source": [
    "# Используется для решения СЛАУ\n",
    "def create_I_matrix(x):  # x - размерность матрицы\n",
    "    A = []\n",
    "    for i in range(x):\n",
    "        A.append([0]*x)\n",
    "        A[i][i] = 1\n",
    "    return A\n"
   ]
  },
  {
   "cell_type": "markdown",
   "metadata": {},
   "source": [
    "<h3> Произведение матриц </h3>"
   ]
  },
  {
   "cell_type": "code",
   "execution_count": null,
   "metadata": {},
   "outputs": [],
   "source": [
    "# Используется для решения СЛАУ\n",
    "def matrix_product(A, B):\n",
    "    n = len(A)\n",
    "    m = len(B[0])\n",
    "    R = create_matrix(n, m)\n",
    "    for i in range(n):\n",
    "        for j in range(m):\n",
    "            for k in range(n):\n",
    "                R[i][j] += A[i][k] * B[k][j]\n",
    "    return R\n"
   ]
  },
  {
   "cell_type": "markdown",
   "metadata": {},
   "source": [
    "<h3>Решение системы ЛУ при треугольных матрицах"
   ]
  },
  {
   "cell_type": "code",
   "execution_count": null,
   "metadata": {},
   "outputs": [],
   "source": [
    "# Используется для решения СЛАУ\n",
    "def solution(A, q, b):\n",
    "    # q определяет A - это нижняя треугольная матрица или верхняя\n",
    "    n = len(A)\n",
    "    x = []\n",
    "    if q:\n",
    "        for i in range(n):\n",
    "            x.append([0] * len(b[i]))\n",
    "            for k in range(len(b[i])):\n",
    "                for j in range(i+1):\n",
    "                    if i == j:\n",
    "                        x[i][k] += b[i][k] / A[i][i]\n",
    "                    else:\n",
    "                        x[i][k] -= A[i][j] * x[j][k] / A[i][i]\n",
    "    else:\n",
    "        for i in range(n):\n",
    "            x.append([0] * len(b[i]))\n",
    "        for i in range(n-1, -1, -1):\n",
    "            for k in range(len(b[i])):\n",
    "                for j in range(n-1, i-1, -1):\n",
    "                    if i == j:\n",
    "                        x[i][k] += b[i][k] / A[i][i]\n",
    "                    else:\n",
    "                        x[i][k] -= A[i][j] * x[j][k] / A[i][i]\n",
    "    return x\n"
   ]
  },
  {
   "cell_type": "markdown",
   "metadata": {},
   "source": [
    "<h2>LU разложение</h2>"
   ]
  },
  {
   "cell_type": "code",
   "execution_count": null,
   "metadata": {},
   "outputs": [],
   "source": [
    "# Используется для решения СЛАУ\n",
    "def LU(A):  # Собственно реализация LU разложения\n",
    "    U = []\n",
    "    for i in A:\n",
    "        U.append(i.copy())\n",
    "    n = len(A)\n",
    "    L = create_matrix(n, n)\n",
    "    for i in range(n):\n",
    "        for j in range(n):\n",
    "            # Выбор главного элемента\n",
    "            m = j\n",
    "            for k in range(j+1, n):\n",
    "                if U[i][k] > U[i][m]:\n",
    "                    m = k\n",
    "            if m != j:\n",
    "                for k in range(n):\n",
    "                    x = U[i][m]\n",
    "                    U[i][m] = U[i][j]\n",
    "                    U[i][j] = x\n",
    "\n",
    "            U[0][i] = A[0][i]\n",
    "            L[i][0] = A[i][0] / U[0][0]\n",
    "            sum = 0\n",
    "            for k in range(i):\n",
    "                sum += L[i][k] * U[k][j]\n",
    "            U[i][j] = A[i][j] - sum\n",
    "            if (i > j):\n",
    "                L[j][i] = 0\n",
    "            else:\n",
    "                sum = 0\n",
    "                for k in range(i):\n",
    "                    sum += L[j][k] * U[k][i]\n",
    "                L[j][i] = (A[j][i] - sum) / U[i][i]\n",
    "    return L, U\n"
   ]
  },
  {
   "cell_type": "markdown",
   "metadata": {},
   "source": [
    "<h1>TEST"
   ]
  },
  {
   "cell_type": "code",
   "execution_count": null,
   "metadata": {},
   "outputs": [],
   "source": [
    "from math import cos, sin, asin\n",
    "def f(x,y):\n",
    "    return 0.8-cos(y-1)\n",
    "def g(x,y):\n",
    "    return 2+cos(x)\n",
    "def F(x,y):\n",
    "    return f(x,y)**2+g(x,y)**2\n",
    "\n",
    "def ff(x):\n",
    "    return cos(x)-1.2\n",
    "def gg(x):\n",
    "    try:\n",
    "        return asin(2*x-2)+0.5\n",
    "    except:\n",
    "        return None\n",
    "\n",
    "def jacobian(x,y):\n",
    "    A = [[0, sin(y-1)], \n",
    "         [-sin(x), 0]]\n",
    "    return cubic_norm(A)\n",
    "def fsh(x,y):\n",
    "    return sin(y-1)\n",
    "\n",
    "def gsh(x,y):\n",
    "    return -sin(x)\n",
    "\n",
    "\n",
    "\n",
    "\n",
    "x0 = 0.9\n",
    "y0 = 2.6\n",
    "e = 10 **(-10)"
   ]
  },
  {
   "cell_type": "markdown",
   "metadata": {},
   "source": [
    "<h2> Вариант 24"
   ]
  },
  {
   "cell_type": "code",
   "execution_count": 52,
   "metadata": {},
   "outputs": [],
   "source": [
    "from math import cos, sin, asin, acos, pi\n",
    "# Начальные значения и точность\n",
    "x0, y0 = 1.139, 0.78\n",
    "e = 10 **(-12)\n",
    "arr1 = 0.5\n",
    "arr2 = 1.5\n",
    "q = -1\n",
    "xid, yid = 1.1388173974691207, 0.7813312360330628\n",
    "var_newton = \"\"\"Вариант 24\n",
    "\n",
    "x0 = 1.139  y0 = 0.78\n",
    "\n",
    "Метод Ньютона\n",
    "\n",
    "Матрица производных\n",
    "-sin(x),        1\n",
    "    2,     -cos(y-0.5)\n",
    "Itr           x                   y               Норма невязки                    F1                              F2\"\"\"\n",
    "var_sim_it = \"\"\"\n",
    " Метод простой итерации \n",
    " Fi1(x,y)=cos(x)+y-1.2\n",
    " Fi2(x,y)=2*x-sin(y-0.5)-2\n",
    " Якобиан \n",
    "|-sin(x)     1      |\n",
    "|   2    -cos(y-0.5)|\n",
    "\n",
    "Значение \n",
    "|-0.9080723847057184           1        |\n",
    "|        2           -0.9606406373319826|\n",
    "Norma={}\n",
    "\n",
    "Itr             x                y               Норма невязки            Погрешность             Норма якобиана\"\"\".format(jacobian(x0,y0))\n",
    "# Основные функции f & g\n",
    "def f(x,y):\n",
    "    return cos(x)+y-1.2\n",
    "def g(x,y):\n",
    "    return 2*x-sin(y-0.5)-2\n",
    "# F для метода градиентного спуска\n",
    "def F(x,y):\n",
    "    return f(x,y)**2+g(x,y)**2\n",
    "# преобразованные функции для графиков\n",
    "def ff(x):\n",
    "    return 1.2 - cos(x)\n",
    "def gg(x):\n",
    "    return 1 + sin(x-0.5) / 2\n",
    "# Собственно, Якобиан\n",
    "def jac(x,y):\n",
    "    return [[-sin(x), 1], [2, -cos(y-0.5)]]\n",
    "def jacobian(x,y):\n",
    "    return cubic_norm(jac(x,y))\n",
    "# Функции для преобразования x & y\n",
    "def pfix(x,y):\n",
    "    return sin(y-0.5)/2 +1\n",
    "def pfiy(x,y):\n",
    "    return 1.2-cos(x)\n",
    "def Fsh_x(x,y):\n",
    "    return -2*sin(x)*cos(x)-2*y*sin(x)+2.4*sin(x)-4*sin(y-0.5)+8*x-8\n",
    "def Fsh_y(x,y):\n",
    "    return 2*cos(x)+2*y-2.4+cos(y-0.5)*(-4*x+4+2*sin(y-0.5))\n",
    "\n"
   ]
  },
  {
   "cell_type": "markdown",
   "metadata": {},
   "source": [
    "<h2> Вариант 25"
   ]
  },
  {
   "cell_type": "code",
   "execution_count": 80,
   "metadata": {},
   "outputs": [
    {
     "data": {
      "text/plain": [
       "[[1, 0.3894183423086505], [0.9915618937147881, -2]]"
      ]
     },
     "execution_count": 80,
     "metadata": {},
     "output_type": "execute_result"
    }
   ],
   "source": [
    "from math import cos, sin\n",
    "\n",
    "# Начальные значения и точность\n",
    "x0, y0 = -0.13, -0.9\n",
    "e = 10 **(-12)\n",
    "arr1 = -1\n",
    "arr2 = 0\n",
    "q = 1\n",
    "xid, yid = -0.13355832611734098, -0.8665808075387158\n",
    "var_newton = \"\"\"Вариант 25\n",
    "\n",
    "x0 = -0.13   y0 = -0.9\n",
    "\n",
    "Метод Ньютона\n",
    "\n",
    "Матрица производных\n",
    "    1   -sin(y+0.5) \n",
    "cos(x)      -2\n",
    "Itr           x                   y               Норма невязки                    F1                              F2\"\"\"\n",
    "var_sim_it = \"\"\"\n",
    " Метод простой итерации \n",
    " Fi1(x,y)=cos(y+0.5)+x-0.8\n",
    " Fi2(x,y)=sin(x)-2*y-1.6\n",
    " Якобиан \n",
    "  1     -sin(y+0.5) \n",
    "cos(x)      -2\n",
    "\n",
    "Значение \n",
    "|        1           0.3894183423086505|\n",
    "|0.9915618937147881          -2        |\n",
    "Norma={}\n",
    "\n",
    "Itr             x                y               Норма невязки            Погрешность             Норма якобиана\"\"\".format(jacobian(x0,y0))\n",
    "# Основные функции f & g\n",
    "def g(x,y):\n",
    "    return cos(y+0.5)+x-0.8\n",
    "def f(x,y):\n",
    "    return sin(x)-2*y-1.6\n",
    "# F для метода градиентного спуска\n",
    "def F(x,y):\n",
    "    return f(x,y)**2+g(x,y)**2\n",
    "# преобразованные функции для графиков\n",
    "def gg(x):\n",
    "    return 0.8 - cos(x+0.5)\n",
    "def ff(x):\n",
    "    return (sin(x)-1.6)/2\n",
    "    \n",
    "# Собственно, Якобиан\n",
    "def jac(x,y):\n",
    "    return [[1, -sin(y+0.5)], [cos(x), -2]]\n",
    "def jacobian(x,y):\n",
    "    return cubic_norm(jac(x,y))\n",
    "# Функции для преобразования x & y\n",
    "def pfix(x,y):\n",
    "    return (0.8 - cos(y + 0.5))\n",
    "def pfiy(x,y):\n",
    "    return (sin(x) / 2 - 0.8)\n",
    "def Fsh_x(x,y):\n",
    "    return 2*cos(y+0.5)+2*x-1.6+ cos(x)*(2*sin(x)-4*y-3.2)\n",
    "def Fsh_y(x,y):\n",
    "    return 2*sin(y+0.5)*(-cos(y+0.5)-2*x+1.6)-4*sin(x)+8*y+6.4\n",
    "jac(x0,y0)"
   ]
  },
  {
   "cell_type": "markdown",
   "metadata": {},
   "source": [
    "<h1>Метод Ньютона"
   ]
  },
  {
   "cell_type": "code",
   "execution_count": 67,
   "metadata": {},
   "outputs": [
    {
     "name": "stdout",
     "output_type": "stream",
     "text": [
      "Вариант 25\n",
      "\n",
      "x0 = -0.13   y0 = -0.9\n",
      "\n",
      "Метод Ньютона\n",
      "\n",
      "Матрица производных\n",
      "    1   -sin(y+0.5) \n",
      "cos(x)      -2\n",
      "Itr           x                   y               Норма невязки                    F1                              F2\n",
      "1  |-0.1339912888262411 |-0.8667958762633026 ||2.6017293811152507e-07   |1.0430673273997826e-06   |-0.0005100704364321418   |\n",
      "2  |-0.1335583425309467 |-0.8665808219196087 ||6.224028770815069e-16    |1.2506883528828894e-08   |-2.158658707340777e-08   |\n",
      "3  |-0.13355832610353618|-0.8665808075256102 ||4.930380657631324e-32    |0.0                      |-2.220446049250313e-16   |\n",
      "4  |-0.133558326103536  |-0.8665808075256101 ||1.232595164407831e-32    |0.0                      |1.1102230246251565e-16   |\n"
     ]
    }
   ],
   "source": [
    "def b(x,y):\n",
    "    return [[g(x,y)], [f(x,y)]]\n",
    "\n",
    "print(var_newton)\n",
    "\n",
    "e = 10 **(-12)\n",
    "x,y = x0,y0\n",
    "prevx,  prevy = 0, 0\n",
    "i = 0\n",
    "while abs(prevx - x) >= e or abs(prevy - y) >= e:\n",
    "    i += 1\n",
    "    w = jac(x,y)\n",
    "    L,U = LU(w)\n",
    "    Y = solution(L, True, b(x,y))\n",
    "    X = solution(U, False, Y)\n",
    "    prevx, prevy = x, y\n",
    "    x -= X[0][0]\n",
    "    y -= q * X[1][0]\n",
    "    print(\"\"\"{:<3}|{:<20}|{:<20}||{:<25}|{:<25}|{:<25}|\"\"\".format(i, x, y, F(x,y), f(x,y),  g(x,y)))\n",
    "x_new, y_new = x,y"
   ]
  },
  {
   "cell_type": "markdown",
   "metadata": {},
   "source": [
    "<h1>Метод простой итерации"
   ]
  },
  {
   "cell_type": "code",
   "execution_count": 68,
   "metadata": {},
   "outputs": [
    {
     "name": "stdout",
     "output_type": "stream",
     "text": [
      "\n",
      " Метод простой итерации \n",
      " Fi1(x,y)=cos(y+0.5)+x-0.8\n",
      " Fi2(x,y)=sin(x)-2*y-1.6\n",
      " Якобиан \n",
      "  1     -sin(y+0.5) \n",
      "cos(x)      -2\n",
      "\n",
      "Значение \n",
      "|        1           0.3894183423086505|\n",
      "|0.9915618937147881          -2        |\n",
      "Norma=2.169967142900241\n",
      "\n",
      "Itr             x                y               Норма невязки            Погрешность             Норма якобиана\n",
      "1  |-0.1341890418019508 |-0.860382751859719  |0.00017202517190630215   |0.006230063910563916  |2.9910101524739767  |\n",
      "2  |-0.13576192150934274|-0.8668933436402789 |7.791441859459913e-06    |0.002225648565129933  |2.9907984963403846  |\n",
      "3  |-0.13344625959221024|-0.8676726304528521 |5.344020910535095e-06    |0.0010975592045134475 |2.9911092534533212  |\n",
      "4  |-0.13316643254652516|-0.8665252728652799 |2.464968033824138e-07    |0.0003958088661520684 |2.9911464457904735  |\n",
      "5  |-0.133578229703314  |-0.8663866006753471 |1.6904712145795398e-07   |0.00019522411217157024|2.9910916861274357  |\n",
      "6  |-0.13362791718876832|-0.8665906706849316 |7.772500826905392e-09    |7.028656383416782e-05 |2.9910850674580503  |\n",
      "7  |-0.13355479085014066|-0.8666152930295895 |5.330488010049468e-09    |3.466623719536535e-05 |2.9910948074730985  |\n",
      "8  |-0.13354596506380334|-0.8665790556403845 |2.452264886135391e-10    |1.2484566677128558e-05|2.9910959826595374  |\n",
      "9  |-0.13355895402247253|-0.8665746820422862 |1.6817903421286884e-10   |6.1575829789209976e-06|2.991094253104345   |\n",
      "10 |-0.13356052161555354|-0.866581118689048  |7.736211495618419e-12    |2.2174525258265805e-06|2.9910940443589253  |\n",
      "11 |-0.13355821457457462|-0.866581895505213  |5.30558301645491e-12     |1.093681089574383e-06 |2.9910943515706108  |\n",
      "12 |-0.1335579361433311 |-0.8665807522577487 |2.440604440483194e-13    |3.9385720495067746e-07|2.9910943886468955  |\n",
      "13 |-0.13355834591294646|-0.8665806142819298 |1.6737944476135959e-13   |1.9425635822641396e-07|2.991094334081387   |\n",
      "14 |-0.13355839536698488|-0.8665808173421073 |7.69954428242991e-15     |6.995562144272494e-08 |2.991094327496005   |\n",
      "15 |-0.13355832258505296|-0.8665808418489159 |5.280435678057188e-15    |3.4503174466950236e-08|2.991094337187767   |\n",
      "16 |-0.13355831380118688|-0.8665808057820358 |2.429030148342952e-16    |1.2425290537931575e-08|2.9910943383574407  |\n",
      "17 |-0.13355832672847767|-0.8665808014292158 |1.6658567345533723e-16   |6.12834197005285e-09  |2.991094336636022   |\n",
      "18 |-0.13355832828863934|-0.8665808078352982 |7.66303358408699e-18     |2.2069398273423465e-09|2.9910943364282683  |\n",
      "19 |-0.13355832599253592|-0.8665808086084319 |5.255397063198301e-18    |1.0884962727917307e-09|2.991094336734021   |\n",
      "20 |-0.13355832571542514|-0.8665808074706043 |2.4175104634743225e-19   |3.91989370652141e-10  |2.9910943367709217  |\n",
      "21 |-0.13355832612325158|-0.8665808073332829 |1.6579571889326053e-19   |1.9333504271967466e-10|2.991094336716615   |\n",
      "22 |-0.1335583261724711 |-0.8665808075353801 |7.626700564976254e-21    |6.962401454809435e-11 |2.9910943367100606  |\n",
      "23 |-0.13355832610003426|-0.8665808075597707 |5.23050430246463e-21     |3.43396819683235e-11  |2.9910943367197067  |\n"
     ]
    }
   ],
   "source": [
    "from math import sqrt\n",
    "def q(x,y):\n",
    "    return (pfix(x,y), pfiy(x,y))\n",
    "e = 10 **(-10)\n",
    "prevx, prevy =  x0, y0\n",
    "x, y = q(x0, y0)\n",
    "\n",
    "print(var_sim_it)\n",
    "i = 0\n",
    "\n",
    "while abs(prevx - x) >= e or abs(prevy - y) >= e:\n",
    "    i+=1\n",
    "    prevx, prevy = x,y\n",
    "    x,y = q(x,y,)\n",
    "    print(\"\"\"{:<3}|{:<20}|{:<20}|{:<25}|{:<22}|{:<20}|\"\"\".format(i, x, y, F(x,y),sqrt((x_new - x)**2+ (y_new - y)**2),  jacobian(x,y)))\n",
    "x_simp, y_simp = x, y"
   ]
  },
  {
   "cell_type": "markdown",
   "metadata": {},
   "source": [
    "<h1>Метод градиентного спуска"
   ]
  },
  {
   "cell_type": "code",
   "execution_count": 74,
   "metadata": {},
   "outputs": [
    {
     "name": "stdout",
     "output_type": "stream",
     "text": [
      "\n",
      " Метод градиентного спуска\n",
      "  \n",
      "Itr       x                          y                     Alfa        Норма невязки               Погрешность        k \n",
      "1  |-0.13475258568748166     |-0.8608866193838371      ||0.0390625 |0.00015874424791021752   |0.005818078252116706  | 10|\n",
      "2  |0.33030335804271455      |34.881173908709044       ||20        |5047.720730255025        |35.7507641165066      |149|\n",
      "3  |21.688812050054896       |-18.956373602965826      ||0.15625   |1816.1140622062303       |28.345307410860755    |  8|\n",
      "4  |23.741540826364616       |-5.114071231617942       ||0.078125  |580.2542725822059        |24.24998009159887     |  9|\n",
      "5  |19.958902552006315       |3.8050182186797166       ||0.078125  |421.17218036115185       |20.628398425472042    |  9|\n",
      "6  |17.605676691825558       |-4.134226140132188       ||0.078125  |286.32704278255954       |18.03768180895282     |  9|\n",
      "7  |14.830383653080379       |0.19856505801756175      ||0.078125  |220.43386501505947       |15.001803067340484    |  9|\n",
      "8  |12.395880767151574       |1.9288717818493866       ||0.078125  |149.15804999779368       |12.837499724285598    |  9|\n",
      "9  |12.18910443863413        |2.0361989872495005       ||0.01953125|148.14882013362674       |12.65994265983882     | 11|\n",
      "10 |-0.18805706818782397     |-31.24185716841655       ||1.25      |3684.1398848508925       |30.375325251153914    |  5|\n",
      "11 |-18.75676635565909       |-0.6084554295190614      ||0.15625   |344.65602481510666       |18.624996805982907    |  8|\n",
      "12 |-6.974375636544821       |-0.8994881115384634      ||0.3125    |47.1574544552836         |6.840896459199666     |  7|\n",
      "13 |-4.727201328748389       |1.081445164141389        ||0.15625   |38.30195139390182        |4.989625358885894     |  8|\n",
      "14 |-4.291359532871163       |-0.1602136666630769      ||0.0390625 |17.34494983982615        |4.21737660313715      | 10|\n",
      "15 |-3.0418033142981153      |-1.7242756753453574      ||0.15625   |15.323984157035449       |3.032083342793074     |  8|\n",
      "16 |-2.6322405865246132      |-1.0321743896103253      ||0.0390625 |6.6081902234529615       |2.5041633878344745    | 10|\n",
      "17 |-2.4330042684054116      |-0.8391398867509626      ||0.0390625 |5.571667662654806        |2.299609672466508     | 10|\n",
      "18 |-0.11389473249639703     |-0.5596438172966673      ||0.625     |0.3603760786602885       |0.30756620894426745   |  6|\n",
      "19 |-0.0348036306786087      |-0.7144872061402459      ||0.078125  |0.06260695339313377      |0.18134208957338122   |  9|\n",
      "20 |-0.014986283368695369    |-0.7873178268092822      ||0.15625   |0.022370210421448867     |0.14262520615357524   |  8|\n",
      "21 |-0.0149862833686956      |-0.787317826809282       ||1.1102230246251565e-15|0.022370210421448856     |0.14262520615357516   | 55|\n",
      " Общее число итераций =   367\n"
     ]
    }
   ],
   "source": [
    "e = 10 **(-10)\n",
    "prevx, prevy =  0, 0\n",
    "x, y = x0, y0\n",
    "def alp(x,y):\n",
    "    a_min = 20\n",
    "    F_min = F(x,y)\n",
    "    a = a_min\n",
    "    q = False\n",
    "    for i in range(150):\n",
    "        FF = F(x - a * Fsh_x(x,y), y - a * Fsh_y(x,y))\n",
    "        if FF < F_min:\n",
    "            F_min = FF\n",
    "            a_min = a\n",
    "            q = True\n",
    "        elif q == True:\n",
    "            break\n",
    "        a /= 2\n",
    "    return a_min, i\n",
    "i = 0\n",
    "m = 0\n",
    "print(\"\"\"\n",
    " Метод градиентного спуска\n",
    "  \n",
    "Itr       x                          y                     Alfa        Норма невязки               Погрешность        k \"\"\")\n",
    "while abs(prevx - x) >= e or abs(prevy - y) >= e:\n",
    "    i+=1\n",
    "    alpha, k = alp(x,y)\n",
    "    m += k\n",
    "    prevx, prevy = x,y\n",
    "    x -= alpha * Fsh_x(x,y)\n",
    "    y -= alpha * Fsh_y(x,y)\n",
    "    print(\"\"\"{:<3}|{:<25}|{:<25}||{:<10}|{:<25}|{:<22}|{:=3}|\"\"\".format(i, x, y, alpha,  F(x,y),sqrt((x_new - x)**2+ (y_new - y)**2),  k))\n",
    "print(\" Общее число итераций =  \", m)\n",
    "x_grad, y_grad = x, y"
   ]
  },
  {
   "cell_type": "markdown",
   "metadata": {},
   "source": [
    "<h2>График функций"
   ]
  },
  {
   "cell_type": "code",
   "execution_count": 81,
   "metadata": {},
   "outputs": [
    {
     "data": {
      "image/png": "[encoded data removed]",
      "text/plain": [
       "<Figure size 640x480 with 1 Axes>"
      ]
     },
     "metadata": {},
     "output_type": "display_data"
    }
   ],
   "source": [
    "import numpy as np\n",
    "import matplotlib.pyplot as plt\n",
    "x = np.arange(arr1, arr2, 0.001)\n",
    "y1=[]\n",
    "y2=[]\n",
    "dx=0\n",
    "dy=0\n",
    "fi=10000\n",
    "for i in x:\n",
    "    y1.append(ff(i))\n",
    "    y2.append(gg(i))\n",
    "for i in enumerate(x):\n",
    "    for j in enumerate(x):\n",
    "        if (y1[i[0]] - j[1]) ** 2 + (y2[j[0]] - i[1]) ** 2  < fi:\n",
    "            fi = (y1[i[0]] - j[1]) ** 2 + (y2[j[0]] - i[1]) ** 2\n",
    "            dx = i[1]\n",
    "            dy = y1[i[0]]\n",
    "plt.plot(x, y1, y2, x, x_new, y_new, \"ro\", x_simp, y_simp,\"gs\", x_grad, y_grad, )\n",
    "plt.show()"
   ]
  },
  {
   "cell_type": "code",
   "execution_count": null,
   "metadata": {},
   "outputs": [],
   "source": []
  }
 ],
 "metadata": {
  "kernelspec": {
   "display_name": "Python 3.10.7 64-bit",
   "language": "python",
   "name": "python3"
  },
  "language_info": {
   "codemirror_mode": {
    "name": "ipython",
    "version": 3
   },
   "file_extension": ".py",
   "mimetype": "text/x-python",
   "name": "python",
   "nbconvert_exporter": "python",
   "pygments_lexer": "ipython3",
   "version": "3.10.7"
  },
  "orig_nbformat": 4,
  "vscode": {
   "interpreter": {
    "hash": "26de051ba29f2982a8de78e945f0abaf191376122a1563185a90213a26c5da77"
   }
  }
 },
 "nbformat": 4,
 "nbformat_minor": 2
}
