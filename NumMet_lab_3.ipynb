{
 "cells": [
  {
   "cell_type": "markdown",
   "metadata": {},
   "source": [
    "<h2> Вариант 24"
   ]
  },
  {
   "cell_type": "code",
   "execution_count": null,
   "metadata": {},
   "outputs": [],
   "source": [
    "from math import cos, sin, asin\n",
    "def f(x,y):\n",
    "    return cos(x)+y-1.2\n",
    "def g(x,y):\n",
    "    return 2*x-sin(y-0.5)-2\n",
    "def F(x,y):\n",
    "    return f(x,y)**2+g(x,y)**2\n",
    "\n",
    "def ff(x):\n",
    "    return cos(x)-1.2\n",
    "def gg(x):\n",
    "    try:\n",
    "        return asin(2*x-2)+0.5\n",
    "    except:\n",
    "        return None\n",
    "def jacobian(x,y):\n",
    "    return sin(x) * cos(y-0.5) - ( 1 * 2 )\n",
    "\n",
    "x0 = 1.139\n",
    "y0 = 0.781\n",
    "e = 10 **(-10)"
   ]
  },
  {
   "cell_type": "markdown",
   "metadata": {},
   "source": [
    "<h2> Вариант 25"
   ]
  },
  {
   "cell_type": "code",
   "execution_count": null,
   "metadata": {},
   "outputs": [],
   "source": [
    "from math import cos, sin\n",
    "def f(x,y):\n",
    "    return cos(y+0.5)+x-0.8\n",
    "def g(x,y):\n",
    "    return sin(x)-2*y-1.6\n",
    "def F(x,y):\n",
    "    return f(x,y)**2+g(x,y)**2\n",
    "\n",
    "def ff(x):\n",
    "    try:\n",
    "        return asin(x-0.8)-0.5\n",
    "    except:\n",
    "        return None\n",
    "def gg(x):\n",
    "    return (sin(x)-1.6)/2\n",
    "    \n",
    "x0 = -0,134\n",
    "y0 = -0,867\n",
    "e = 10 **(-10)"
   ]
  },
  {
   "cell_type": "markdown",
   "metadata": {},
   "source": [
    "<h3>Кубическая норма"
   ]
  },
  {
   "cell_type": "code",
   "execution_count": null,
   "metadata": {},
   "outputs": [],
   "source": [
    "def cubic_norm(A):\n",
    "    x = 0\n",
    "    sum = 0\n",
    "    for i in range(len(A)):\n",
    "        sum = 0\n",
    "        for j in range(len(A[i])):\n",
    "            sum += abs(A[i][j])\n",
    "        if sum > x:\n",
    "            x = sum\n",
    "    return x\n"
   ]
  },
  {
   "cell_type": "markdown",
   "metadata": {},
   "source": [
    "<h1>TEST"
   ]
  },
  {
   "cell_type": "code",
   "execution_count": 42,
   "metadata": {},
   "outputs": [],
   "source": [
    "from math import cos, sin, asin\n",
    "def f(x,y):\n",
    "    return 0.8-cos(y-1)\n",
    "def g(x,y):\n",
    "    return 2+cos(x)\n",
    "def F(x,y):\n",
    "    return f(x,y)**2+g(x,y)**2\n",
    "\n",
    "def ff(x):\n",
    "    return cos(x)-1.2\n",
    "def gg(x):\n",
    "    try:\n",
    "        return asin(2*x-2)+0.5\n",
    "    except:\n",
    "        return None\n",
    "\n",
    "def jacobian(x,y):\n",
    "    A = [[0, sin(y-1)], \n",
    "         [-sin(x), 0]]\n",
    "    return cubic_norm(A)\n",
    "def fsh(x,y):\n",
    "    return sin(y-1)\n",
    "\n",
    "def gsh(x,y):\n",
    "    return -sin(x)\n",
    "x0 = 0.9\n",
    "y0 = 2.6\n",
    "e = 10 **(-10)"
   ]
  },
  {
   "cell_type": "markdown",
   "metadata": {},
   "source": [
    "<h2>График функций"
   ]
  },
  {
   "cell_type": "code",
   "execution_count": null,
   "metadata": {},
   "outputs": [],
   "source": [
    "import numpy as np\n",
    "import matplotlib.pyplot as plt\n",
    "x = np.arange(0, 2, 0.01)\n",
    "y1=[]\n",
    "y2=[]\n",
    "dx=0\n",
    "dy=0\n",
    "fi=10000\n",
    "for i in x:\n",
    "    y1.append(ff(i))\n",
    "    y2.append(gg(i))\n",
    "    try:\n",
    "        if abs(y1[-1] - y2[-1]) < fi:\n",
    "            fi = abs(y1[-1] - y2[-1] )\n",
    "            dx = i\n",
    "            dy = y1[-1]\n",
    "    except:\n",
    "        pass\n",
    "print(dx, dy)\n",
    "    \n",
    "plt.plot(x, y1, x, y2, dx, dy, 'ro')\n",
    "plt.show()"
   ]
  },
  {
   "cell_type": "markdown",
   "metadata": {},
   "source": [
    "<h1>Метод Ньютона"
   ]
  },
  {
   "cell_type": "code",
   "execution_count": null,
   "metadata": {},
   "outputs": [],
   "source": []
  },
  {
   "cell_type": "markdown",
   "metadata": {},
   "source": [
    "<h1>Метод простой итерации"
   ]
  },
  {
   "cell_type": "code",
   "execution_count": 51,
   "metadata": {},
   "outputs": [
    {
     "ename": "KeyboardInterrupt",
     "evalue": "",
     "output_type": "error",
     "traceback": [
      "\u001b[1;31m---------------------------------------------------------------------------\u001b[0m",
      "\u001b[1;31mKeyboardInterrupt\u001b[0m                         Traceback (most recent call last)",
      "Cell \u001b[1;32mIn [51], line 27\u001b[0m\n\u001b[0;32m     25\u001b[0m     prevvx, prevvy \u001b[39m=\u001b[39m prevx, prevy\n\u001b[0;32m     26\u001b[0m     prevx, prevy \u001b[39m=\u001b[39m x,y\n\u001b[1;32m---> 27\u001b[0m     x,y \u001b[39m=\u001b[39m q(x,y,tf,tg)\n\u001b[0;32m     28\u001b[0m     \u001b[39m# t0 = t(x,y,prevx, prevy)\u001b[39;00m\n\u001b[0;32m     30\u001b[0m \u001b[39mprint\u001b[39m(x, y, F(x,y))\n",
      "Cell \u001b[1;32mIn [51], line 14\u001b[0m, in \u001b[0;36mq\u001b[1;34m(x, y, tf, tg)\u001b[0m\n\u001b[0;32m     13\u001b[0m \u001b[39mdef\u001b[39;00m \u001b[39mq\u001b[39m(x,y,tf ,tg):\n\u001b[1;32m---> 14\u001b[0m     sf \u001b[39m=\u001b[39m tf \u001b[39m*\u001b[39m f(x,y)\n\u001b[0;32m     15\u001b[0m     sg \u001b[39m=\u001b[39m tg \u001b[39m*\u001b[39m g(x,y)\n\u001b[0;32m     16\u001b[0m     \u001b[39mreturn\u001b[39;00m x \u001b[39m+\u001b[39m (sf \u001b[39m+\u001b[39m sg)\u001b[39m/\u001b[39m\u001b[39m2\u001b[39m, y \u001b[39m+\u001b[39m (sf \u001b[39m+\u001b[39m sg)\u001b[39m/\u001b[39m\u001b[39m2\u001b[39m\n",
      "Cell \u001b[1;32mIn [42], line 2\u001b[0m, in \u001b[0;36mf\u001b[1;34m(x, y)\u001b[0m\n\u001b[0;32m      1\u001b[0m \u001b[39mfrom\u001b[39;00m \u001b[39mmath\u001b[39;00m \u001b[39mimport\u001b[39;00m cos, sin, asin\n\u001b[1;32m----> 2\u001b[0m \u001b[39mdef\u001b[39;00m \u001b[39mf\u001b[39m(x,y):\n\u001b[0;32m      3\u001b[0m     \u001b[39mreturn\u001b[39;00m \u001b[39m0.8\u001b[39m\u001b[39m-\u001b[39mcos(y\u001b[39m-\u001b[39m\u001b[39m1\u001b[39m)\n\u001b[0;32m      4\u001b[0m \u001b[39mdef\u001b[39;00m \u001b[39mg\u001b[39m(x,y):\n",
      "\u001b[1;31mKeyboardInterrupt\u001b[0m: "
     ]
    }
   ],
   "source": [
    "from math import sqrt\n",
    "\n",
    "\n",
    "def t(x, y, prevx, prevy):\n",
    "    # j = jacobian(x,y)\n",
    "    # return abs(j/(1-j) * (x - prevx) * (y - prevy))\n",
    "    # return 2 / (jacobian(prevx, prevy) + jacobian(x, y))\n",
    "    return (x - prevx) / (max())\n",
    "\n",
    "tf = 1 / fsh(3.14, -0.12)\n",
    "tg = 1 / gsh(3.14, -0.12)\n",
    "\n",
    "def q(x,y,tf ,tg):\n",
    "    sf = tf * f(x,y)\n",
    "    sg = tg * g(x,y)\n",
    "    return x + (sf + sg)/2, y + (sf + sg)/2\n",
    "\n",
    "x, y = 3.14, -0.12\n",
    "prevx, prevy = 0.8291995, 2.6216100\n",
    "prevvx, prevvy =  0.9, 2.6\n",
    "\n",
    "while True:\n",
    "    if  abs(prevx - x) < e and abs(prevy - y) < e:\n",
    "        break\n",
    "    prevvx, prevvy = prevx, prevy\n",
    "    prevx, prevy = x,y\n",
    "    x,y = q(x,y,tf,tg)\n",
    "    # t0 = t(x,y,prevx, prevy)\n",
    "\n",
    "print(x, y, F(x,y))\n"
   ]
  }
 ],
 "metadata": {
  "kernelspec": {
   "display_name": "Python 3.10.7 64-bit",
   "language": "python",
   "name": "python3"
  },
  "language_info": {
   "codemirror_mode": {
    "name": "ipython",
    "version": 3
   },
   "file_extension": ".py",
   "mimetype": "text/x-python",
   "name": "python",
   "nbconvert_exporter": "python",
   "pygments_lexer": "ipython3",
   "version": "3.10.7"
  },
  "orig_nbformat": 4,
  "vscode": {
   "interpreter": {
    "hash": "26de051ba29f2982a8de78e945f0abaf191376122a1563185a90213a26c5da77"
   }
  }
 },
 "nbformat": 4,
 "nbformat_minor": 2
}
