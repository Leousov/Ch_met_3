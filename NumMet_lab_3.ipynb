{
 "cells": [
  {
   "cell_type": "markdown",
   "metadata": {},
   "source": [
    "<h3>Кубическая норма"
   ]
  },
  {
   "cell_type": "code",
   "execution_count": 1,
   "metadata": {},
   "outputs": [],
   "source": [
    "def cubic_norm(A):\n",
    "    x = 0\n",
    "    sum = 0\n",
    "    for i in range(len(A)):\n",
    "        sum = 0\n",
    "        for j in range(len(A[i])):\n",
    "            sum += abs(A[i][j])\n",
    "        if sum > x:\n",
    "            x = sum\n",
    "    return x\n"
   ]
  },
  {
   "cell_type": "code",
   "execution_count": 2,
   "metadata": {},
   "outputs": [],
   "source": [
    "from math import pi, ceil\n",
    "def my_asin(x):\n",
    "    if x > pi / 2 or x < -pi / 2:\n",
    "        n = ceil(abs(x) / (pi/2)) \n",
    "        if x > pi / 2:\n",
    "            return x - n * pi / 2\n",
    "        else:\n",
    "            return x + n * pi / 2  \n",
    "    else:\n",
    "        return x\n",
    "        \n",
    "def my_acos(x):\n",
    "    x = abs(x)\n",
    "    if x > pi:\n",
    "        n = ceil(x / pi)  \n",
    "        if x > pi / 2:\n",
    "            return x - n * pi\n",
    "        else:\n",
    "            return x + n * pi\n",
    "    else:\n",
    "        return x"
   ]
  },
  {
   "cell_type": "code",
   "execution_count": 3,
   "metadata": {},
   "outputs": [
    {
     "name": "stdout",
     "output_type": "stream",
     "text": [
      "1.0471975511965974\n",
      "0.5235987755982991\n",
      "0.0\n",
      "1.0471975511965979\n",
      "-0.5235987755982983\n",
      "-1.0471975511965974\n",
      "-2.0943951023931957\n",
      "3.141592653589793\n",
      "2.0943951023931953\n",
      "-2.094395102393195\n"
     ]
    }
   ],
   "source": [
    "print(my_asin(-5*pi/3))\n",
    "print(my_asin(-4*pi/3))\n",
    "print(my_asin(-pi))\n",
    "print(my_asin(-2*pi/3))\n",
    "print(my_asin(10*pi/3))\n",
    "\n",
    "print(my_acos(-5*pi/3))\n",
    "print(my_acos(-4*pi/3))\n",
    "print(my_acos(-pi))\n",
    "print(my_acos(-2*pi/3))\n",
    "print(my_acos(10*pi/3))"
   ]
  },
  {
   "cell_type": "markdown",
   "metadata": {},
   "source": [
    "<h2> Вариант 24"
   ]
  },
  {
   "cell_type": "code",
   "execution_count": 9,
   "metadata": {},
   "outputs": [],
   "source": [
    "from math import cos, sin, asin, acos, pi\n",
    "def f(x,y):\n",
    "    return cos(x)+y-1.2\n",
    "def g(x,y):\n",
    "    return 2*x-sin(y-0.5)-2\n",
    "def F(x,y):\n",
    "    return f(x,y)**2+g(x,y)**2\n",
    "\n",
    "def ff(x):\n",
    "    return cos(x)-1.2\n",
    "def gg(x):\n",
    "    try:\n",
    "        return asin(2*x-2)+0.5\n",
    "    except:\n",
    "        return None\n",
    "\n",
    "def jacobian(x,y):\n",
    "    A = [\n",
    "        [-sin(x), 1],\n",
    "        [2, -cos(y-0.5)]\n",
    "    ]\n",
    "    return cubic_norm(A)\n",
    "\n",
    "def fsh(x,y):\n",
    "    return 1 - sin(x) \n",
    "\n",
    "def gsh(x,y):\n",
    "    return 2 - cos(y-0.5)\n",
    "\n",
    "def pfix(x,y):\n",
    "    return sin(y-0.5)/2 +1\n",
    "    \n",
    "def pfiy(x,y):\n",
    "    return 1.2-cos(x)\n",
    "\n",
    "\n",
    "x0 = 1.139\n",
    "y0 = 0.781\n",
    "e = 10 **(-10)"
   ]
  },
  {
   "cell_type": "markdown",
   "metadata": {},
   "source": [
    "<h2> Вариант 25"
   ]
  },
  {
   "cell_type": "code",
   "execution_count": null,
   "metadata": {},
   "outputs": [],
   "source": [
    "from math import cos, sin\n",
    "def f(x,y):\n",
    "    return cos(y+0.5)+x-0.8\n",
    "def g(x,y):\n",
    "    return sin(x)-2*y-1.6\n",
    "def F(x,y):\n",
    "    return f(x,y)**2+g(x,y)**2\n",
    "\n",
    "def ff(x):\n",
    "    try:\n",
    "        return asin(x-0.8)-0.5\n",
    "    except:\n",
    "        return None\n",
    "def gg(x):\n",
    "    return (sin(x)-1.6)/2\n",
    "    \n",
    "x0 = -0,134\n",
    "y0 = -0,867\n",
    "e = 10 **(-10)"
   ]
  },
  {
   "cell_type": "markdown",
   "metadata": {},
   "source": [
    "<h1>TEST"
   ]
  },
  {
   "cell_type": "code",
   "execution_count": null,
   "metadata": {},
   "outputs": [],
   "source": [
    "from math import cos, sin, asin\n",
    "def f(x,y):\n",
    "    return 0.8-cos(y-1)\n",
    "def g(x,y):\n",
    "    return 2+cos(x)\n",
    "def F(x,y):\n",
    "    return f(x,y)**2+g(x,y)**2\n",
    "\n",
    "def ff(x):\n",
    "    return cos(x)-1.2\n",
    "def gg(x):\n",
    "    try:\n",
    "        return asin(2*x-2)+0.5\n",
    "    except:\n",
    "        return None\n",
    "\n",
    "def jacobian(x,y):\n",
    "    A = [[0, sin(y-1)], \n",
    "         [-sin(x), 0]]\n",
    "    return cubic_norm(A)\n",
    "def fsh(x,y):\n",
    "    return sin(y-1)\n",
    "\n",
    "def gsh(x,y):\n",
    "    return -sin(x)\n",
    "\n",
    "\n",
    "\n",
    "\n",
    "x0 = 0.9\n",
    "y0 = 2.6\n",
    "e = 10 **(-10)"
   ]
  },
  {
   "cell_type": "markdown",
   "metadata": {},
   "source": [
    "<h2>График функций"
   ]
  },
  {
   "cell_type": "code",
   "execution_count": null,
   "metadata": {},
   "outputs": [],
   "source": [
    "import numpy as np\n",
    "import matplotlib.pyplot as plt\n",
    "x = np.arange(0, 2, 0.01)\n",
    "y1=[]\n",
    "y2=[]\n",
    "dx=0\n",
    "dy=0\n",
    "fi=10000\n",
    "for i in x:\n",
    "    y1.append(ff(i))\n",
    "    y2.append(gg(i))\n",
    "    try:\n",
    "        if abs(y1[-1] - y2[-1]) < fi:\n",
    "            fi = abs(y1[-1] - y2[-1] )\n",
    "            dx = i\n",
    "            dy = y1[-1]\n",
    "    except:\n",
    "        pass\n",
    "print(dx, dy)\n",
    "    \n",
    "plt.plot(x, y1, x, y2, dx, dy, 'ro')\n",
    "plt.show()"
   ]
  },
  {
   "cell_type": "markdown",
   "metadata": {},
   "source": [
    "<h1>Метод Ньютона"
   ]
  },
  {
   "cell_type": "code",
   "execution_count": null,
   "metadata": {},
   "outputs": [],
   "source": []
  },
  {
   "cell_type": "markdown",
   "metadata": {},
   "source": [
    "<h1>Метод простой итерации"
   ]
  },
  {
   "cell_type": "code",
   "execution_count": 10,
   "metadata": {},
   "outputs": [
    {
     "name": "stdout",
     "output_type": "stream",
     "text": [
      "1.138817397446418 0.7813312360567253 6.6032898401226924e-21\n"
     ]
    }
   ],
   "source": [
    "from math import sqrt\n",
    "\n",
    "\n",
    "def t(x, y, prevx, prevy):\n",
    "    # j = jacobian(x,y)\n",
    "    # return abs(j/(1-j) * (x - prevx) * (y - prevy))\n",
    "    # return 2 / (jacobian(prevx, prevy) + jacobian(x, y))\n",
    "    return (x - prevx) / (max())\n",
    "\n",
    "tf = 1 / fsh(x0, y0)\n",
    "tg = 1 / gsh(x0, y0)\n",
    "\n",
    "def q(x,y,tf ,tg):\n",
    "    # sf = tf * f(x,y)\n",
    "    # sg = tg * g(x,y)\n",
    "    # return x + sg + sf, y + sf + sg\n",
    "    return pfix(x,y), pfiy(x,y)\n",
    "\n",
    "prevx, prevy =  x0, y0\n",
    "x,y = q(x0, y0, tf, tg)\n",
    "\n",
    "while True:\n",
    "    if  abs(prevx - x) < e and abs(prevy - y) < e:\n",
    "        break\n",
    "    prevx, prevy = x,y\n",
    "    x,y = q(x,y,tf,tg)\n",
    "    # t0 = t(x,y,prevx, prevy)\n",
    "\n",
    "print(x, y, F(x,y))\n"
   ]
  }
 ],
 "metadata": {
  "kernelspec": {
   "display_name": "Python 3.10.7 64-bit",
   "language": "python",
   "name": "python3"
  },
  "language_info": {
   "codemirror_mode": {
    "name": "ipython",
    "version": 3
   },
   "file_extension": ".py",
   "mimetype": "text/x-python",
   "name": "python",
   "nbconvert_exporter": "python",
   "pygments_lexer": "ipython3",
   "version": "3.10.7"
  },
  "orig_nbformat": 4,
  "vscode": {
   "interpreter": {
    "hash": "26de051ba29f2982a8de78e945f0abaf191376122a1563185a90213a26c5da77"
   }
  }
 },
 "nbformat": 4,
 "nbformat_minor": 2
}
