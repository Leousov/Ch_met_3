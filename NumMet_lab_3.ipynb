{
 "cells": [
  {
   "cell_type": "markdown",
   "metadata": {},
   "source": [
    "<h3>Кубическая норма"
   ]
  },
  {
   "cell_type": "code",
   "execution_count": 1,
   "metadata": {},
   "outputs": [],
   "source": [
    "# Дальше будет использоваться для определения нормы Якобиана\n",
    "def cubic_norm(A):\n",
    "    x = 0\n",
    "    sum = 0\n",
    "    for i in range(len(A)):\n",
    "        sum = 0\n",
    "        for j in range(len(A[i])):\n",
    "            sum += abs(A[i][j])\n",
    "        if sum > x:\n",
    "            x = sum\n",
    "    return x\n"
   ]
  },
  {
   "cell_type": "markdown",
   "metadata": {},
   "source": [
    "<h3>Создание пустой матрицы</h3>"
   ]
  },
  {
   "cell_type": "code",
   "execution_count": 2,
   "metadata": {},
   "outputs": [],
   "source": [
    "# Используется для решения СЛАУ\n",
    "def create_matrix(x, y):  # x - размерность матрицы\n",
    "    A = []\n",
    "    for i in range(x):\n",
    "        A.append([0]*y)\n",
    "    return A\n"
   ]
  },
  {
   "cell_type": "markdown",
   "metadata": {},
   "source": [
    "<h3>Создание единичной матрицы</h3>"
   ]
  },
  {
   "cell_type": "code",
   "execution_count": 3,
   "metadata": {},
   "outputs": [],
   "source": [
    "# Используется для решения СЛАУ\n",
    "def create_I_matrix(x):  # x - размерность матрицы\n",
    "    A = []\n",
    "    for i in range(x):\n",
    "        A.append([0]*x)\n",
    "        A[i][i] = 1\n",
    "    return A\n"
   ]
  },
  {
   "cell_type": "markdown",
   "metadata": {},
   "source": [
    "<h3> Произведение матриц </h3>"
   ]
  },
  {
   "cell_type": "code",
   "execution_count": 4,
   "metadata": {},
   "outputs": [],
   "source": [
    "# Используется для решения СЛАУ\n",
    "def matrix_product(A, B):\n",
    "    n = len(A)\n",
    "    m = len(B[0])\n",
    "    R = create_matrix(n, m)\n",
    "    for i in range(n):\n",
    "        for j in range(m):\n",
    "            for k in range(n):\n",
    "                R[i][j] += A[i][k] * B[k][j]\n",
    "    return R\n"
   ]
  },
  {
   "cell_type": "markdown",
   "metadata": {},
   "source": [
    "<h3>Решение системы ЛУ при треугольных матрицах"
   ]
  },
  {
   "cell_type": "code",
   "execution_count": 5,
   "metadata": {},
   "outputs": [],
   "source": [
    "# Используется для решения СЛАУ\n",
    "def solution(A, q, b):\n",
    "    # q определяет A - это нижняя треугольная матрица или верхняя\n",
    "    n = len(A)\n",
    "    x = []\n",
    "    if q:\n",
    "        for i in range(n):\n",
    "            x.append([0] * len(b[i]))\n",
    "            for k in range(len(b[i])):\n",
    "                for j in range(i+1):\n",
    "                    if i == j:\n",
    "                        x[i][k] += b[i][k] / A[i][i]\n",
    "                    else:\n",
    "                        x[i][k] -= A[i][j] * x[j][k] / A[i][i]\n",
    "    else:\n",
    "        for i in range(n):\n",
    "            x.append([0] * len(b[i]))\n",
    "        for i in range(n-1, -1, -1):\n",
    "            for k in range(len(b[i])):\n",
    "                for j in range(n-1, i-1, -1):\n",
    "                    if i == j:\n",
    "                        x[i][k] += b[i][k] / A[i][i]\n",
    "                    else:\n",
    "                        x[i][k] -= A[i][j] * x[j][k] / A[i][i]\n",
    "    return x\n"
   ]
  },
  {
   "cell_type": "markdown",
   "metadata": {},
   "source": [
    "<h2>LU разложение</h2>"
   ]
  },
  {
   "cell_type": "code",
   "execution_count": 6,
   "metadata": {},
   "outputs": [],
   "source": [
    "# Используется для решения СЛАУ\n",
    "def LU(A):  # Собственно реализация LU разложения\n",
    "    U = []\n",
    "    for i in A:\n",
    "        U.append(i.copy())\n",
    "    n = len(A)\n",
    "    L = create_matrix(n, n)\n",
    "    for i in range(n):\n",
    "        for j in range(n):\n",
    "            # Выбор главного элемента\n",
    "            m = j\n",
    "            for k in range(j+1, n):\n",
    "                if U[i][k] > U[i][m]:\n",
    "                    m = k\n",
    "            if m != j:\n",
    "                for k in range(n):\n",
    "                    x = U[i][m]\n",
    "                    U[i][m] = U[i][j]\n",
    "                    U[i][j] = x\n",
    "\n",
    "            U[0][i] = A[0][i]\n",
    "            L[i][0] = A[i][0] / U[0][0]\n",
    "            sum = 0\n",
    "            for k in range(i):\n",
    "                sum += L[i][k] * U[k][j]\n",
    "            U[i][j] = A[i][j] - sum\n",
    "            if (i > j):\n",
    "                L[j][i] = 0\n",
    "            else:\n",
    "                sum = 0\n",
    "                for k in range(i):\n",
    "                    sum += L[j][k] * U[k][i]\n",
    "                L[j][i] = (A[j][i] - sum) / U[i][i]\n",
    "    return L, U\n"
   ]
  },
  {
   "cell_type": "markdown",
   "metadata": {},
   "source": [
    "<h1>TEST"
   ]
  },
  {
   "cell_type": "code",
   "execution_count": 7,
   "metadata": {},
   "outputs": [],
   "source": [
    "from math import cos, sin, asin\n",
    "def f(x,y):\n",
    "    return 0.8-cos(y-1)\n",
    "def g(x,y):\n",
    "    return 2+cos(x)\n",
    "def F(x,y):\n",
    "    return f(x,y)**2+g(x,y)**2\n",
    "\n",
    "def ff(x):\n",
    "    return cos(x)-1.2\n",
    "def gg(x):\n",
    "    try:\n",
    "        return asin(2*x-2)+0.5\n",
    "    except:\n",
    "        return None\n",
    "\n",
    "def jacobian(x,y):\n",
    "    A = [[0, sin(y-1)], \n",
    "         [-sin(x), 0]]\n",
    "    return cubic_norm(A)\n",
    "def fsh(x,y):\n",
    "    return sin(y-1)\n",
    "\n",
    "def gsh(x,y):\n",
    "    return -sin(x)\n",
    "\n",
    "\n",
    "\n",
    "\n",
    "x0 = 0.9\n",
    "y0 = 2.6\n",
    "e = 10 **(-10)"
   ]
  },
  {
   "cell_type": "markdown",
   "metadata": {},
   "source": [
    "<h2> Вариант 24"
   ]
  },
  {
   "cell_type": "code",
   "execution_count": 25,
   "metadata": {},
   "outputs": [],
   "source": [
    "from math import cos, sin, asin, acos, pi\n",
    "\n",
    "# Основные функции f & g\n",
    "def f(x,y):\n",
    "    return cos(x)+y-1.2\n",
    "def g(x,y):\n",
    "    return 2*x-sin(y-0.5)-2\n",
    "# F для метода градиентного спуска\n",
    "def F(x,y):\n",
    "    return f(x,y)**2+g(x,y)**2\n",
    "# преобразованные функции для графиков\n",
    "def ff(x):\n",
    "    return 1.2 - cos(x)\n",
    "def gg(x):\n",
    "    return 1 + sin(x-0.5) / 2\n",
    "# Собственно, Якобиан\n",
    "def jac(x,y):\n",
    "    return [[-sin(x), 1], [2, -cos(y-0.5)]]\n",
    "def jacobian(x,y):\n",
    "    return cubic_norm(jac(x,y))\n",
    "# Функции для преобразования x & y\n",
    "def pfix(x,y):\n",
    "    return sin(y-0.5)/2 +1\n",
    "def pfiy(x,y):\n",
    "    return 1.2-cos(x)\n",
    "def Fsh_x(x,y):\n",
    "    return -2*sin(x)*cos(x)-2*y*sin(x)+2.4*sin(x)-4*sin(y-0.5)+8*x-8\n",
    "def Fsh_y(x,y):\n",
    "    return 2*cos(x)+2*y-2.4+cos(y-0.5)*(-4*x+4+2*sin(y-0.5))\n",
    "\n",
    "# Начальные значения и точность\n",
    "x0, y0 = 1.139, 0.78\n",
    "e = 10 **(-12)\n",
    "arr1 = 0\n",
    "arr2 = 2\n",
    "q = -1\n",
    "xid, yid = 1.1388173974691207, 0.7813312360330628"
   ]
  },
  {
   "cell_type": "markdown",
   "metadata": {},
   "source": [
    "<h2> Вариант 25"
   ]
  },
  {
   "cell_type": "code",
   "execution_count": 20,
   "metadata": {},
   "outputs": [],
   "source": [
    "from math import cos, sin\n",
    "# Основные функции f & g\n",
    "def g(x,y):\n",
    "    return cos(y+0.5)+x-0.8\n",
    "def f(x,y):\n",
    "    return sin(x)-2*y-1.6\n",
    "# F для метода градиентного спуска\n",
    "def F(x,y):\n",
    "    return f(x,y)**2+g(x,y)**2\n",
    "# преобразованные функции для графиков\n",
    "def gg(x):\n",
    "    return 0.8 - cos(x+0.5)\n",
    "def ff(x):\n",
    "    return (sin(x)-1.6)/2\n",
    "    \n",
    "# Собственно, Якобиан\n",
    "def jac(x,y):\n",
    "    return [[1, -sin(y+0.5)], [cos(x), -2]]\n",
    "def jacobian(x,y):\n",
    "    return cubic_norm(jac(x,y))\n",
    "# Функции для преобразования x & y\n",
    "def pfix(x,y):\n",
    "    return (0.8 - cos(y + 0.5))\n",
    "def pfiy(x,y):\n",
    "    return (sin(x) / 2 - 0.8)\n",
    "def Fsh_x(x,y):\n",
    "    return 2*cos(y+0.5)+2*x-1.6+ cos(x)*(2*sin(x)-4*y-3.2)\n",
    "def Fsh_y(x,y):\n",
    "    return 2*sin(y+0.5)*(-cos(y+0.5)-2*x+1.6)-4*sin(x)+8*y+6.4\n",
    "\n",
    "x0, y0 = -0.13, -0.9\n",
    "e = 10 **(-12)\n",
    "arr1 = -2\n",
    "arr2 = 3\n",
    "q = 1\n",
    "xid, yid = -0.13355832611734098, -0.8665808075387158"
   ]
  },
  {
   "cell_type": "markdown",
   "metadata": {},
   "source": [
    "<h1>Метод Ньютона"
   ]
  },
  {
   "cell_type": "code",
   "execution_count": 27,
   "metadata": {},
   "outputs": [
    {
     "name": "stdout",
     "output_type": "stream",
     "text": [
      "1.1389261490878246 , 0.781711423975126 7.385091217539824e-05 0.00171142397512605\n",
      "1.1388024113129298 , 0.7816760825238437 0.00012373777489474693 -3.534145128231169e-05\n",
      "1.1387922600995626 , 0.7813240559407026 1.0151213367309516e-05 -0.00035202658314104627\n",
      "1.1388153395353937 , 0.7812597199347576 -2.307943583123124e-05 -6.433600594501746e-05\n",
      "1.1388220760637515 , 0.7813181916427503 -6.736528357848329e-06 5.8471707992688e-05\n",
      "1.1388187634755171 , 0.781343088724911 3.3125882343123457e-06 2.4897082160668516e-05\n",
      "1.1388167256781612 , 0.7813362846383252 2.037797355992638e-06 -6.804086585811364e-06\n",
      "1.1388169842157145 , 0.7813298561440892 -2.585375534695217e-07 -6.428494235879515e-06\n",
      "1.1388174498975363 , 0.7813299323747663 -4.656818217242542e-07 7.623067707194733e-08\n",
      "1.13881749190354 , 0.7813312514917191 -4.200600387662515e-08 1.3191169527474194e-06\n",
      "1.1388174059874754 , 0.781331503533367 8.591606477788116e-08 2.5204164792526863e-07\n",
      "1.1388173800462824 , 0.781331287144314 2.594119299583304e-08 -2.163890530200543e-07\n",
      "1.1388173922085358 , 0.781331192151723 -1.216225344713803e-08 -9.499259097226599e-08\n",
      "1.1388173999354887 , 0.7813312167696262 -7.726952834209687e-09 2.461790327942181e-08\n",
      "1.13881739903606 , 0.7813312410252963 8.994287568563385e-10 2.4255670082810513e-08\n",
      "1.1388173972867266 , 0.781331240951841 1.7493333886200497e-09 -7.34552325208012e-11\n",
      "1.1388173971143754 , 0.7813312360181677 1.7235128572383884e-10 -4.933673341274836e-09\n",
      "1.1388173974341695 , 0.7813312350325697 -3.19794194285477e-10 -9.855979414874013e-10\n",
      "1.1388173975339713 , 0.7813312358331945 -9.980177248322084e-11 8.006247393494809e-10\n",
      "1.1388173974893594 , 0.7813312361954208 4.4611905995837075e-11 3.622262467294386e-10\n",
      "1.1388173974600737 , 0.7813312361065194 2.928578197185953e-11 -8.890138421963249e-11\n",
      "1.1388173974631817 , 0.7813312360150351 -3.107914305485659e-12 -9.148438488575402e-11\n",
      "1.1388173974697506 , 0.7813312360145115 -6.568902341041594e-12 -5.236073078784703e-13\n",
      "1.1388173974704527 , 0.7813312360329564 -7.021506613103933e-13 1.8444862939047515e-11\n",
      "1.1388173974692628 , 0.7813312360368042 1.1900291560192615e-12 3.847831769205275e-12\n",
      "1.1388173974688791 , 0.7813312360338432 3.835939821356605e-13 -2.960996131653634e-12\n",
      "1.1388173974690425 , 0.7813312360324627 -1.6341776640453164e-13 -1.3805315617414007e-12\n",
      "1.1388173974691536 , 0.7813312360327829 -1.1097436389420664e-13 3.2021642169486787e-13\n"
     ]
    }
   ],
   "source": [
    "def b(x,y):\n",
    "    return [[g(x,y)], [f(x,y)]]\n",
    "\n",
    "x,y = x0,y0\n",
    "prevx,  prevy = 0, 0\n",
    "while abs(prevx - x) >= e or abs(prevy - y) >= e:\n",
    "    w = jac(x,y)\n",
    "    L,U = LU(w)\n",
    "    Y = solution(L, True, b(x,y))\n",
    "    X = solution(U, False, Y)\n",
    "    prevx, prevy = x, y\n",
    "    x -= X[0][0]\n",
    "    y -= q * X[1][0]\n",
    "    print(x, \",\", y, X[0][0], X[1][0])\n"
   ]
  },
  {
   "cell_type": "markdown",
   "metadata": {},
   "source": [
    "<h1>Метод простой итерации"
   ]
  },
  {
   "cell_type": "code",
   "execution_count": 29,
   "metadata": {},
   "outputs": [
    {
     "name": "stdout",
     "output_type": "stream",
     "text": [
      "\n",
      " Метод простой итерации \n",
      " Fi1(x,y)=cos(x)+y-1.2\n",
      " Fi2(x,y)=2*x-sin(y-0.5)-2\n",
      " Якобиан \n",
      "|-sin(x)     1      |\n",
      "|   2    -cos(y-0.5)|\n",
      "\n",
      "Значение \n",
      "|-0.9080723847057184           1        |\n",
      "|        2           -0.9606406373319826|\n",
      "Norma=2.9606406373319825\n",
      "\n",
      "Itr             x                y               Норма невязки            Погрешность             Норма якобиана\n",
      "1  |1.1388970535202263  |0.7807505003391549  |9.409755472655297e-07    |0.0007465711550446175 |2.9608477626646765  |\n",
      "2  |1.1385384215500212  |0.7814035761288247  |4.997528059983296e-07    |0.000653075789669777  |2.9606666055948176  |\n",
      "3  |1.1388521451895248  |0.7810779034126438  |1.7905394137206524e-07   |0.00032567271618089144|2.9607569953583064  |\n",
      "4  |1.1386957063773782  |0.7813627920463037  |9.509287559471754e-08    |0.00028488863365982997|2.9606779307105513  |\n",
      "5  |1.1388325551209921  |0.781220726705422   |3.407147628801826e-08    |0.00014206534088168077|2.9607173676044853  |\n",
      "6  |1.1387643142013715  |0.7813450013361611  |1.8094619497421705e-08   |0.0001242746307391629 |2.960682870418012   |\n",
      "7  |1.138824009527719   |0.7812830296365998  |6.4833381322280315e-09   |6.197169956134729e-05 |2.9607000748928747  |\n",
      "8  |1.1387942416860521  |0.7813372407105814  |3.4431404268446883e-09   |5.4211073981624835e-05|2.9606850251114016  |\n",
      "9  |1.1388202817735094  |0.7813102074753381  |1.233691797312047e-09    |2.7033235243334452e-05|2.9606925302830356  |\n",
      "10 |1.138807296510647   |0.7813338553841442  |6.551815749497507e-10    |2.364790880615697e-05 |2.9606859650098363  |\n",
      "11 |1.1388186556565072  |0.7813220629799679  |2.3475497541035616e-10   |1.1792404176369509e-05|2.9606892389544286  |\n",
      "12 |1.1388129912482623  |0.7813323786424455  |1.246721185669149e-10    |1.0315662477666798e-05|2.9606863750073833  |\n",
      "13 |1.138817946313844   |0.7813272345760682  |4.4670723624325466e-11   |5.144066377305023e-06 |2.9606878031721333  |\n",
      "14 |1.1388154753947668  |0.7813317344604314  |2.3723421172320156e-11   |4.499884363129425e-06 |2.9606865538552327  |\n",
      "15 |1.138817636885373   |0.7813294905231309  |8.500240104265628e-12    |2.2439373004168317e-06|2.960687176848961   |\n",
      "16 |1.1388165590248276  |0.7813314534563144  |4.514248228951826e-12    |1.9629331834414288e-06|2.96068663187185    |\n",
      "17 |1.1388175019069293  |0.7813304746092381  |1.6174818247594566e-12   |9.788470762828183e-07 |2.960686903633601   |\n",
      "18 |1.1388170317242123  |0.781331330877114   |8.590008899420976e-13    |8.562678759371778e-07 |2.9606866659041193  |\n",
      "19 |1.1388174430268285  |0.7813309038858715  |3.0778512650420993e-13   |4.26991242585828e-07  |2.9606867844516964  |\n",
      "20 |1.1388172379244195  |0.7813312774057956  |1.6345635732569008e-13   |3.735199241017284e-07 |2.960686680749621   |\n",
      "21 |1.1388174173422372  |0.7813310911443012  |5.85673875591506e-14     |1.862614943393126e-07 |2.9606867324622836  |\n",
      "22 |1.1388173278727662  |0.7813312540806159  |3.110355524056558e-14    |1.629363146626872e-07 |2.9606866872255035  |\n",
      "23 |1.1388174061381424  |0.7813311728298997  |1.114458951763044e-14    |8.125071615516788e-08 |2.9606867097835274  |\n",
      "24 |1.1388173671099011  |0.7813312439057403  |5.918590054229971e-15    |7.107584054644178e-08 |2.960686690050403   |\n",
      "25 |1.1388174012507086  |0.7813312084626718  |2.1206661740952094e-15   |3.544306848013434e-08 |2.9606866998906316  |\n",
      "26 |1.1388173842258664  |0.7813312394672709  |1.1262284293853873e-15   |3.1004599110318054e-08|2.9606866912826764  |\n",
      "27 |1.1388173991187194  |0.7813312240063475  |4.03534384681801e-16     |1.546092343041039e-08 |2.9606866955751667  |\n",
      "28 |1.1388173916921676  |0.7813312375311283  |2.1430619989283445e-16   |1.3524780850815432e-08|2.960686691820217   |\n",
      "29 |1.1388173981887062  |0.7813312307867868  |7.678719569606574e-17    |6.744341529696385e-09 |2.960686693692681   |\n",
      "30 |1.1388173949491065  |0.781331236686547   |4.0779602920174304e-17   |5.89976023590566e-09  |2.9606866920547024  |\n",
      "31 |1.1388173977830172  |0.7813312337445402  |1.4611573836149347e-17   |2.9420068603513982e-09|2.960686692871506   |\n",
      "32 |1.1388173963698438  |0.781331236318125   |7.759811199809698e-18    |2.5735847897223607e-09|2.960686692156989   |\n",
      "33 |1.138817397606048   |0.7813312350347671  |2.7803869582128912e-18   |1.2833578644233512e-09|2.9606866925132937  |\n",
      "34 |1.1388173969895956  |0.7813312361574124  |1.4765880348493695e-18   |1.1226453100476874e-09|2.9606866922016084  |\n",
      "35 |1.138817397528851   |0.7813312355975879  |5.290704798083266e-19    |5.598245200744145e-10 |2.960686692357035   |\n",
      "36 |1.138817397259943   |0.7813312360873067  |2.809750265699679e-19    |4.897188210506442e-10 |2.9606866922210724  |\n",
      "37 |1.138817397495176   |0.7813312358431008  |1.0067501745440384e-19   |2.442058777418765e-10 |2.9606866922888724  |\n",
      "38 |1.1388173973778732  |0.7813312360567253  |5.3465968358353236e-20   |2.136244514616692e-10 |2.9606866922295625  |\n",
      "39 |1.1388173974804865  |0.781331235950198   |1.9157186682347854e-20   |1.0652723148041332e-10|2.9606866922591384  |\n",
      "40 |1.1388173974293168  |0.7813312360433851  |1.0173850324364244e-20   |9.318701366112236e-11 |2.960686692233266   |\n",
      "41 |1.1388173974740785  |0.7813312359969158  |3.6453705052721304e-21   |4.646927287410563e-11 |2.960686692246168   |\n",
      "42 |1.1388173974517573  |0.7813312360375657  |1.935966340948488e-21    |4.0649927868230407e-11|2.960686692234882   |\n",
      "43 |1.1388173974712832  |0.7813312360172949  |6.936602188759161e-22    |2.0270785050513496e-11|2.96068669224051    |\n",
      "44 |1.1388173974615463  |0.7813312360350272  |3.6838964772976296e-22   |1.7732260104708075e-11|2.960686692235587   |\n",
      "45 |1.138817397470064   |0.7813312360261848  |1.3199720902579493e-22   |8.84237127962706e-12  |2.960686692238042   |\n",
      "46 |1.1388173974658165  |0.78133123603392    |7.010145740987366e-23    |7.73514585716839e-12  |2.9606866922358943  |\n",
      "47 |1.1388173974695321  |0.7813312360300626  |2.5120531483018078e-23   |3.857358876757644e-12 |2.9606866922369655  |\n",
      "48 |1.1388173974676792  |0.781331236033437   |1.3341671245574323e-23   |3.3744118610457008e-12|2.9606866922360284  |\n",
      "49 |1.1388173974693     |0.7813312360317543  |4.7796116385770275e-24   |1.6827650384243498e-12|2.9606866922364956  |\n",
      "50 |1.1388173974684919  |0.7813312360332263  |2.5382122245835764e-24   |1.472044708350495e-12 |2.960686692236087   |\n",
      "51 |1.1388173974691989  |0.7813312360324922  |9.09686785769188e-25     |7.340794638821535e-13 |2.9606866922362904  |\n"
     ]
    }
   ],
   "source": [
    "def q(x,y):\n",
    "    return (pfix(x,y), pfiy(x,y))\n",
    "\n",
    "prevx, prevy =  x0, y0\n",
    "x, y = q(x0, y0)\n",
    "\n",
    "print(\"\"\"\n",
    " Метод простой итерации \n",
    " Fi1(x,y)=cos(x)+y-1.2\n",
    " Fi2(x,y)=2*x-sin(y-0.5)-2\n",
    " Якобиан \n",
    "|-sin(x)     1      |\n",
    "|   2    -cos(y-0.5)|\"\"\")\n",
    "print(\"\"\"\n",
    "Значение \n",
    "|-0.9080723847057184           1        |\n",
    "|        2           -0.9606406373319826|\n",
    "Norma={}\"\"\".format(jacobian(x,y)))\n",
    "print(\"\"\"\n",
    "Itr             x                y               Норма невязки            Погрешность             Норма якобиана\"\"\")\n",
    "i = 0\n",
    "\n",
    "\n",
    "\n",
    "while abs(prevx - x) >= e or abs(prevy - y) >= e:\n",
    "    i+=1\n",
    "    prevx, prevy = x,y\n",
    "    x,y = q(x,y,)\n",
    "    print(\"\"\"{:<3}|{:<20}|{:<20}|{:<25}|{:<22}|{:<20}|\"\"\".format(i, x, y, F(x,y),max(abs(prevx - x), abs(prevy - y)),  jacobian(x,y)))\n",
    "lx, ly = x, y\n"
   ]
  },
  {
   "cell_type": "markdown",
   "metadata": {},
   "source": [
    "<h1>Метод градиентного спуска"
   ]
  },
  {
   "cell_type": "code",
   "execution_count": 28,
   "metadata": {},
   "outputs": [
    {
     "name": "stdout",
     "output_type": "stream",
     "text": [
      "1  |1.138273692761154   |0.7801596575514891  |4.609895028631474e-07    |0.0007263072388459246 |2.9610113037958605  |\n",
      "2  |1.138165558828768   |0.780223513634951   |3.233828319535549e-07    |0.0001081339323860675 |2.960993645049366   |\n",
      "3  |1.138172022699117   |0.7804136046414586  |2.773211268929787e-07    |0.0001900910065075756 |2.9609410541317915  |\n",
      "4  |1.1382528161050547  |0.7804397228873979  |2.1784011516505744e-07   |8.07934059376958e-05  |2.960933825497931   |\n",
      "5  |1.1383785698901634  |0.7807352106502761  |1.3205816800878588e-07   |0.0002954877628781327 |2.960851998971092   |\n",
      "6  |1.1384458602912895  |0.7807500368235565  |9.355418718409734e-08    |6.729040112607443e-05 |2.960847891094012   |\n",
      "7  |1.1384921006487543  |0.7808116680370281  |7.318085735406273e-08    |6.163121347158018e-05 |2.960830812714561   |\n",
      "8  |1.1386161960952759  |0.7813489727253415  |2.161106955099069e-07    |0.000537304688313478  |2.9606817677620976  |\n",
      "9  |1.1387757118920105  |0.7813252141037497  |7.03298539571213e-09     |0.0001595157967346772 |2.960688364115823   |\n",
      "10 |1.138804474559293   |0.7813213100653918  |2.692934488472191e-10    |2.876266728235599e-05 |2.9606894479828054  |\n",
      "11 |1.138809828255912   |0.7813209459494739  |3.926300163755488e-11    |5.353696619136983e-06 |2.960689549070518   |\n",
      "12 |1.1388109850307646  |0.7813212026583704  |2.7874252319179435e-11   |1.1567748525731503e-06|2.960689477801702   |\n",
      "13 |1.1388117814727594  |0.7813222660490888  |2.1812339671904332e-11   |1.0633907184809388e-06|2.960689182577145   |\n",
      "14 |1.1388139250852913  |0.7813315453193761  |6.443527063244685e-11    |9.279270287265717e-06 |2.960686606367444   |\n",
      "15 |1.1388166795211572  |0.7813311349795485  |2.095964142923631e-12    |2.7544358658371237e-06|2.960686720292099   |\n",
      "16 |1.1388171760778636  |0.7813310674621128  |7.992549269314214e-14    |4.965567064196819e-07 |2.9606867390372797  |\n",
      "17 |1.1388172684491806  |0.7813310610691055  |1.1432149843144405e-14   |9.237131703976331e-08 |2.9606867408122     |\n",
      "18 |1.1388172883588576  |0.7813310653992098  |8.066842266509639e-15    |1.9909677018148386e-08|2.960686739610013   |\n",
      "19 |1.1388173019886925  |0.7813310835092144  |6.305839682590449e-15    |1.8110004607052588e-08|2.9606867345820485  |\n",
      "20 |1.1388173383610265  |0.781331241064108   |1.858796094650324e-14    |1.575548935761617e-07 |2.960686690839339   |\n",
      "21 |1.1388173851446508  |0.7813312341037125  |6.054348106877987e-16    |4.678362430787786e-08 |2.960686692771787   |\n",
      "22 |1.1388173935826118  |0.7813312329651282  |2.350034789011876e-17    |8.43796099658789e-09  |2.9606866930878977  |\n",
      "23 |1.138817395156134   |0.7813312328643104  |3.643208675583063e-18    |1.5735222014257033e-09|2.960686693115888   |\n",
      "24 |1.1388173954988652  |0.7813312329453093  |2.6350331044776222e-18   |3.42731176772304e-10  |2.9606866930934     |\n",
      "25 |1.1388173959795433  |0.7813312340220114  |1.5299221900404885e-18   |1.0767021718649517e-09|2.96068669279447    |\n",
      "26 |1.13881739621337    |0.7813312340710626  |1.0677029328212118e-18   |2.338267357515633e-10 |2.9606866927808517  |\n",
      "27 |1.1388173963718498  |0.781331234279821   |8.330271919712665e-19    |2.0875834394473713e-10|2.960686692722893   |\n",
      "28 |1.1388173967883493  |0.7813312360861857  |2.446093773744352e-18    |1.8063647244659364e-09|2.9606866922213833  |\n",
      "29 |1.1388173973250428  |0.7813312360065263  |7.987082686853627e-20    |5.366935784678617e-10 |2.9606866922435     |\n",
      "30 |1.1388173974219253  |0.781331235993634   |3.205289203127785e-21    |9.688250202088966e-11 |2.960686692247079   |\n",
      "31 |1.138817397440072   |0.781331235992638   |5.682577789931286e-22    |1.8146595337498184e-11|2.9606866922473554  |\n",
      "32 |1.138817397444098   |0.7813312359937212  |4.262158034439656e-22    |4.026112776500668e-12 |2.9606866922470547  |\n",
      "33 |1.1388173974499778  |0.7813312360071505  |2.520680471850608e-22    |1.3429257705865894e-11|2.9606866922433266  |\n",
      "34 |1.1388173974529525  |0.7813312360077881  |1.7706866960981813e-22   |2.9747315721806444e-12|2.9606866922431494  |\n",
      "35 |1.1388173974549807  |0.7813312360104735  |1.3831145829413346e-22   |2.6854074519633286e-12|2.9606866922424038  |\n",
      "36 |1.1388173974603597  |0.7813312360337851  |4.071005389080301e-22    |2.3311574892659337e-11|2.9606866922359316  |\n",
      "37 |1.1388173974672833  |0.7813312360327559  |1.3272331358081528e-23   |6.923572826167401e-12 |2.9606866922362176  |\n",
      "38 |1.1388173974685325  |0.7813312360325882  |5.216993546020748e-25    |1.2492229473082261e-12|2.960686692236264   |\n",
      "39 |1.1388173974687659  |0.7813312360325742  |8.517666459555983e-26    |2.333688797762079e-13 |2.960686692236268   |\n"
     ]
    }
   ],
   "source": [
    "prevx, prevy =  0, 0\n",
    "x, y = x0, y0\n",
    "def alp(x,y):\n",
    "    a_min = 20\n",
    "    F_min = F(x,y)\n",
    "    a = a_min\n",
    "    for i in range(150):\n",
    "        FF = F(x - a * Fsh_x(x,y), y - a * Fsh_y(x,y))\n",
    "        if FF < F_min:\n",
    "            F_min = FF\n",
    "            a_min = a\n",
    "        a /= 2\n",
    "    return a_min\n",
    "i = 0\n",
    "while abs(prevx - x) >= e or abs(prevy - y) >= e:\n",
    "    i+=1\n",
    "    alpha = alp(x,y)\n",
    "    prevx, prevy = x,y\n",
    "    x -= alpha * Fsh_x(x,y)\n",
    "    y -= alpha * Fsh_y(x,y)\n",
    "    print(\"\"\"{:<3}|{:<20}|{:<20}|{:<25}|{:<22}|{:<20}|\"\"\".format(i, x, y, F(x,y),max(abs(prevx - x), abs(prevy - y)),  jacobian(x,y)))\n",
    "lx, ly = x, y"
   ]
  },
  {
   "cell_type": "markdown",
   "metadata": {},
   "source": [
    "<h2>График функций"
   ]
  },
  {
   "cell_type": "code",
   "execution_count": 30,
   "metadata": {},
   "outputs": [
    {
     "data": {
      "image/png": "[encoded data removed]",
      "text/plain": [
       "<Figure size 640x480 with 1 Axes>"
      ]
     },
     "metadata": {},
     "output_type": "display_data"
    }
   ],
   "source": [
    "import numpy as np\n",
    "import matplotlib.pyplot as plt\n",
    "x = np.arange(arr1, arr2, 0.01)\n",
    "y1=[]\n",
    "y2=[]\n",
    "dx=0\n",
    "dy=0\n",
    "fi=10000\n",
    "for i in x:\n",
    "    y1.append(ff(i))\n",
    "    y2.append(gg(i))\n",
    "for i in enumerate(x):\n",
    "    for j in enumerate(x):\n",
    "        if (y1[i[0]] - j[1]) ** 2 + (y2[j[0]] - i[1]) ** 2  < fi:\n",
    "            fi = (y1[i[0]] - j[1]) ** 2 + (y2[j[0]] - i[1]) ** 2\n",
    "            dx = i[1]\n",
    "            dy = y1[i[0]]\n",
    "plt.plot(x, y1, y2, x, dx, dy, lx, ly,\"ro\")\n",
    "plt.show()"
   ]
  },
  {
   "cell_type": "code",
   "execution_count": null,
   "metadata": {},
   "outputs": [],
   "source": []
  }
 ],
 "metadata": {
  "kernelspec": {
   "display_name": "Python 3.10.7 64-bit",
   "language": "python",
   "name": "python3"
  },
  "language_info": {
   "codemirror_mode": {
    "name": "ipython",
    "version": 3
   },
   "file_extension": ".py",
   "mimetype": "text/x-python",
   "name": "python",
   "nbconvert_exporter": "python",
   "pygments_lexer": "ipython3",
   "version": "3.10.7"
  },
  "orig_nbformat": 4,
  "vscode": {
   "interpreter": {
    "hash": "26de051ba29f2982a8de78e945f0abaf191376122a1563185a90213a26c5da77"
   }
  }
 },
 "nbformat": 4,
 "nbformat_minor": 2
}
