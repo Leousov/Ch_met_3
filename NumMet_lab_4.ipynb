{
 "cells": [
  {
   "cell_type": "markdown",
   "metadata": {},
   "source": [
    "<h2>LU разложение</h2>"
   ]
  },
  {
   "cell_type": "code",
   "execution_count": 69,
   "metadata": {},
   "outputs": [],
   "source": [
    "def create_I_matrix(x):  # x - размерность матрицы\n",
    "    A = []\n",
    "    for i in range(x):\n",
    "        A.append([0]*x)\n",
    "        A[i][i] = 1\n",
    "    return A\n",
    "def solution(A, q, b):\n",
    "    # q определяет A - это нижняя треугольная матрица или верхняя\n",
    "    n = len(A)\n",
    "    x = []\n",
    "    if q:\n",
    "        for i in range(n):\n",
    "            x.append([0] * len(b[i]))\n",
    "            for k in range(len(b[i])):\n",
    "                for j in range(i+1):\n",
    "                    if i == j:\n",
    "                        x[i][k] += b[i][k] / A[i][i]\n",
    "                    else:\n",
    "                        x[i][k] -= A[i][j] * x[j][k] / A[i][i]\n",
    "    else:\n",
    "        for i in range(n):\n",
    "            x.append([0] * len(b[i]))\n",
    "        for i in range(n-1, -1, -1):\n",
    "            for k in range(len(b[i])):\n",
    "                for j in range(n-1, i-1, -1):\n",
    "                    if i == j:\n",
    "                        x[i][k] += b[i][k] / A[i][i]\n",
    "                    else:\n",
    "                        x[i][k] -= A[i][j] * x[j][k] / A[i][i]\n",
    "    return x\n",
    "\n",
    "\n",
    "def create_matrix(x, y):  # x - размерность матрицы\n",
    "    A = []\n",
    "    for i in range(x):\n",
    "        A.append([0]*y)\n",
    "    return A\n",
    "def matrix_product(A, B):\n",
    "    n = len(A)\n",
    "    m = len(B[0])\n",
    "    R = create_matrix(n, m)\n",
    "    for i in range(n):\n",
    "        for j in range(m):\n",
    "            for k in range(n):\n",
    "                R[i][j] += A[i][k] * B[k][j]\n",
    "    return R\n",
    "\n",
    "def LU(A):  # Собственно реализация LU разложения\n",
    "    U = []\n",
    "    for i in A:\n",
    "        U.append(i.copy())\n",
    "    n = len(A)\n",
    "    L = create_matrix(n, n)\n",
    "    for i in range(n):\n",
    "        for j in range(n):\n",
    "            # Выбор главного элемента\n",
    "            m = j\n",
    "            for k in range(j+1, n):\n",
    "                if U[i][k] > U[i][m]:\n",
    "                    m = k\n",
    "            if m != j:\n",
    "                for k in range(n):\n",
    "                    x = U[i][m]\n",
    "                    U[i][m] = U[i][j]\n",
    "                    U[i][j] = x\n",
    "\n",
    "            U[0][i] = A[0][i]\n",
    "            L[i][0] = A[i][0] / U[0][0]\n",
    "            sum = 0\n",
    "            for k in range(i):\n",
    "                sum += L[i][k] * U[k][j]\n",
    "            U[i][j] = A[i][j] - sum\n",
    "            if (i > j):\n",
    "                L[j][i] = 0\n",
    "            else:\n",
    "                sum = 0\n",
    "                for k in range(i):\n",
    "                    sum += L[j][k] * U[k][i]\n",
    "                L[j][i] = (A[j][i] - sum) / U[i][i]\n",
    "    return L, U\n"
   ]
  },
  {
   "cell_type": "markdown",
   "metadata": {},
   "source": [
    "<h5>Метод половинного деления"
   ]
  },
  {
   "cell_type": "code",
   "execution_count": 70,
   "metadata": {},
   "outputs": [],
   "source": [
    "from numpy import sign\n",
    "def half(a,b,f,e):\n",
    "    sign_fa = sign(f(a))\n",
    "    sign_fc = 0\n",
    "    while e < (b-a):\n",
    "        c = (a + b)  / 2\n",
    "        sign_fc = sign(f(c))\n",
    "        if sign_fa * sign_fc > 0:\n",
    "            a = c\n",
    "        else:\n",
    "            b = c\n",
    "    return c"
   ]
  },
  {
   "cell_type": "markdown",
   "metadata": {},
   "source": [
    "<h1 alingn=\"center\">Вариант 24 </h1>"
   ]
  },
  {
   "cell_type": "code",
   "execution_count": 82,
   "metadata": {},
   "outputs": [],
   "source": [
    "from math import e\n",
    "import numpy as np\n",
    "import matplotlib.pyplot as plt\n",
    "def f(x):\n",
    "    return 2 * e ** x - 2 * x + 3\n",
    "def f_sh(x):\n",
    "    return 2*e**x - 2\n",
    "def M(x):\n",
    "    return 2*e**x, 2*e**x, 2*e**x\n",
    "a, b = 1, 2\n",
    "n = 5\n",
    "var = \"24\"\n",
    "# Создание таблицы (xi,fi)\n",
    "x_mas = np.arange(a, b+0.00000000000001, (b-a) / n)\n",
    "f_mas = []\n",
    "for i in x_mas:\n",
    "    f_mas.append(f(i))\n",
    "\n",
    "# Возвращает интеграл произведения функции на g[i]\n",
    "def Int_b(a,b):\n",
    "    return [\n",
    "        [\n",
    "        2 * e ** b - b**2 + 3 * b - (2 * e ** a - a**2 + 3 * a )\n",
    "        ],\n",
    "        [\n",
    "        e ** b * (2*b-2) - 2*b**3/3 + 3*b**2/2 - (e ** a * (2*a-2) - 2*a**3/3 + 3*a**2/2)\n",
    "        ],\n",
    "        [\n",
    "        e ** b * (2*b**2-4*b+4)-1/2*b**4+b**3 - (e ** a * (2*a**2-4*a+4)-1/2*a**4+a**3)\n",
    "        ]\n",
    "    ]"
   ]
  },
  {
   "cell_type": "markdown",
   "metadata": {},
   "source": [
    "<h1 alingn=\"center\">Вариант 25 </h1>"
   ]
  },
  {
   "cell_type": "code",
   "execution_count": 72,
   "metadata": {},
   "outputs": [],
   "source": [
    "from math import e, log\n",
    "import numpy as np\n",
    "import matplotlib.pyplot as plt\n",
    "def f(x):\n",
    "    return 3 ** x + 2 - x\n",
    "def f_sh(x):\n",
    "    return 3**x * log(3) - 1\n",
    "def M(x):\n",
    "    return 3**x*log(3)**6,  3**x*log(3)**5,  3**x*log(3)**4\n",
    "a, b = 1, 2\n",
    "n = 5\n",
    "var = \"25\"\n",
    "# Создание таблицы (xi,fi)\n",
    "x_mas = np.arange(a, b+0.00000000000001, (b-a) / n)\n",
    "f_mas = []\n",
    "for i in x_mas:\n",
    "    f_mas.append(f(i))\n",
    "\n",
    "# Возвращает интеграл произведения функции на g[i]\n",
    "def Int_b(a,b):\n",
    "    return [\n",
    "        [\n",
    "        3**b/log(3) - 1/2*b**2 + 2*b - (3**a/log(3) - 1/2*a**2 + 2*a)\n",
    "        ],\n",
    "        [\n",
    "        (log(3)*b-1) * 3**b/(log(3))**2 - (b-3)*b**2/3 - ((log(3)*a-1) * 3**a/(log(3))**2 - (a-3)*a**2/3)\n",
    "        ],\n",
    "        [\n",
    "        (log(3)*b*(log(3)*b-2)+2)*3**b/(log(3)**3) - b**3 * (3*b-8) / 12 - ((log(3)*a*(log(3)*a-2)+2)*3**a/(log(3)**3) - a**3 * (3*a-8) / 12)\n",
    "        ]\n",
    "    ]"
   ]
  },
  {
   "cell_type": "markdown",
   "metadata": {},
   "source": [
    "<h1>Интерполяционный метод Ньютона"
   ]
  },
  {
   "cell_type": "code",
   "execution_count": 73,
   "metadata": {},
   "outputs": [],
   "source": [
    "# Создание таблицы разделенных разностей\n",
    "def div_dif(x, y, i, j, f_dict):\n",
    "    if x[i] > x[j]:\n",
    "        x[i], x[j] = x[j], x[i]\n",
    "    if (x[i], x[j]) in f_dict:\n",
    "        return f_dict[(x[i], x[j])]\n",
    "    if i == j - 1:\n",
    "        f_dict[(x[i], x[j])] = (y[j] - y[i]) / (x[j] - x[i])\n",
    "        return f_dict[(x[i], x[j])]\n",
    "    else:\n",
    "        f_dict[(x[i], x[j])] = (div_dif(x, y, i+1, j, f_dict) - div_dif(x, y, i, j-1, f_dict)) / (x[j] - x[i])\n",
    "        return f_dict[(x[i], x[j])]\n",
    "\n",
    "def int_new_prep(x_mas, y_mas):\n",
    "    f_dict = {}\n",
    "    div_dif(x_mas, y_mas, 0, len(x_mas)-1, f_dict)\n",
    "    return f_dict\n",
    "# Интерполяция методом Ньютона\n",
    "def int_new(x_mas, y_mas, x, f_dict):\n",
    "    s = 0\n",
    "    prod = 1\n",
    "    ind = []\n",
    "    for i in enumerate(x_mas):\n",
    "        if i[0] == 0:\n",
    "            s += y_mas[0] \n",
    "        else:\n",
    "            prod *= (x - x_mas[i[0] -1])\n",
    "            ind.append((x - x_mas[i[0] -1]))\n",
    "            s += prod * f_dict[(x_mas[0], i[1])] \n",
    "    return s, ind"
   ]
  },
  {
   "cell_type": "code",
   "execution_count": 74,
   "metadata": {},
   "outputs": [
    {
     "name": "stdout",
     "output_type": "stream",
     "text": [
      "  Вариант 25\n",
      " Интерполяционная формула Ньютона \n",
      " Таблица разделенных разностей\n",
      " От                    До                     Значение\n",
      "1.7999999999999998    1.9999999999999998    7.87662972078962         \n",
      "1.5999999999999999    1.7999999999999998    6.125639605233936        \n",
      "1.5999999999999999    1.9999999999999998    4.377475288889211        \n",
      "1.4                   1.5999999999999999    4.720047065246043        \n",
      "1.4                   1.7999999999999998    3.5139813499697334       \n",
      "1.4                   1.9999999999999998    1.4391565648657958       \n",
      "1.2                   1.4                   3.5917195144976386       \n",
      "1.2                   1.5999999999999999    2.8208188768710123       \n",
      "1.2                   1.7999999999999998    1.1552707884978688       \n",
      "1.2                   1.9999999999999998    0.3548572204599088       \n",
      "1.0                   1.2                   2.6859640942327583       \n",
      "1.0                   1.4                   2.2643885506622015       \n",
      "1.0                   1.5999999999999999    0.9273838770146849       \n",
      "1.0                   1.7999999999999998    0.28485863935397987      \n",
      "1.0                   1.9999999999999998    0.06999858110592895      \n",
      "M6 = 15.823743149386038\n",
      "x                    f(x)                      Pn(x)                     Delta                     Оценка                   \n",
      "1.1                  4.248369522101713         4.248380886098829         1.13639971157653e-05      2.0768662883569127e-05   \n",
      "1.3                  4.871167510947728         4.87116360657257          3.904375158292339e-06     6.9228876278563795e-06   \n",
      "1.5                  5.696152422706632         5.696155299273397         2.876566765230848e-06     4.94491973418313e-06     \n",
      "1.7                  6.773007839923779         6.773003682984299         4.156939480637334e-06     6.922887627856385e-06    \n",
      "1.9                  8.163626138566858         8.163639020996696         1.2882429837546283e-05    2.0768662883569167e-05   \n"
     ]
    },
    {
     "data": {
      "image/png": "[encoded data removed]",
      "text/plain": [
       "<Figure size 640x480 with 1 Axes>"
      ]
     },
     "metadata": {},
     "output_type": "display_data"
    }
   ],
   "source": [
    "\n",
    "x1 = np.arange(a + (b-a) / (2 * n), b - (b-a) / (2 * n)+0.00000000000001, (b-a) / n)\n",
    "y1 = []\n",
    "for i in x1:\n",
    "    y1.append(f(i))\n",
    "fd = int_new_prep(x_mas, f_mas)\n",
    "print(\"\"\"  Вариант {}\n",
    " Интерполяционная формула Ньютона \n",
    " Таблица разделенных разностей\n",
    " От                    До                     Значение\"\"\".format(var))\n",
    "for i in fd.items():\n",
    "    print(\"{:<20}  {:<20}  {:<25}\".format(i[0][0], i[0][1],i[1]))\n",
    "mmm = M(x_mas[-1])\n",
    "print(\"M6 = {}\".format(mmm[0]))\n",
    "print(\"{:<20} {:<25} {:<25} {:<25} {:<25}\".format(\"x\",\"f(x)\",\"Pn(x)\",\"Delta\", \"Оценка\"))\n",
    "y2_new, ind_mas_new = [], []\n",
    "factorial = 1\n",
    "for i in range(len(x_mas)):\n",
    "    factorial *= i + 1\n",
    "for i in x1:\n",
    "    temp = int_new(x_mas, f_mas, i, fd)\n",
    "    ind_mas_new.append(temp[1])\n",
    "    y2_new.append(temp[0])\n",
    "    omega = 1\n",
    "    for j in range(len(x_mas)):\n",
    "        omega *= i - x_mas[j]\n",
    "    print(\"{:<20} {:<25} {:<25} {:<25} {:<25}\".format(\n",
    "        i, f(i), temp[0], abs(f(i)-temp[0]), abs(mmm[0] * omega / factorial)\n",
    "    ))\n",
    "plt.plot(x_mas, f_mas)\n",
    "plt.scatter(x1,y1)\n",
    "plt.scatter(x1,y2_new)\n",
    "plt.show()"
   ]
  },
  {
   "cell_type": "markdown",
   "metadata": {},
   "source": [
    "<h1>Метод кубических сплайнов дефекта 1"
   ]
  },
  {
   "cell_type": "code",
   "execution_count": 75,
   "metadata": {},
   "outputs": [],
   "source": [
    "# def m(h ,f_mas, i):\n",
    "#     if i == 0:\n",
    "#         return (4*f_mas[1] - f_mas[2] - 3*f_mas[0]) / (2 * h)\n",
    "#     elif i == len(f_mas)-1:\n",
    "#         return (4*f_mas[-1] - f_mas[-3] - 3*f_mas[-2]) / (2 * h)\n",
    "#     else:\n",
    "#         return (f_mas[i+1] - f_mas[i-1]) / (2 * h)\n",
    "    \n",
    "# def cubic_spline(x_mas, f_mas, x):\n",
    "#     h = x_mas[1] - x_mas[0]\n",
    "#     for i in enumerate(x_mas):\n",
    "#         if i[1] > x:\n",
    "#             a, b = i[0] - 1, i[0]\n",
    "#             break\n",
    "#     return ((f_mas[a] * (x_mas[b]-x)**2 * (2*(x-x_mas[a])+h) / h**3)\n",
    "#         + (f_mas[b] * (x-x_mas[a])**2 * (2*(x_mas[b]-x)+h) / h**3)\n",
    "#         + (m(h,f_mas,a) * (x_mas[b]-x)**2 * (x-x_mas[a]) / h**2)\n",
    "#         + (m(h,f_mas,b) * (x-x_mas[a])**2 * (x-x_mas[b]) / h**2)), (\n",
    "#         (x_mas[b]-x)**2 * (2*(x-x_mas[a])+h) / h**3, (x-x_mas[a])**2 * (2*(x_mas[b]-x)+h) / h**3,\n",
    "#           (x_mas[b]-x)**2 * (x-x_mas[a]) / h**2,(x-x_mas[a])**2 * (x-x_mas[b]) / h**2)\n",
    "\n",
    "def phi_0(tau):\n",
    "    return (1 + 2 * tau) * (1-tau)**2\n",
    "def phi_1(tau):\n",
    "    return tau * (1-tau)**2\n",
    "def s31(x, x_mas, f_mas, m):\n",
    "    h = (b - a) / n\n",
    "    i = 0\n",
    "    while x > x_mas[i]:\n",
    "        i += 1\n",
    "    i -= 1  \n",
    "    tau = (x - x_mas[i]) / (h)\n",
    "    return phi_0(tau) * f_mas[i] + phi_0(1-tau)*f_mas[i+1] + (h) * (phi_1(tau) * m[i] - phi_1(1-tau) * m[i+1])\n",
    "def cs(tri_v, f):\n",
    "    x = [0]*len(f)\n",
    "    a, c, b = tri_v\n",
    "    alpha = [0]*len(f)\n",
    "    beta = [0]*len(f)\n",
    "    alpha[1] = -b/c\n",
    "    beta[1] = f[0] / c\n",
    "    for j in range(1, len(f)-1):\n",
    "        den = c + a * alpha[j]\n",
    "        alpha[j+1] = -b / den\n",
    "        beta[j+1] = (f[j] - a * beta[j]) / den\n",
    "    \n",
    "    x[-1] = (f[-1] - a * beta[-1]) / (c + a * alpha[-1])\n",
    "    for j in range(len(f)-2, -1, -1):\n",
    "        x[j] = alpha[j+1] * x[j+1] + beta[j+1]\n",
    "    return x\n"
   ]
  },
  {
   "cell_type": "code",
   "execution_count": 76,
   "metadata": {},
   "outputs": [
    {
     "name": "stdout",
     "output_type": "stream",
     "text": [
      "   Интерполяция кубическим сплайном\n",
      "\n",
      " M5=14.403391726638862\n",
      "x[i]                 df/dx(x[i])               m[i]                      Delta                     Оценка                   \n",
      "1.1                  2.6785599039827086        4.248350772658587         1.5697908686758786        0.0003840904460437031    \n",
      "1.3                  3.5824958856203466        4.871142213365628         1.2886463277452815        0.0003840904460437031    \n",
      "1.5                  4.708556905378076         5.6961210699321265        0.9875641645540503        0.0003840904460437031    \n",
      "1.7                  6.111325957585281         6.772970078798372         0.661644121213091         0.0003840904460437031    \n",
      "1.9                  7.85879876705493          8.163573753175063         0.3047749861201332        0.0003840904460437031    \n"
     ]
    },
    {
     "data": {
      "image/png": "[encoded data removed]",
      "text/plain": [
       "<Figure size 640x480 with 1 Axes>"
      ]
     },
     "metadata": {},
     "output_type": "display_data"
    }
   ],
   "source": [
    "x1 = np.arange(a + (b-a) / (2 * n), b - (b-a) / (2 * n)+0.00000000000001, (b-a) / n)\n",
    "y1 = []\n",
    "for i in x1:\n",
    "    y1.append(f(i))\n",
    "y2_cub, ind_mas_cub = [], []\n",
    "hh = (b-a) / n\n",
    "print(\"\"\"   Интерполяция кубическим сплайном\n",
    "\n",
    " M5={}\"\"\".format(mmm[1]))\n",
    "\n",
    "m = [0]*(len(x_mas))\n",
    "res = [0]*(len(x_mas)-2)\n",
    "m[0] = f_sh(x_mas[0])\n",
    "m[-1] = f_sh(x_mas[-1])\n",
    "tri_v = [0.5, 2, 0.5]\n",
    "for i in range(len(x_mas)-2):\n",
    "    # res[i] = 1.5 / (hh) * (f_mas[i+2] - f_mas[i])\n",
    "    res[i] = 1.5 / ((x_mas[i+1] - x_mas[i])) * (f_mas[i+2] - f_mas[i])\n",
    "res[0] -= 0.5 * m[0]\n",
    "res[-1] -= 0.5 * m[-1]\n",
    "mm = cs(tri_v, res)\n",
    "mm = [m[0], *mm, m[-1]]\n",
    "\n",
    "\n",
    "print(\"{:<20} {:<25} {:<25} {:<25} {:<25}\".format(\"x[i]\",\"df/dx(x[i])\",\"m[i]\",\"Delta\", \"Оценка\"))\n",
    "for i in x1:\n",
    "    # temp = cubic_spline(x_mas, f_mas, i)\n",
    "    temp = s31(i, x_mas, f_mas, mm)\n",
    "    # ind_mas_cub.append(temp[1])\n",
    "    y2_cub.append(temp)\n",
    "    print(\"{:<20} {:<25} {:<25} {:<25} {:<25}\".format(\n",
    "        i, f_sh(i), temp, abs(abs(f_sh(i)) - abs(temp)), mmm[1] / 60 * hh**4\n",
    "    ))\n",
    "plt.plot(x_mas, f_mas)\n",
    "plt.scatter(x1,y1)\n",
    "plt.scatter(x1,y2_cub)\n",
    "plt.show()"
   ]
  },
  {
   "cell_type": "markdown",
   "metadata": {},
   "source": [
    "<h2>Среднеквадратичное приближение"
   ]
  },
  {
   "cell_type": "code",
   "execution_count": 83,
   "metadata": {},
   "outputs": [
    {
     "name": "stdout",
     "output_type": "stream",
     "text": [
      "   Среднеквадратичное приближение\n",
      "Дискретный вариант\n",
      "Матрица\n",
      "6.0                  9.0                  14.2                 \n",
      "9.0                  14.2                 23.39999999999999    \n",
      "14.2                 23.39999999999999    39.966399999999986   \n",
      "Вектор правых частей\n",
      "56.97066941155795    90.54406320432443    150.3685746381745    \n",
      "P2(x)=(8.37116721045683) + (-6.483118317266422)*x + (4.583924718606674)*x^2\n",
      "Норма погрешности = 0.09791888861331216\n",
      "x                    Погрешность              \n",
      "1.0                  -0.035409954878992345    \n",
      "1.2                  0.04795702094235921      \n",
      "1.4                  0.03110591893642578      \n",
      "1.5999999999999999   -0.02696033367341144     \n",
      "1.7999999999999998   -0.054175398837003286    \n",
      "1.9999999999999998   0.03748274751061409      \n"
     ]
    },
    {
     "data": {
      "image/png": "[encoded data removed]",
      "text/plain": [
       "<Figure size 640x480 with 1 Axes>"
      ]
     },
     "metadata": {},
     "output_type": "display_data"
    },
    {
     "name": "stdout",
     "output_type": "stream",
     "text": [
      "[[8.37116721045683], [-6.483118317266422], [4.583924718606674]]\n"
     ]
    }
   ],
   "source": [
    "from math import sqrt\n",
    "def MakeSystem( x_mas, f_mas, basis):\n",
    "    matrix = []\n",
    "    b = []\n",
    "    for i in range(basis):\n",
    "        matrix.append([])\n",
    "        b.append([0])\n",
    "        for j in range(basis):\n",
    "            matrix[i].append(0) \n",
    "    for  i in range(basis):\n",
    "        for j in range(basis):\n",
    "            sumA, sumB = 0, 0\n",
    "            for k in enumerate(x_mas):\n",
    "                sumA += k[1] ** i * k[1] ** j\n",
    "                sumB += f_mas[k[0]] * k[1] ** i\n",
    "            matrix[i][j] = sumA;\n",
    "            b[i][0] = sumB;\n",
    "    return matrix, b\n",
    "\n",
    "\n",
    "A, B = MakeSystem(x_mas, f_mas, 3)\n",
    "L, U = LU(A)\n",
    "y = solution(L, True, B)\n",
    "x = solution(U, False, y)\n",
    "x_m = np.arange(a, b+0.00000000000001, 0.001)\n",
    "f_m = []\n",
    "apr_m = []\n",
    "ff = lambda t: x[2][0] * t**2 + x[1][0] * t + x[0][0]\n",
    "print(\"\"\"   Среднеквадратичное приближение\n",
    "Дискретный вариант\n",
    "Матрица\"\"\")\n",
    "for i in A:\n",
    "    for j in i:\n",
    "        print(\"{:<20}\".format(j), end=\" \")\n",
    "    print()\n",
    "print(\"Вектор правых частей\")\n",
    "for i in B:\n",
    "    print(\"{:<20}\".format(i[0]), end=\" \")\n",
    "print(\"\\nP2(x)=({}) + ({})*x + ({})*x^2\".format(x[0][0], x[1][0],x[2][0]))\n",
    "fs = 0\n",
    "ffs = 0\n",
    "for i in x_mas:\n",
    "    fs += f(i)**2\n",
    "    ffs += ff(i)**2\n",
    "s = (fs - ffs) ** (1/2) \n",
    "print(\"Норма погрешности = {}\".format(s))\n",
    "print(\"{:<20} {:<25}\".format(\"x\",\"Погрешность\"))\n",
    "for i in x_m:\n",
    "    f_m.append(f(i))\n",
    "    apr_m.append(ff(i))\n",
    "y1 = []\n",
    "for i in x_mas:\n",
    "    y1.append(f(i))\n",
    "    print(\"{:<20} {:<25}\".format(i, f(i) - ff(i)))\n",
    "plt.plot(x_m, f_m, x_m, apr_m)\n",
    "plt.show()\n",
    "print(x)"
   ]
  },
  {
   "cell_type": "code",
   "execution_count": 84,
   "metadata": {},
   "outputs": [
    {
     "name": "stdout",
     "output_type": "stream",
     "text": [
      "Непрерывный вариант\n",
      "Матрица\n",
      "1                    1.5                  2.333333333333333    \n",
      "1.5                  2.333333333333333    3.75                 \n",
      "2.333333333333333    3.75                 6.2                  \n",
      "Вектор правых частей\n",
      "9.341548540943208    14.611445531194631   23.61966073880451    \n",
      "P2(x)=(4.562277107563822) + (-6.497358685333681)*x + (8.44227331796148)*x^2\n",
      "Норма погрешности = 0.9961100243217629\n",
      "x                    Погрешность              \n",
      "1.0                  -0.07062808327353043     \n",
      "1.2                  0.025111915020127995     \n",
      "1.4                  0.022365644369930493     \n",
      "1.5999999999999999   -0.019863968000743526    \n",
      "1.7999999999999998   -0.02951058404174489     \n",
      "1.9999999999999998   0.08144782031189202      \n"
     ]
    },
    {
     "data": {
      "image/png": "[encoded data removed]",
      "text/plain": [
       "<Figure size 640x480 with 1 Axes>"
      ]
     },
     "metadata": {},
     "output_type": "display_data"
    },
    {
     "name": "stdout",
     "output_type": "stream",
     "text": [
      "[[8.44227331796148], [-6.497358685333681], [4.562277107563822]]\n"
     ]
    }
   ],
   "source": [
    "def g_matrix(a, b):\n",
    "    return [\n",
    "        [b-a, (b**2/2)-(a**2/2), (b**3/3)-(a**3/3)],\n",
    "        [(b**2/2)-(a**2/2), (b**3/3)-(a**3/3), (b**4/4)-(a**4/4)],\n",
    "        [(b**3/3)-(a**3/3), (b**4/4)-(a**4/4), (b**5/5)-(a**5/5)]\n",
    "    ]\n",
    "\n",
    "\n",
    "A, B = g_matrix(a,b), Int_b(a,b)\n",
    "L, U = LU(A)\n",
    "y = solution(L, True, B)\n",
    "x = solution(U, False, y)\n",
    "x_m = np.arange(a, b+0.00000000000001, 0.001)\n",
    "f_m = []\n",
    "apr_m = []\n",
    "ff = lambda t: x[2][0] * t**2 + x[1][0] * t + x[0][0]\n",
    "\n",
    "print(\"\"\"Непрерывный вариант\n",
    "Матрица\"\"\")\n",
    "for i in A:\n",
    "    for j in i:\n",
    "        print(\"{:<20}\".format(j), end=\" \")\n",
    "    print()\n",
    "print(\"Вектор правых частей\")\n",
    "for i in B:\n",
    "    print(\"{:<20}\".format(i[0]), end=\" \")\n",
    "print(\"\\nP2(x)=({}) + ({})*x + ({})*x^2\".format(x[2][0], x[1][0],x[0][0]))\n",
    "fs = 0\n",
    "ffs = 0\n",
    "for i in x_mas:\n",
    "    fs += f(i)**2\n",
    "    ffs += ff(i)**2\n",
    "s = (fs - ffs) ** (1/2) \n",
    "print(\"Норма погрешности = {}\".format(s))\n",
    "print(\"{:<20} {:<25}\".format(\"x\",\"Погрешность\"))\n",
    "y1 = []\n",
    "for i in x_mas:\n",
    "    y1.append(f(i))\n",
    "    print(\"{:<20} {:<25}\".format(i, f(i) - ff(i)))\n",
    "\n",
    "for i in x_m:\n",
    "    f_m.append(f(i))\n",
    "    apr_m.append(ff(i))\n",
    "plt.plot(x_m, f_m, x_m, apr_m)\n",
    "plt.show()\n",
    "print(x)"
   ]
  },
  {
   "cell_type": "markdown",
   "metadata": {},
   "source": [
    "<h2>Равномерное приближение"
   ]
  },
  {
   "cell_type": "code",
   "execution_count": 79,
   "metadata": {},
   "outputs": [
    {
     "name": "stdout",
     "output_type": "stream",
     "text": [
      "P1(x) = -1.4052535152063692 + 4.999999999999998 * x\n",
      "d = 1.545323371887207\n",
      "L(a) = 0.405253515206371, \tL(d) = -0.4052535152063719, \tL(B) = 0.4052535152063719\n",
      "      x               Погрешность\n",
      "1.0                   0.405253515206371        \n",
      "1.2                   -0.05755366594707656     \n",
      "1.4                   -0.339209763047549       \n",
      "1.5999999999999999    -0.39520034999833964     \n",
      "1.7999999999999998    -0.17007242895155272     \n",
      "1.9999999999999998    0.40525351520637365      \n"
     ]
    }
   ],
   "source": [
    "c1 = (f_mas[-1] - f_mas[0]) / (b - a)\n",
    "d = half(a, b, lambda x: f_sh(x) - c1, 1e-6)\n",
    "c0 = (f_mas[0] + f(d) - c1 * (a + d)) / 2\n",
    "def p1(x):\n",
    "    return c0 + c1 * x \n",
    "def L(x):\n",
    "    return f(x) - (p1(x))\n",
    "print(\"P1(x) = {} + {} * x\".format(c0, c1))\n",
    "print(\"d = {}\".format(d))\n",
    "print(\"L(a) = {}, \\tL(d) = {}, \\tL(B) = {}\".format(L(a),L(d),L(b)))\n",
    "print(\"      x               Погрешность\")\n",
    "for i in enumerate(x_mas):\n",
    "    print(\"{:<20}  {:<25}\".format(i[1], f_mas[i[0]] - p1(i[1])))"
   ]
  },
  {
   "cell_type": "markdown",
   "metadata": {},
   "source": [
    "<h2> Решение уравнения методом обратной интерполяции"
   ]
  },
  {
   "cell_type": "code",
   "execution_count": 80,
   "metadata": {},
   "outputs": [
    {
     "name": "stdout",
     "output_type": "stream",
     "text": [
      "Решение уравнения методом обратной интерполяции\n",
      "Таблица разделенных разностей\n",
      "0.9246740558420754      2.499999999999999     || 0.12695785322504047           \n",
      "-0.3004538652047115     0.9246740558420754    || 0.16324825886680783           \n",
      "-0.3004538652047115     2.499999999999999     || -0.01295875861147763          \n",
      "-1.24446327825392       -0.3004538652047115   || 0.21186229420529573           \n",
      "-1.24446327825392       0.9246740558420754    || -0.02241169084794171          \n",
      "-1.24446327825392       2.499999999999999     || 0.0025245092644818456         \n",
      "-1.9628071811534475     -1.24446327825392     || 0.27841817713315137           \n",
      "-1.9628071811534475     -0.3004538652047115   || -0.04003714630897882          \n",
      "-1.9628071811534475     0.9246740558420754    || 0.006104093503782111          \n",
      "-1.9628071811534475     2.499999999999999     || -0.0008020925157638325        \n",
      "-2.499999999999999      -1.9628071811534475   || 0.37230579595132246           \n",
      "-2.499999999999999      -1.24446327825392     || -0.07477887121262472          \n",
      "-2.499999999999999      -0.3004538652047115   || 0.015794951673918547          \n",
      "-2.499999999999999      0.9246740558420754    || -0.0028297169342597784        \n",
      "-2.499999999999999      2.499999999999999     || 0.0004055248836991893         \n",
      "\n",
      "c = 6.499999999999999\n",
      "корень = 1.6543969126480773  \n",
      "Невязка = Abs(f(x) - c) = 0.002302218372022935\n"
     ]
    }
   ],
   "source": [
    "f_c = []\n",
    "c = (f_mas[-1] + f_mas[0]) / 2\n",
    "\n",
    "for i in f_mas:\n",
    "    f_c.append(i - c)\n",
    "\n",
    "def sol_prep():\n",
    "    f_dict = {}\n",
    "    div_dif(f_c, x_mas, 0, len(f_c)-1, f_dict)\n",
    "    return f_dict\n",
    "print(\"Решение уравнения методом обратной интерполяции\\nТаблица разделенных разностей\")\n",
    "for i in sol_prep().items():\n",
    "    print(\"{:<20}    {:<20}  || {:<30}\".format(i[0][0], i[0][1], i[1]))\n",
    "\n",
    "ans, j =  int_new(f_c, x_mas, 0, sol_prep())\n",
    "print(\"\"\"\n",
    "c = {}\n",
    "корень = {}  \n",
    "Невязка = Abs(f(x) - c) = {}\"\"\".format(c, ans, abs(f(ans) - c)))"
   ]
  },
  {
   "cell_type": "code",
   "execution_count": 81,
   "metadata": {},
   "outputs": [
    {
     "name": "stdout",
     "output_type": "stream",
     "text": [
      "F(x)                       Настоящая погрешность      Оценка погрешности         Разность ОП и НП         \n",
      "4.248369522101713          -1.13639971157653e-05      0.0021262500000349426      0.0021148860029191773    \n",
      "4.871167510947728          3.904375158292339e-06      -0.0009112500000149759     0.0009073456248566836    \n",
      "5.696152422706632          -2.876566765230848e-06     0.0009112500000149764      0.0009083734332497455    \n",
      "6.773007839923779          4.156939480637334e-06      -0.002126250000034946      0.0021220930605543088    \n",
      "8.163626138566858          -1.2882429837546283e-05    0.019136250000314537       0.01912336757047699      \n",
      "------------------------------------------------------------------------------------------------------------\n"
     ]
    },
    {
     "ename": "IndexError",
     "evalue": "list index out of range",
     "output_type": "error",
     "traceback": [
      "\u001b[1;31m---------------------------------------------------------------------------\u001b[0m",
      "\u001b[1;31mIndexError\u001b[0m                                Traceback (most recent call last)",
      "Cell \u001b[1;32mIn [81], line 22\u001b[0m\n\u001b[0;32m     20\u001b[0m \u001b[39mfor\u001b[39;00m i \u001b[39min\u001b[39;00m \u001b[39menumerate\u001b[39m(x1):\n\u001b[0;32m     21\u001b[0m     df \u001b[39m=\u001b[39m f(i[\u001b[39m1\u001b[39m]) \u001b[39m-\u001b[39m y2_cub[i[\u001b[39m0\u001b[39m]]\n\u001b[1;32m---> 22\u001b[0m     \u001b[39mprint\u001b[39m(\u001b[39m\"\u001b[39m\u001b[39m{:<25}\u001b[39;00m\u001b[39m  \u001b[39m\u001b[39m{:<25}\u001b[39;00m\u001b[39m  \u001b[39m\u001b[39m{:<25}\u001b[39;00m\u001b[39m  \u001b[39m\u001b[39m{:<25}\u001b[39;00m\u001b[39m\"\u001b[39m\u001b[39m.\u001b[39mformat(f(i[\u001b[39m1\u001b[39m]), df, cub[i[\u001b[39m0\u001b[39m]], \u001b[39mabs\u001b[39m(cub[i[\u001b[39m0\u001b[39m]]) \u001b[39m-\u001b[39m \u001b[39mabs\u001b[39m(df)))\n\u001b[0;32m     23\u001b[0m \u001b[39mprint\u001b[39m(new)\n\u001b[0;32m     24\u001b[0m \u001b[39mprint\u001b[39m(cub)\n",
      "\u001b[1;31mIndexError\u001b[0m: list index out of range"
     ]
    }
   ],
   "source": [
    "def estimate(ind_mas, f, e):\n",
    "    fe = f(e)\n",
    "    m = []\n",
    "    for i in ind_mas:\n",
    "        n = 1\n",
    "        s = 1\n",
    "        for omega in i:\n",
    "            s *= fe * omega / n\n",
    "            n += 1\n",
    "        m.append(s)\n",
    "    return m\n",
    "\n",
    "new = estimate(ind_mas_new, f, 10**(-10))\n",
    "cub = estimate(ind_mas_cub, f, 10**(-10))\n",
    "print(\"{:<25}  {:<25}  {:<25}  {:<25}\".format(\"F(x)\", \"Настоящая погрешность\", \"Оценка погрешности\", \"Разность ОП и НП\"))\n",
    "for i in enumerate(x1):\n",
    "    df = f(i[1]) - y2_new[i[0]]\n",
    "    print(\"{:<25}  {:<25}  {:<25}  {:<25}\".format(f(i[1]), df, new[i[0]], abs(new[i[0]]) - abs(df) ))\n",
    "print(\"-\"*108)\n",
    "for i in enumerate(x1):\n",
    "    df = f(i[1]) - y2_cub[i[0]]\n",
    "    print(\"{:<25}  {:<25}  {:<25}  {:<25}\".format(f(i[1]), df, cub[i[0]], abs(cub[i[0]]) - abs(df)))\n",
    "print(new)\n",
    "print(cub)"
   ]
  }
 ],
 "metadata": {
  "kernelspec": {
   "display_name": "Python 3",
   "language": "python",
   "name": "python3"
  },
  "language_info": {
   "codemirror_mode": {
    "name": "ipython",
    "version": 3
   },
   "file_extension": ".py",
   "mimetype": "text/x-python",
   "name": "python",
   "nbconvert_exporter": "python",
   "pygments_lexer": "ipython3",
   "version": "3.10.7"
  },
  "orig_nbformat": 4,
  "vscode": {
   "interpreter": {
    "hash": "26de051ba29f2982a8de78e945f0abaf191376122a1563185a90213a26c5da77"
   }
  }
 },
 "nbformat": 4,
 "nbformat_minor": 2
}
