{
 "cells": [
  {
   "cell_type": "markdown",
   "metadata": {},
   "source": [
    "<h3>Кубическая норма"
   ]
  },
  {
   "cell_type": "code",
   "execution_count": 2,
   "metadata": {},
   "outputs": [],
   "source": [
    "# Дальше будет использоваться для определения Якобиана\n",
    "def cubic_norm(A):\n",
    "    x = 0\n",
    "    sum = 0\n",
    "    for i in range(len(A)):\n",
    "        sum = 0\n",
    "        for j in range(len(A[i])):\n",
    "            sum += abs(A[i][j])\n",
    "        if sum > x:\n",
    "            x = sum\n",
    "    return x\n"
   ]
  },
  {
   "cell_type": "markdown",
   "metadata": {},
   "source": [
    "<h2> Вариант 24"
   ]
  },
  {
   "cell_type": "code",
   "execution_count": 17,
   "metadata": {},
   "outputs": [],
   "source": [
    "from math import cos, sin, asin, acos, pi\n",
    "\n",
    "# Основные функции f & g\n",
    "def f(x,y):\n",
    "    return cos(x)+y-1.2\n",
    "def g(x,y):\n",
    "    return 2*x-sin(y-0.5)-2\n",
    "# F для метода градиентного спуска\n",
    "def F(x,y):\n",
    "    return f(x,y)**2+g(x,y)**2\n",
    "# преобразованные функции для графиков\n",
    "def ff(x):\n",
    "    return 1.2 - cos(x)\n",
    "def gg(x):\n",
    "    return 1 + sin(x-0.5) / 2\n",
    "# Собственно, Якобиан\n",
    "def jacobian(x,y):\n",
    "    A = [\n",
    "        [-sin(x), 1],\n",
    "        [2, -cos(y-0.5)]\n",
    "    ]\n",
    "    return cubic_norm(A)\n",
    "# Функции для преобразования x & y\n",
    "def pfix(x,y):\n",
    "    return sin(y-0.5)/2 +1\n",
    "    \n",
    "def pfiy(x,y):\n",
    "    return 1.2-cos(x)\n",
    "# Начальные значения и точность\n",
    "x0 = 1.139\n",
    "y0 = 0.781\n",
    "e = 10 **(-4)"
   ]
  },
  {
   "cell_type": "markdown",
   "metadata": {},
   "source": [
    "<h2> Вариант 25"
   ]
  },
  {
   "cell_type": "code",
   "execution_count": null,
   "metadata": {},
   "outputs": [],
   "source": [
    "from math import cos, sin\n",
    "def f(x,y):\n",
    "    return cos(y+0.5)+x-0.8\n",
    "def g(x,y):\n",
    "    return sin(x)-2*y-1.6\n",
    "def F(x,y):\n",
    "    return f(x,y)**2+g(x,y)**2\n",
    "\n",
    "def ff(x):\n",
    "    try:\n",
    "        return asin(x-0.8)-0.5\n",
    "    except:\n",
    "        return None\n",
    "def gg(x):\n",
    "    return (sin(x)-1.6)/2\n",
    "    \n",
    "x0 = -0,134\n",
    "y0 = -0,867\n",
    "e = 10 **(-10)"
   ]
  },
  {
   "cell_type": "markdown",
   "metadata": {},
   "source": [
    "<h1>TEST"
   ]
  },
  {
   "cell_type": "code",
   "execution_count": null,
   "metadata": {},
   "outputs": [],
   "source": [
    "from math import cos, sin, asin\n",
    "def f(x,y):\n",
    "    return 0.8-cos(y-1)\n",
    "def g(x,y):\n",
    "    return 2+cos(x)\n",
    "def F(x,y):\n",
    "    return f(x,y)**2+g(x,y)**2\n",
    "\n",
    "def ff(x):\n",
    "    return cos(x)-1.2\n",
    "def gg(x):\n",
    "    try:\n",
    "        return asin(2*x-2)+0.5\n",
    "    except:\n",
    "        return None\n",
    "\n",
    "def jacobian(x,y):\n",
    "    A = [[0, sin(y-1)], \n",
    "         [-sin(x), 0]]\n",
    "    return cubic_norm(A)\n",
    "def fsh(x,y):\n",
    "    return sin(y-1)\n",
    "\n",
    "def gsh(x,y):\n",
    "    return -sin(x)\n",
    "\n",
    "\n",
    "\n",
    "\n",
    "x0 = 0.9\n",
    "y0 = 2.6\n",
    "e = 10 **(-10)"
   ]
  },
  {
   "cell_type": "markdown",
   "metadata": {},
   "source": [
    "<h1>Метод Ньютона"
   ]
  },
  {
   "cell_type": "code",
   "execution_count": null,
   "metadata": {},
   "outputs": [],
   "source": []
  },
  {
   "cell_type": "markdown",
   "metadata": {},
   "source": [
    "<h1>Метод простой итерации"
   ]
  },
  {
   "cell_type": "code",
   "execution_count": 25,
   "metadata": {},
   "outputs": [
    {
     "name": "stdout",
     "output_type": "stream",
     "text": [
      "\n",
      " Метод простой итерации \n",
      " Fi1(x,y)=cos(x)+y-1.2\n",
      " Fi2(x,y)=2*x-sin(y-0.5)-2\n",
      " Якобиан \n",
      "|-sin(x)     1      |\n",
      "|   2    -cos(y-0.5)|\n",
      "\n",
      "Значение \n",
      "|-0.9080723847057184           1        |\n",
      "|        2           -0.9606406373319826|\n",
      "Norma=2.9606406373319825\n",
      "\n",
      "Itr             x                y               Норма невязки            Погрешность             Норма якобиана\n",
      "1  |1.1388970535202263  |0.7811867431242537  |1.3589650720843845e-07   |0.0003103283699458226 |2.960726798466395   |\n",
      "2  |1.1387479898129254  |0.7814035761288247  |6.171864711271919e-08    |0.0002168330045709821 |2.9606666055948176  |\n",
      "3  |1.1388521451895248  |0.781268205241207   |2.5859363238097974e-08   |0.0001353708876177251 |2.9607041898687454  |\n",
      "4  |1.1387871207719193  |0.7813627920463037  |1.1744172938064704e-08   |9.458680509666362e-05 |2.9606779307105513  |\n"
     ]
    }
   ],
   "source": [
    "def q(x,y):\n",
    "    return pfix(x,y), pfiy(x,y)\n",
    "\n",
    "prevx, prevy =  x0, y0\n",
    "x,y = q(x0, y0)\n",
    "\n",
    "print(\"\"\"\n",
    " Метод простой итерации \n",
    " Fi1(x,y)=cos(x)+y-1.2\n",
    " Fi2(x,y)=2*x-sin(y-0.5)-2\n",
    " Якобиан \n",
    "|-sin(x)     1      |\n",
    "|   2    -cos(y-0.5)|\"\"\")\n",
    "print(\"\"\"\n",
    "Значение \n",
    "|-0.9080723847057184           1        |\n",
    "|        2           -0.9606406373319826|\n",
    "Norma={}\"\"\".format(jacobian(x,y)))\n",
    "print(\"\"\"\n",
    "Itr             x                y               Норма невязки            Погрешность             Норма якобиана\"\"\")\n",
    "i = 0\n",
    "xf =  1.1388173974691207\n",
    "yf = 0.7813312360330628 \n",
    "\n",
    "\n",
    "while True:\n",
    "    i+=1\n",
    "    if  abs(prevx - x) < e and abs(prevy - y) < e:\n",
    "        break\n",
    "    prevx, prevy = x,y\n",
    "    x,y = q(x,y,)\n",
    "    print(\"\"\"{:<3}|{:<20}|{:<20}|{:<25}|{:<22}|{:<20}|\"\"\".format(i, x, y, F(x,y),max(abs(prevx - x), abs(prevy - y)),  jacobian(x,y)))\n",
    "lx, ly = x, y\n"
   ]
  },
  {
   "cell_type": "markdown",
   "metadata": {},
   "source": [
    "<h2>График функций"
   ]
  },
  {
   "cell_type": "code",
   "execution_count": null,
   "metadata": {},
   "outputs": [],
   "source": [
    "import numpy as np\n",
    "import matplotlib.pyplot as plt\n",
    "x = np.arange(0, 2, 0.01)\n",
    "y1=[]\n",
    "y2=[]\n",
    "dx=0\n",
    "dy=0\n",
    "fi=10000\n",
    "for i in x:\n",
    "    y1.append(ff(i))\n",
    "    y2.append(gg(i))\n",
    "for i in enumerate(x):\n",
    "    for j in enumerate(x):\n",
    "        if (y1[i[0]] - j[1]) ** 2 + (y2[j[0]] - i[1]) ** 2  < fi:\n",
    "            fi = (y1[i[0]] - j[1]) ** 2 + (y2[j[0]] - i[1]) ** 2\n",
    "            dx = i[1]\n",
    "            dy = y1[i[0]]\n",
    "plt.plot(x, y1, y2, x, dx, dy, lx, ly,\"ro\")\n",
    "plt.show()"
   ]
  },
  {
   "cell_type": "code",
   "execution_count": null,
   "metadata": {},
   "outputs": [],
   "source": []
  }
 ],
 "metadata": {
  "kernelspec": {
   "display_name": "Python 3.10.7 64-bit",
   "language": "python",
   "name": "python3"
  },
  "language_info": {
   "codemirror_mode": {
    "name": "ipython",
    "version": 3
   },
   "file_extension": ".py",
   "mimetype": "text/x-python",
   "name": "python",
   "nbconvert_exporter": "python",
   "pygments_lexer": "ipython3",
   "version": "3.10.7"
  },
  "orig_nbformat": 4,
  "vscode": {
   "interpreter": {
    "hash": "26de051ba29f2982a8de78e945f0abaf191376122a1563185a90213a26c5da77"
   }
  }
 },
 "nbformat": 4,
 "nbformat_minor": 2
}
