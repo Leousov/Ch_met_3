{
 "cells": [
  {
   "cell_type": "markdown",
   "metadata": {},
   "source": [
    "<h2> Вариант 24"
   ]
  },
  {
   "cell_type": "code",
   "execution_count": null,
   "metadata": {},
   "outputs": [],
   "source": [
    "from math import cos, sin, asin\n",
    "def f(x,y):\n",
    "    return cos(x)+y-1.2\n",
    "def g(x,y):\n",
    "    return 2*x-sin(y-0.5)-2\n",
    "def F(x,y):\n",
    "    return f(x,y)**2+g(x,y)**2\n",
    "\n",
    "def ff(x):\n",
    "    return cos(x)-1.2\n",
    "def gg(x):\n",
    "    try:\n",
    "        return asin(2*x-2)+0.5\n",
    "    except:\n",
    "        return None\n",
    "def jacobian(x,y):\n",
    "    return sin(x) * cos(y-0.5) - ( 1 * 2 )\n",
    "\n",
    "x0 = 1.139\n",
    "y0 = 0.781\n",
    "e = 10 **(-10)"
   ]
  },
  {
   "cell_type": "markdown",
   "metadata": {},
   "source": [
    "<h2> Вариант 25"
   ]
  },
  {
   "cell_type": "code",
   "execution_count": null,
   "metadata": {},
   "outputs": [],
   "source": [
    "from math import cos, sin\n",
    "def f(x,y):\n",
    "    return cos(y+0.5)+x-0.8\n",
    "def g(x,y):\n",
    "    return sin(x)-2*y-1.6\n",
    "def F(x,y):\n",
    "    return f(x,y)**2+g(x,y)**2\n",
    "\n",
    "def ff(x):\n",
    "    try:\n",
    "        return asin(x-0.8)-0.5\n",
    "    except:\n",
    "        return None\n",
    "def gg(x):\n",
    "    return (sin(x)-1.6)/2\n",
    "    \n",
    "x0 = -0,134\n",
    "y0 = -0,867\n",
    "e = 10 **(-10)"
   ]
  },
  {
   "cell_type": "markdown",
   "metadata": {},
   "source": [
    "<h3>Кубическая норма"
   ]
  },
  {
   "cell_type": "code",
   "execution_count": 71,
   "metadata": {},
   "outputs": [],
   "source": [
    "def cubic_norm(A):\n",
    "    x = 0\n",
    "    sum = 0\n",
    "    for i in range(len(A)):\n",
    "        sum = 0\n",
    "        for j in range(len(A[i])):\n",
    "            sum += abs(A[i][j])\n",
    "        if sum > x:\n",
    "            x = sum\n",
    "    return x\n"
   ]
  },
  {
   "cell_type": "markdown",
   "metadata": {},
   "source": [
    "<h1>TEST"
   ]
  },
  {
   "cell_type": "code",
   "execution_count": 72,
   "metadata": {},
   "outputs": [],
   "source": [
    "from math import cos, sin, asin\n",
    "def f(x,y):\n",
    "    return 0.8-cos(y-1)\n",
    "def g(x,y):\n",
    "    return 2+cos(x)\n",
    "def F(x,y):\n",
    "    return f(x,y)**2+g(x,y)**2\n",
    "\n",
    "def ff(x):\n",
    "    return cos(x)-1.2\n",
    "def gg(x):\n",
    "    try:\n",
    "        return asin(2*x-2)+0.5\n",
    "    except:\n",
    "        return None\n",
    "def jacobian(x,y):\n",
    "    A = [[0, sin(y-1)], [sin(x), 0]]\n",
    "    return cubic_norm(A)\n",
    "\n",
    "\n",
    "x0 = 0.9\n",
    "y0 = 2.6\n",
    "e = 10 **(-10)"
   ]
  },
  {
   "cell_type": "markdown",
   "metadata": {},
   "source": [
    "<h2>График функций"
   ]
  },
  {
   "cell_type": "code",
   "execution_count": null,
   "metadata": {},
   "outputs": [],
   "source": [
    "import numpy as np\n",
    "import matplotlib.pyplot as plt\n",
    "x = np.arange(0, 2, 0.01)\n",
    "y1=[]\n",
    "y2=[]\n",
    "dx=0\n",
    "dy=0\n",
    "fi=10000\n",
    "for i in x:\n",
    "    y1.append(ff(i))\n",
    "    y2.append(gg(i))\n",
    "    try:\n",
    "        if abs(y1[-1] - y2[-1]) < fi:\n",
    "            fi = abs(y1[-1] - y2[-1] )\n",
    "            dx = i\n",
    "            dy = y1[-1]\n",
    "    except:\n",
    "        pass\n",
    "print(dx, dy)\n",
    "    \n",
    "plt.plot(x, y1, x, y2, dx, dy, 'ro')\n",
    "plt.show()"
   ]
  },
  {
   "cell_type": "markdown",
   "metadata": {},
   "source": [
    "<h1>Метод Ньютона"
   ]
  },
  {
   "cell_type": "code",
   "execution_count": null,
   "metadata": {},
   "outputs": [],
   "source": []
  },
  {
   "cell_type": "markdown",
   "metadata": {},
   "source": [
    "<h1>Метод простой итерации"
   ]
  },
  {
   "cell_type": "code",
   "execution_count": 73,
   "metadata": {},
   "outputs": [],
   "source": [
    "from math import sqrt\n",
    "\n",
    "\n",
    "def t(x, y, prevx, prevy):\n",
    "    # j = jacobian(x,y)\n",
    "    # return abs(j/(1-j) * (x - prevx) * (y - prevy))\n",
    "    return 2 / (jacobian(prevx, prevy) + jacobian(x, y))\n",
    "\n",
    "t0 = t(0.8507918, 2.6754662, 0.8291995, 2.6216100)\n",
    "\n",
    "def q(x,y,t):\n",
    "    A = \n",
    "    s = t*\n",
    "    return x + s, y + s\n",
    "\n",
    "x = x0\n",
    "y = y0\n",
    "\n",
    "\n",
    "while True:\n",
    "    if  abs(prevx - x) < e and abs(prevy - y) < e:\n",
    "        break\n",
    "    prevx, prevy = x,y\n",
    "    x,y = q(x,y,t0)\n",
    "    t0 = t(x,y,prevx, prevy)\n",
    "\n",
    "print(x, y, F(x,y))\n"
   ]
  }
 ],
 "metadata": {
  "kernelspec": {
   "display_name": "Python 3.10.7 64-bit",
   "language": "python",
   "name": "python3"
  },
  "language_info": {
   "codemirror_mode": {
    "name": "ipython",
    "version": 3
   },
   "file_extension": ".py",
   "mimetype": "text/x-python",
   "name": "python",
   "nbconvert_exporter": "python",
   "pygments_lexer": "ipython3",
   "version": "3.10.7"
  },
  "orig_nbformat": 4,
  "vscode": {
   "interpreter": {
    "hash": "26de051ba29f2982a8de78e945f0abaf191376122a1563185a90213a26c5da77"
   }
  }
 },
 "nbformat": 4,
 "nbformat_minor": 2
}
