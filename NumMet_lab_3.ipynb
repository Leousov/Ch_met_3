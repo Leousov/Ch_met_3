{
 "cells": [
  {
   "cell_type": "markdown",
   "metadata": {},
   "source": [
    "<h3>Кубическая норма"
   ]
  },
  {
   "cell_type": "code",
   "execution_count": 1,
   "metadata": {},
   "outputs": [],
   "source": [
    "# Дальше будет использоваться для определения нормы Якобиана\n",
    "def cubic_norm(A):\n",
    "    x = 0\n",
    "    sum = 0\n",
    "    for i in range(len(A)):\n",
    "        sum = 0\n",
    "        for j in range(len(A[i])):\n",
    "            sum += abs(A[i][j])\n",
    "        if sum > x:\n",
    "            x = sum\n",
    "    return x\n"
   ]
  },
  {
   "cell_type": "markdown",
   "metadata": {},
   "source": [
    "<h3>Создание пустой матрицы</h3>"
   ]
  },
  {
   "cell_type": "code",
   "execution_count": 2,
   "metadata": {},
   "outputs": [],
   "source": [
    "# Используется для решения СЛАУ\n",
    "def create_matrix(x, y):  # x - размерность матрицы\n",
    "    A = []\n",
    "    for i in range(x):\n",
    "        A.append([0]*y)\n",
    "    return A\n"
   ]
  },
  {
   "cell_type": "markdown",
   "metadata": {},
   "source": [
    "<h3>Создание единичной матрицы</h3>"
   ]
  },
  {
   "cell_type": "code",
   "execution_count": 3,
   "metadata": {},
   "outputs": [],
   "source": [
    "# Используется для решения СЛАУ\n",
    "def create_I_matrix(x):  # x - размерность матрицы\n",
    "    A = []\n",
    "    for i in range(x):\n",
    "        A.append([0]*x)\n",
    "        A[i][i] = 1\n",
    "    return A\n"
   ]
  },
  {
   "cell_type": "markdown",
   "metadata": {},
   "source": [
    "<h3> Произведение матриц </h3>"
   ]
  },
  {
   "cell_type": "code",
   "execution_count": 4,
   "metadata": {},
   "outputs": [],
   "source": [
    "# Используется для решения СЛАУ\n",
    "def matrix_product(A, B):\n",
    "    n = len(A)\n",
    "    m = len(B[0])\n",
    "    R = create_matrix(n, m)\n",
    "    for i in range(n):\n",
    "        for j in range(m):\n",
    "            for k in range(n):\n",
    "                R[i][j] += A[i][k] * B[k][j]\n",
    "    return R\n"
   ]
  },
  {
   "cell_type": "markdown",
   "metadata": {},
   "source": [
    "<h3>Решение системы ЛУ при треугольных матрицах"
   ]
  },
  {
   "cell_type": "code",
   "execution_count": 5,
   "metadata": {},
   "outputs": [],
   "source": [
    "# Используется для решения СЛАУ\n",
    "def solution(A, q, b):\n",
    "    # q определяет A - это нижняя треугольная матрица или верхняя\n",
    "    n = len(A)\n",
    "    x = []\n",
    "    if q:\n",
    "        for i in range(n):\n",
    "            x.append([0] * len(b[i]))\n",
    "            for k in range(len(b[i])):\n",
    "                for j in range(i+1):\n",
    "                    if i == j:\n",
    "                        x[i][k] += b[i][k] / A[i][i]\n",
    "                    else:\n",
    "                        x[i][k] -= A[i][j] * x[j][k] / A[i][i]\n",
    "    else:\n",
    "        for i in range(n):\n",
    "            x.append([0] * len(b[i]))\n",
    "        for i in range(n-1, -1, -1):\n",
    "            for k in range(len(b[i])):\n",
    "                for j in range(n-1, i-1, -1):\n",
    "                    if i == j:\n",
    "                        x[i][k] += b[i][k] / A[i][i]\n",
    "                    else:\n",
    "                        x[i][k] -= A[i][j] * x[j][k] / A[i][i]\n",
    "    return x\n"
   ]
  },
  {
   "cell_type": "markdown",
   "metadata": {},
   "source": [
    "<h2>LU разложение</h2>"
   ]
  },
  {
   "cell_type": "code",
   "execution_count": 6,
   "metadata": {},
   "outputs": [],
   "source": [
    "# Используется для решения СЛАУ\n",
    "def LU(A):  # Собственно реализация LU разложения\n",
    "    U = []\n",
    "    for i in A:\n",
    "        U.append(i.copy())\n",
    "    n = len(A)\n",
    "    L = create_matrix(n, n)\n",
    "    for i in range(n):\n",
    "        for j in range(n):\n",
    "            # Выбор главного элемента\n",
    "            m = j\n",
    "            for k in range(j+1, n):\n",
    "                if U[i][k] > U[i][m]:\n",
    "                    m = k\n",
    "            if m != j:\n",
    "                for k in range(n):\n",
    "                    x = U[i][m]\n",
    "                    U[i][m] = U[i][j]\n",
    "                    U[i][j] = x\n",
    "\n",
    "            U[0][i] = A[0][i]\n",
    "            L[i][0] = A[i][0] / U[0][0]\n",
    "            sum = 0\n",
    "            for k in range(i):\n",
    "                sum += L[i][k] * U[k][j]\n",
    "            U[i][j] = A[i][j] - sum\n",
    "            if (i > j):\n",
    "                L[j][i] = 0\n",
    "            else:\n",
    "                sum = 0\n",
    "                for k in range(i):\n",
    "                    sum += L[j][k] * U[k][i]\n",
    "                L[j][i] = (A[j][i] - sum) / U[i][i]\n",
    "    return L, U\n"
   ]
  },
  {
   "cell_type": "markdown",
   "metadata": {},
   "source": [
    "<h1>TEST"
   ]
  },
  {
   "cell_type": "code",
   "execution_count": 7,
   "metadata": {},
   "outputs": [],
   "source": [
    "from math import cos, sin, asin\n",
    "def f(x,y):\n",
    "    return 0.8-cos(y-1)\n",
    "def g(x,y):\n",
    "    return 2+cos(x)\n",
    "def F(x,y):\n",
    "    return f(x,y)**2+g(x,y)**2\n",
    "\n",
    "def ff(x):\n",
    "    return cos(x)-1.2\n",
    "def gg(x):\n",
    "    try:\n",
    "        return asin(2*x-2)+0.5\n",
    "    except:\n",
    "        return None\n",
    "\n",
    "def jacobian(x,y):\n",
    "    A = [[0, sin(y-1)], \n",
    "         [-sin(x), 0]]\n",
    "    return cubic_norm(A)\n",
    "def fsh(x,y):\n",
    "    return sin(y-1)\n",
    "\n",
    "def gsh(x,y):\n",
    "    return -sin(x)\n",
    "\n",
    "\n",
    "\n",
    "\n",
    "x0 = 0.9\n",
    "y0 = 2.6\n",
    "e = 10 **(-10)"
   ]
  },
  {
   "cell_type": "markdown",
   "metadata": {},
   "source": [
    "<h2> Вариант 24"
   ]
  },
  {
   "cell_type": "code",
   "execution_count": 8,
   "metadata": {},
   "outputs": [],
   "source": [
    "from math import cos, sin, asin, acos, pi\n",
    "# Начальные значения и точность\n",
    "x0, y0 = 1.1, 0.8\n",
    "e = 10 **(-12)\n",
    "arr1 = 0.5\n",
    "arr2 = 1.5\n",
    "q = -1\n",
    "xid, yid = 1.1388173974691207, 0.7813312360330628\n",
    "var_newton = \"\"\"Вариант 24\n",
    "\n",
    "x0 = 1.139  y0 = 0.78\n",
    "\n",
    "Метод Ньютона\n",
    "\n",
    "Матрица производных\n",
    "-sin(x),        1\n",
    "    2,     -cos(y-0.5)\n",
    "Itr           x                   y               Норма невязки                    F1                              F2\"\"\"\n",
    "var_sim_it = \"\"\"\n",
    " Метод простой итерации \n",
    " Fi1(x,y)=cos(x)+y-1.2\n",
    " Fi2(x,y)=2*x-sin(y-0.5)-2\n",
    " Якобиан \n",
    "|-sin(x)     1      |\n",
    "|   2    -cos(y-0.5)|\n",
    "\n",
    "Значение \n",
    "|-0.9080723847057184           1        |\n",
    "|        2           -0.9606406373319826|\n",
    "Norma={}\n",
    "\n",
    "Itr             x                y               Норма невязки            Погрешность             Норма якобиана\"\"\".format(jacobian(x0,y0))\n",
    "# Основные функции f & g\n",
    "def f(x,y):\n",
    "    return cos(x)+y-1.2\n",
    "def g(x,y):\n",
    "    return 2*x-sin(y-0.5)-2\n",
    "# F для метода градиентного спуска\n",
    "def F(x,y):\n",
    "    return f(x,y)**2+g(x,y)**2\n",
    "# преобразованные функции для графиков\n",
    "def ff(x):\n",
    "    return 1.2 - cos(x)\n",
    "def gg(x):\n",
    "    return 1 + sin(x-0.5) / 2\n",
    "# Собственно, Якобиан\n",
    "def jac(x,y):\n",
    "    return [[2, -cos(y-0.5)],[-sin(x), 1]]\n",
    "def jacobian(x,y):\n",
    "    return cubic_norm(jac(x,y))\n",
    "# Функции для преобразования x & y\n",
    "def pfix(x,y):\n",
    "    return sin(y-0.5)/2 +1\n",
    "def pfiy(x,y):\n",
    "    return 1.2-cos(x)\n",
    "def Fsh_x(x,y):\n",
    "    return -2*sin(x)*cos(x)-2*y*sin(x)+2.4*sin(x)-4*sin(y-0.5)+8*x-8\n",
    "def Fsh_y(x,y):\n",
    "    return 2*cos(x)+2*y-2.4+cos(y-0.5)*(-4*x+4+2*sin(y-0.5))\n",
    "\n"
   ]
  },
  {
   "cell_type": "markdown",
   "metadata": {},
   "source": [
    "<h2> Вариант 25"
   ]
  },
  {
   "cell_type": "code",
   "execution_count": 9,
   "metadata": {},
   "outputs": [
    {
     "data": {
      "text/plain": [
       "[[1, 0.479425538604203], [0.9950041652780258, -2]]"
      ]
     },
     "execution_count": 9,
     "metadata": {},
     "output_type": "execute_result"
    }
   ],
   "source": [
    "from math import cos, sin\n",
    "\n",
    "# Начальные значения и точность\n",
    "x0, y0 = -0.1, -1\n",
    "e = 10 **(-12)\n",
    "arr1 = -1\n",
    "arr2 = 0\n",
    "q = 1\n",
    "xid, yid = -0.13355832611734098, -0.8665808075387158\n",
    "var_newton = \"\"\"Вариант 25\n",
    "\n",
    "x0 = -0.13   y0 = -0.9\n",
    "\n",
    "Метод Ньютона\n",
    "\n",
    "Матрица производных\n",
    "    1   -sin(y+0.5) \n",
    "cos(x)      -2\n",
    "Itr           x                   y               Норма невязки                    F1                              F2\"\"\"\n",
    "var_sim_it = \"\"\"\n",
    " Метод простой итерации \n",
    " Fi1(x,y)=cos(y+0.5)+x-0.8\n",
    " Fi2(x,y)=sin(x)-2*y-1.6\n",
    " Якобиан \n",
    "  1     -sin(y+0.5) \n",
    "cos(x)      -2\n",
    "\n",
    "Значение \n",
    "|        1           0.3894183423086505|\n",
    "|0.9915618937147881          -2        |\n",
    "Norma={}\n",
    "\n",
    "Itr             x                y               Норма невязки            Погрешность             Норма якобиана\"\"\".format(jacobian(x0,y0))\n",
    "# Основные функции f & g\n",
    "def g(x,y):\n",
    "    return cos(y+0.5)+x-0.8\n",
    "def f(x,y):\n",
    "    return sin(x)-2*y-1.6\n",
    "# F для метода градиентного спуска\n",
    "def F(x,y):\n",
    "    return f(x,y)**2+g(x,y)**2\n",
    "# преобразованные функции для графиков\n",
    "def gg(x):\n",
    "    return 0.8 - cos(x+0.5)\n",
    "def ff(x):\n",
    "    return (sin(x)-1.6)/2\n",
    "    \n",
    "# Собственно, Якобиан\n",
    "def jac(x,y):\n",
    "    return [[1, -sin(y+0.5)], [cos(x), -2]]\n",
    "def jacobian(x,y):\n",
    "    return cubic_norm(jac(x,y))\n",
    "# Функции для преобразования x & y\n",
    "def pfix(x,y):\n",
    "    return (0.8 - cos(y + 0.5))\n",
    "def pfiy(x,y):\n",
    "    return (sin(x) / 2 - 0.8)\n",
    "def Fsh_x(x,y):\n",
    "    return 2*cos(y+0.5)+2*x-1.6+ cos(x)*(2*sin(x)-4*y-3.2)\n",
    "def Fsh_y(x,y):\n",
    "    return 2*sin(y+0.5)*(-cos(y+0.5)-2*x+1.6)-4*sin(x)+8*y+6.4\n",
    "jac(x0,y0)"
   ]
  },
  {
   "cell_type": "markdown",
   "metadata": {},
   "source": [
    "<h1>Метод Ньютона"
   ]
  },
  {
   "cell_type": "code",
   "execution_count": 10,
   "metadata": {},
   "outputs": [
    {
     "name": "stdout",
     "output_type": "stream",
     "text": [
      "Вариант 25\n",
      "\n",
      "x0 = -0.13   y0 = -0.9\n",
      "\n",
      "Метод Ньютона\n",
      "\n",
      "Матрица производных\n",
      "    1   -sin(y+0.5) \n",
      "cos(x)      -2\n",
      "Itr           x                   y               Норма невязки                    F1                              F2\n",
      "1  |-0.13999654156920183|-0.8698150710524499 ||0.30044162784820394      |9.045205499602638e-05    |-0.00760233874449634     |\n",
      "2  |-0.13356202767837771|-0.8665840641810488 ||0.0075979749850457485    |2.8447019271293783e-06   |-4.868848203942733e-06   |\n",
      "3  |-0.13355832610760107|-0.8665808075280806 ||5.638967856914794e-06    |9.121592370320286e-13    |-4.950484466803573e-12   |\n",
      "4  |-0.13355832610353607|-0.8665808075256102 ||5.033818722378301e-12    |0.0                      |0.0                      |\n",
      "5  |-0.13355832610353607|-0.8665808075256102 ||0.0                      |0.0                      |0.0                      |\n"
     ]
    }
   ],
   "source": [
    "from math import sqrt\n",
    "def b(x,y):\n",
    "    return [[g(x,y)], [f(x,y)]]\n",
    "\n",
    "print(var_newton)\n",
    "\n",
    "e = 10 **(-12)\n",
    "x,y = x0,y0\n",
    "prevf, prevg = 0, 0\n",
    "i = 0\n",
    "while  sqrt((prevf - f(x,y))**2 + (prevg - g(x,y))**2) >= e:\n",
    "    prevf, prevg = f(x,y), g(x,y)\n",
    "    i += 1\n",
    "    w = jac(x,y)\n",
    "    L,U = LU(w)\n",
    "    Y = solution(L, True, b(x,y))\n",
    "    X = solution(U, False, Y)\n",
    "    x -= X[0][0]\n",
    "    y -= X[1][0]\n",
    "    print(\"\"\"{:<3}|{:<20}|{:<20}||{:<25}|{:<25}|{:<25}|\"\"\".format(i, x, y, sqrt((prevf - f(x,y))**2 + (prevg - g(x,y))**2), f(x,y),  g(x,y)))\n",
    "x_new, y_new = x,y"
   ]
  },
  {
   "cell_type": "markdown",
   "metadata": {},
   "source": [
    "<h1>Метод простой итерации"
   ]
  },
  {
   "cell_type": "code",
   "execution_count": 11,
   "metadata": {},
   "outputs": [
    {
     "name": "stdout",
     "output_type": "stream",
     "text": [
      "\n",
      " Метод простой итерации \n",
      " Fi1(x,y)=cos(y+0.5)+x-0.8\n",
      " Fi2(x,y)=sin(x)-2*y-1.6\n",
      " Якобиан \n",
      "  1     -sin(y+0.5) \n",
      "cos(x)      -2\n",
      "\n",
      "Значение \n",
      "|        1           0.3894183423086505|\n",
      "|0.9915618937147881          -2        |\n",
      "Norma=2.070737201667703\n",
      "\n",
      "Itr             x                y               Норма невязки            Погрешность             Норма якобиана\n",
      "1  |-0.13940127012217574|-0.8387523781863846 |0.10192106623460546      |0.028435215390308338  |2.990299367354572   |\n",
      "2  |-0.14316999746402626|-0.8694751088828481 |0.05948886046776421      |0.010037988179340335  |2.9897686703553132  |\n",
      "3  |-0.1325170258923123 |-0.8713406952290834 |0.017422935345659512     |0.004872456985912803  |2.9912324605872778  |\n",
      "4  |-0.1318416917547225 |-0.8660647581507931 |0.01021285408241584      |0.0017925234851392437 |2.9913214661146794  |\n",
      "5  |-0.1337431670531356 |-0.8657300365514928 |0.003114215148874315     |0.0008706189907470596 |2.991069706069052   |\n",
      "6  |-0.13386292623363139|-0.8666724037968537 |0.0018242652345316877    |0.00031807407338512144|2.991053729697119   |\n",
      "7  |-0.13352549174641926|-0.8667317481665018 |0.0005525087464181168    |0.000154470618824563  |2.991098708461015   |\n",
      "8  |-0.13350421449171723|-0.8665645365170287 |0.00032369102355359877   |5.650497547908131e-05 |2.9911015408578643  |\n",
      "9  |-0.13356415792463294|-0.8665539925721345 |9.815456756499146e-05    |2.7441790524825722e-05|2.9910935601276707  |\n"
     ]
    }
   ],
   "source": [
    "from math import sqrt\n",
    "def q(x,y):\n",
    "    return (pfix(x,y), pfiy(x,y))\n",
    "e = 10 **(-4)\n",
    "prevf, prevg =  0, 0\n",
    "x, y = q(x0, y0)\n",
    "\n",
    "print(var_sim_it)\n",
    "i = 0\n",
    "\n",
    "while sqrt((prevf - f(x,y))**2 + (prevg - g(x,y))**2) >= e:\n",
    "    i+=1\n",
    "    prevf, prevg = f(x,y), g(x,y)\n",
    "    x,y = q(x,y,)\n",
    "    print(\"\"\"{:<3}|{:<20}|{:<20}|{:<25}|{:<22}|{:<20}|\"\"\".format(i, x, y, sqrt((prevf - f(x,y))**2 + (prevg - g(x,y))**2),sqrt((x_new - x)**2+ (y_new - y)**2),  jacobian(x,y)))\n",
    "x_simp, y_simp = x, y"
   ]
  },
  {
   "cell_type": "markdown",
   "metadata": {},
   "source": [
    "<h1>Метод градиентного спуска"
   ]
  },
  {
   "cell_type": "code",
   "execution_count": 12,
   "metadata": {},
   "outputs": [
    {
     "name": "stdout",
     "output_type": "stream",
     "text": [
      "\n",
      " Метод градиентного спуска\n",
      "  \n",
      "Itr       x                          y                     Alfa                     Норма невязки               Погрешность        k \n",
      "1  |-0.12158199707844158     |-0.9202844496995529      ||0.0390625                |0.1814066585695687       |0.05502284652455017   |  9|\n",
      "2  |-0.12587092564760488     |-0.8963353551154799      ||0.01953125               |0.052414910085545496     |0.030731567289151943  | 10|\n",
      "3  |-0.1283401347966938      |-0.8771945933186057      ||0.01953125               |0.04100690260425377      |0.011827170810231772  | 10|\n",
      "4  |-0.12887813046730776     |-0.8695080631304818      ||0.009765625              |0.016067144254769267     |0.005520240626061773  | 11|\n",
      "5  |-0.1289466579507021      |-0.8677743560863682      ||0.00244140625            |0.0035788590791825214    |0.004763616411797949  | 13|\n",
      "6  |-0.12900078160792236     |-0.8660832488632412      ||0.00244140625            |0.0034800365849496093    |0.004584623916091405  | 13|\n",
      "7  |-0.12902087364558287     |-0.8652583666570198      ||0.001220703125           |0.0016921625847257443    |0.0047262378970068285 | 14|\n",
      "8  |-0.1290250537870719      |-0.8650546621106585      ||0.00030517578125         |0.00041722634463771006   |0.004783270609405072  | 16|\n",
      "9  |-0.1290270402284425      |-0.8649531208498172      ||0.000152587890625        |0.00020789465461481797   |0.004814760180567297  | 17|\n",
      "10 |-0.12902897506784686     |-0.8648517349832942      ||0.000152587890625        |0.00020753542544213143   |0.0048481659069270905 | 17|\n",
      "11 |-0.12902991673929862     |-0.8648011194354951      ||7.62939453125e-05        |0.00010358898081485374   |0.004865570990974334  | 18|\n",
      "12 |-0.12903014894524445     |-0.8647884751953436      ||1.9073486328125e-05      |2.5874975845271346e-05   |0.004869994205231943  | 20|\n",
      " Общее число итераций =   168\n"
     ]
    }
   ],
   "source": [
    "e = 10 **(-4)\n",
    "prevf, prevg =  0, 0\n",
    "x, y = x0, y0\n",
    "def alp(x,y):\n",
    "    a_min = 20\n",
    "    F_min = F(x,y)\n",
    "    a = a_min\n",
    "    q = False\n",
    "    for i in range(150):\n",
    "        FF = F(x - a * Fsh_x(x,y), y - a * Fsh_y(x,y))\n",
    "        a_min = a\n",
    "        if FF < F_min:\n",
    "            F_min = FF\n",
    "            q = True\n",
    "        elif q == True:\n",
    "            break\n",
    "        a /= 2\n",
    "    return a_min, i\n",
    "i = 0\n",
    "m = 0\n",
    "print(\"\"\"\n",
    " Метод градиентного спуска\n",
    "  \n",
    "Itr       x                          y                     Alfa                     Норма невязки               Погрешность        k \"\"\")\n",
    "while sqrt((prevf - f(x,y))**2 + (prevg - g(x,y))**2) >= e:\n",
    "    i+=1\n",
    "    alpha, k = alp(x,y)\n",
    "    m += k\n",
    "    prevf, prevg = f(x,y), g(x,y)\n",
    "    x -= alpha * Fsh_x(x,y)\n",
    "    y -= alpha * Fsh_y(x,y)\n",
    "    print(\"\"\"{:<3}|{:<25}|{:<25}||{:<25}|{:<25}|{:<22}|{:=3}|\"\"\".format(i, x, y, alpha,  sqrt((prevf - f(x,y))**2 + (prevg - g(x,y))**2),sqrt((x_new - x)**2+ (y_new - y)**2),  k))\n",
    "print(\" Общее число итераций =  \", m)\n",
    "x_grad, y_grad = x, y"
   ]
  },
  {
   "cell_type": "markdown",
   "metadata": {},
   "source": [
    "<h2>График функций"
   ]
  },
  {
   "cell_type": "code",
   "execution_count": 13,
   "metadata": {},
   "outputs": [
    {
     "data": {
      "image/png": "[encoded data removed]",
      "text/plain": [
       "<Figure size 640x480 with 1 Axes>"
      ]
     },
     "metadata": {},
     "output_type": "display_data"
    }
   ],
   "source": [
    "import numpy as np\n",
    "import matplotlib.pyplot as plt\n",
    "x = np.arange(arr1, arr2, 0.001)\n",
    "y1=[]\n",
    "y2=[]\n",
    "dx=0\n",
    "dy=0\n",
    "fi=10000\n",
    "for i in x:\n",
    "    y1.append(ff(i))\n",
    "    y2.append(gg(i))\n",
    "for i in enumerate(x):\n",
    "    for j in enumerate(x):\n",
    "        if (y1[i[0]] - j[1]) ** 2 + (y2[j[0]] - i[1]) ** 2  < fi:\n",
    "            fi = (y1[i[0]] - j[1]) ** 2 + (y2[j[0]] - i[1]) ** 2\n",
    "            dx = i[1]\n",
    "            dy = y1[i[0]]\n",
    "plt.plot(x, y1, y2, x, x_new, y_new, \"ro\", x_simp, y_simp,\"gs\", x_grad, y_grad, )\n",
    "plt.show()"
   ]
  },
  {
   "cell_type": "code",
   "execution_count": null,
   "metadata": {},
   "outputs": [],
   "source": []
  }
 ],
 "metadata": {
  "kernelspec": {
   "display_name": "Python 3.10.7 64-bit",
   "language": "python",
   "name": "python3"
  },
  "language_info": {
   "codemirror_mode": {
    "name": "ipython",
    "version": 3
   },
   "file_extension": ".py",
   "mimetype": "text/x-python",
   "name": "python",
   "nbconvert_exporter": "python",
   "pygments_lexer": "ipython3",
   "version": "3.10.7"
  },
  "orig_nbformat": 4,
  "vscode": {
   "interpreter": {
    "hash": "26de051ba29f2982a8de78e945f0abaf191376122a1563185a90213a26c5da77"
   }
  }
 },
 "nbformat": 4,
 "nbformat_minor": 2
}
