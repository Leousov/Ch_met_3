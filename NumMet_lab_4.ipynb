{
 "cells": [
  {
   "cell_type": "markdown",
   "metadata": {},
   "source": [
    "<h1 alingn=\"center\">Вариант 24 </h1>"
   ]
  },
  {
   "cell_type": "code",
   "execution_count": 1,
   "metadata": {},
   "outputs": [
    {
     "name": "stdout",
     "output_type": "stream",
     "text": [
      "[1.  1.2 1.4 1.6 1.8 2. ] [6.43656365691809, 7.240233845473094, 8.310399933689347, 9.706064848790229, 11.49929492882589, 13.778112197861295]\n"
     ]
    }
   ],
   "source": [
    "from math import e\n",
    "import numpy as np\n",
    "import matplotlib.pyplot as plt\n",
    "def f(x):\n",
    "    return 2 * e ** x - 2 * x + 3\n",
    "\n",
    "a, b = 1, 2\n",
    "n = 5\n",
    "x_mas = np.arange(a, b+0.00000000000001, (b-a) / n)\n",
    "f_mas = []\n",
    "for i in x_mas:\n",
    "    f_mas.append(f(i))\n",
    "print(x_mas, f_mas)"
   ]
  },
  {
   "cell_type": "markdown",
   "metadata": {},
   "source": [
    "<h1 alingn=\"center\">Вариант 25 </h1>"
   ]
  },
  {
   "cell_type": "code",
   "execution_count": 6,
   "metadata": {},
   "outputs": [],
   "source": [
    "from math import e\n",
    "import numpy as np\n",
    "import matplotlib.pyplot as plt\n",
    "def f(x):\n",
    "    return 3 ** x + 2 - x\n",
    "\n",
    "a, b = 1, 2\n",
    "n = 5\n",
    "x_mas = np.arange(a, b+0.00000000000001, (b-a) / n)\n",
    "f_mas = []\n",
    "for i in x_mas:\n",
    "    f_mas.append(f(i))"
   ]
  },
  {
   "cell_type": "markdown",
   "metadata": {},
   "source": [
    "<h1>Интерполяционный метод Ньютона"
   ]
  },
  {
   "cell_type": "code",
   "execution_count": null,
   "metadata": {},
   "outputs": [],
   "source": [
    "def div_dif(d, x, y, i, j, f_dict):\n",
    "    if (x[i], x[j]) in f_dict:\n",
    "        return f_dict[(x[i], x[j])]\n",
    "    if x[i] > x[j]:\n",
    "        x[i], x[j] = x[j], x[i]\n",
    "    if x[i] + d == x[j]:\n",
    "        f_dict[(x[i], x[j])] = (y[j] - y[i]) / d\n",
    "        return f_dict[(x[i], x[j])]\n",
    "    else:\n",
    "        f_dict[(x[i], x[j])] = (div_dif(d, x, y, i+1, j, f_dict) - div_dif(d, x, y, i, j-1, f_dict)) / (x[j] - x[i])\n",
    "        return f_dict[(x[i], x[j])]\n",
    "\n",
    "def int_new_prep(x_mas, y_mas):\n",
    "    f_dict = {}\n",
    "    div_dif(x_mas[1] - x_mas[0], x_mas, y_mas, 0, len(x_mas)-1, f_dict)\n",
    "    return f_dict\n",
    "\n",
    "def int_new(x_mas, y_mas, x, f_dict):\n",
    "    s = 0\n",
    "    prod = 1\n",
    "    ind = []\n",
    "    for i in enumerate(x_mas):\n",
    "        if i[0] == 0:\n",
    "            s += y_mas[0] \n",
    "        else:\n",
    "            prod *= (x - x_mas[i[0] -1])\n",
    "            ind.append((x - x_mas[i[0] -1]))\n",
    "            s += prod * f_dict[(x_mas[0], i[1])] \n",
    "    return s, ind"
   ]
  },
  {
   "cell_type": "code",
   "execution_count": null,
   "metadata": {},
   "outputs": [],
   "source": [
    "\n",
    "x1 = np.arange(a + (b-a) / (2 * n), b - (b-a) / (2 * n)+0.00000000000001, (b-a) / n)\n",
    "y1 = []\n",
    "for i in x1:\n",
    "    y1.append(f(i))\n",
    "fd = int_new_prep(x_mas, f_mas)\n",
    "y2_new, ind_mas_new = [], []\n",
    "for i in x1:\n",
    "    temp = int_new(x_mas, f_mas, i, fd)\n",
    "    ind_mas_new.append(temp[1])\n",
    "    y2_new.append(temp[0])\n",
    "plt.plot(x_mas, f_mas)\n",
    "plt.scatter(x1,y1)\n",
    "plt.scatter(x1,y2_new)\n",
    "plt.show()\n",
    "for i in range(len(y1)):\n",
    "    print(y1[i] - y2_new[i])"
   ]
  },
  {
   "cell_type": "code",
   "execution_count": null,
   "metadata": {},
   "outputs": [],
   "source": [
    "from math import e\n",
    "import numpy as np\n",
    "import matplotlib.pyplot as plt\n",
    "def div_dif(d, x, y, i, j, f_dict):\n",
    "    if (x[i], x[j]) in f_dict:\n",
    "        return f_dict[(x[i], x[j])]\n",
    "    if x[i] > x[j]:\n",
    "        x[i], x[j] = x[j], x[i]\n",
    "    if x[i] + d == x[j]:\n",
    "        f_dict[(x[i], x[j])] = (y[j] - y[i]) / d\n",
    "        return f_dict[(x[i], x[j])]\n",
    "    else:\n",
    "        f_dict[(x[i], x[j])] = (div_dif(d, x, y, i+1, j, f_dict) - div_dif(d, x, y, i, j-1, f_dict)) / (x[j] - x[i])\n",
    "        return f_dict[(x[i], x[j])]\n",
    "\n",
    "def int_new_prep(x_mas, y_mas):\n",
    "    f_dict = {}\n",
    "    div_dif(x_mas[1] - x_mas[0], x_mas, y_mas, 0, len(x_mas)-1, f_dict)\n",
    "    return f_dict\n",
    "\n",
    "def int_new(x_mas, y_mas, x, f_dict):\n",
    "    d = x_mas[1] - x_mas[0]\n",
    "    s = 0\n",
    "    prod = 1\n",
    "    for i in enumerate(x_mas):\n",
    "        if i[0] == 0:\n",
    "            s += y_mas[0] \n",
    "        else:\n",
    "            prod *= (x - x_mas[i[0] -1])\n",
    "            s += prod * f_dict[(x_mas[0], i[1])] \n",
    "    return s\n",
    "\n",
    "def ff(x):\n",
    "    return 3 ** (x)\n",
    "x = np.arange(-1, 1.+0.00000000000001, 1)\n",
    "fm = []\n",
    "for i in x:\n",
    "    fm.append(ff(i))\n",
    "\n",
    "x1 = np.arange( -1 / 2, 1 / 2 +0.00000000000001, 1)\n",
    "y1 = []\n",
    "for i in x1:\n",
    "    y1.append(ff(i))\n",
    "fd = int_new_prep(x, fm)\n",
    "print(fd)\n",
    "y2 = []\n",
    "for i in x1:\n",
    "    y2.append(int_new(x, fm, i, fd))\n",
    "plt.plot(x, fm)\n",
    "plt.scatter(x1,y1)\n",
    "plt.scatter(x1,y2)\n",
    "plt.show()\n",
    "for i in range(len(y1)):\n",
    "    print(y1[i] - y2[i])"
   ]
  },
  {
   "cell_type": "markdown",
   "metadata": {},
   "source": [
    "<h1>Метод кубических сплайнов дефекта 1"
   ]
  },
  {
   "cell_type": "code",
   "execution_count": null,
   "metadata": {},
   "outputs": [],
   "source": [
    "def m(h ,f_mas, i):\n",
    "    if i == 0:\n",
    "        return (4*f_mas[1] - f_mas[2] - 3*f_mas[0]) / (2 * h)\n",
    "    elif i == len(f_mas)-1:\n",
    "        return (4*f_mas[-1] - f_mas[-3] - 3*f_mas[-2]) / (2 * h)\n",
    "    else:\n",
    "        return (f_mas[i+1] - f_mas[i-1]) / (2 * h)\n",
    "    \n",
    "def cubic_spline(x_mas, f_mas, x):\n",
    "    h = x_mas[1] - x_mas[0]\n",
    "    for i in enumerate(x_mas):\n",
    "        if i[1] > x:\n",
    "            a, b = i[0] - 1, i[0]\n",
    "            break\n",
    "    return ((f_mas[a] * (x_mas[b]-x)**2 * (2*(x-x_mas[a])+h) / h**3)\n",
    "        + (f_mas[b] * (x-x_mas[a])**2 * (2*(x_mas[b]-x)+h) / h**3)\n",
    "        + (m(h,f_mas,a) * (x_mas[b]-x)**2 * (x-x_mas[a]) / h**2)\n",
    "        + (m(h,f_mas,b) * (x-x_mas[a])**2 * (x-x_mas[b]) / h**2)), (\n",
    "        (x_mas[b]-x)**2 * (2*(x-x_mas[a])+h) / h**3, (x-x_mas[a])**2 * (2*(x_mas[b]-x)+h) / h**3,\n",
    "          (x_mas[b]-x)**2 * (x-x_mas[a]) / h**2,(x-x_mas[a])**2 * (x-x_mas[b]) / h**2)"
   ]
  },
  {
   "cell_type": "code",
   "execution_count": null,
   "metadata": {},
   "outputs": [],
   "source": [
    "x1 = np.arange(a + (b-a) / (2 * n), b - (b-a) / (2 * n)+0.00000000000001, (b-a) / n)\n",
    "y1 = []\n",
    "for i in x1:\n",
    "    y1.append(f(i))\n",
    "y2_cub, ind_mas_cub = [], []\n",
    "for i in x1:\n",
    "    temp = cubic_spline(x_mas, f_mas, i)\n",
    "    ind_mas_cub.append(temp[1])\n",
    "    y2_cub.append(temp[0])\n",
    "plt.plot(x_mas, f_mas)\n",
    "plt.scatter(x1,y1)\n",
    "plt.scatter(x1,y2_cub)\n",
    "plt.show()\n",
    "for i in range(len(y1)):\n",
    "    print(y1[i] - y2_cub[i])"
   ]
  },
  {
   "cell_type": "code",
   "execution_count": null,
   "metadata": {},
   "outputs": [],
   "source": [
    "def estimate(ind_mas, f, e):\n",
    "    fe = f(e)\n",
    "    m = []\n",
    "    for i in ind_mas:\n",
    "        n = 1\n",
    "        s = 1\n",
    "        for omega in i:\n",
    "            s *= fe * omega / n\n",
    "            n += 1\n",
    "        m.append(s)\n",
    "    return m\n",
    "\n",
    "new = estimate(ind_mas_new, f, 10**(-10))\n",
    "cub = estimate(ind_mas_cub, f, 10**(-10))\n",
    "print(\"{:<25}  {:<25}  {:<25}  {:<25}\".format(\"F(x)\", \"Настоящая погрешность\", \"Оценка погрешности\", \"Разность ОП и НП\"))\n",
    "for i in enumerate(x1):\n",
    "    df = f(i[1]) - y2_new[i[0]]\n",
    "    print(\"{:<25}  {:<25}  {:<25}  {:<25}\".format(f(i[1]), df, new[i[0]], abs(new[i[0]]) - abs(df) ))\n",
    "print(\"-\"*108)\n",
    "for i in enumerate(x1):\n",
    "    df = f(i[1]) - y2_cub[i[0]]\n",
    "    print(\"{:<25}  {:<25}  {:<25}  {:<25}\".format(f(i[1]), df, cub[i[0]], abs(cub[i[0]]) - abs(df)))\n",
    "print(new)\n",
    "print(cub)"
   ]
  },
  {
   "cell_type": "markdown",
   "metadata": {},
   "source": [
    "<h2>Среднеквадратичное приближение"
   ]
  },
  {
   "cell_type": "code",
   "execution_count": 7,
   "metadata": {},
   "outputs": [
    {
     "name": "stdout",
     "output_type": "stream",
     "text": [
      "([2.9860546808008834, -3.999911819991, 5.002363273998941], 0.009202227459935357)\n"
     ]
    }
   ],
   "source": [
    "e = 10**(-4)\n",
    "from random import random\n",
    "def rms_S_tab(x_mas, func, f_mas):\n",
    "    s = 0\n",
    "    for i in enumerate(x_mas):\n",
    "        s += (func(i[1]) - f_mas[i[0]]) ** 2\n",
    "    return s\n",
    "\n",
    "def c_prep(x_mas, f_mas):\n",
    "    s_min = 10 ** (10)\n",
    "    c_mas = [0, 0, 0]\n",
    "    for i in range(-50, 50):\n",
    "        for j in range(-50, 50):\n",
    "            q = False\n",
    "            for k in range(-50, 50):\n",
    "                if s_min > rms_S_tab(x_mas, lambda x: (i/2 * x**2 + j/2 * x + k/2), f_mas):\n",
    "                    s_min = rms_S_tab(x_mas, lambda x: (i/2 * x**2 + j/2 * x + k/2), f_mas)\n",
    "                    c_mas = [i/2, j/2, k/2]\n",
    "                    q = True\n",
    "                elif q == True:\n",
    "                    break\n",
    "    return c_mas\n",
    "\n",
    "def rms_tab(x_mas, f_mas):\n",
    "    c = c_prep(x_mas, f_mas)\n",
    "    s_min = 10 ** 50\n",
    "    s_cur = rms_S_tab(x_mas, lambda x: (c[0] * x**2 + c[1] * x + c[2]), f_mas)\n",
    "    while s_min > s_cur + 0.0001:\n",
    "        s_min = s_cur\n",
    "        for i in range(3):\n",
    "            iter = 10 \n",
    "            for j in range(1000):\n",
    "                s = rms_S_tab(x_mas, lambda x: (c[0] * x**2 + c[1] * x + c[2]), f_mas)\n",
    "                c[i] += iter\n",
    "                s1 = rms_S_tab(x_mas, lambda x: (c[0] * x**2 + c[1] * x + c[2]), f_mas)\n",
    "                c[i] -= 2*iter \n",
    "                s2 = rms_S_tab(x_mas, lambda x: (c[0] * x**2 + c[1] * x + c[2]), f_mas)\n",
    "                if s1 < s2:\n",
    "                    if s < s1:\n",
    "                        c[i] += iter\n",
    "                        iter /= 10\n",
    "                    else:\n",
    "                        c[i] += 2 * iter\n",
    "                else:\n",
    "                    if s < s2:\n",
    "                        c[i] += iter\n",
    "                        iter /= 10\n",
    "                if s_cur > rms_S_tab(x_mas, lambda x: (c[0] * x**2 + c[1] * x + c[2]), f_mas):\n",
    "                    s_cur = rms_S_tab(x_mas, lambda x: (c[0] * x**2 + c[1] * x + c[2]), f_mas)\n",
    "                \n",
    "\n",
    "    return c, s_min\n",
    "        \n",
    "print(rms_tab(x_mas, f_mas))\n"
   ]
  }
 ],
 "metadata": {
  "kernelspec": {
   "display_name": "Python 3.10.7 64-bit",
   "language": "python",
   "name": "python3"
  },
  "language_info": {
   "codemirror_mode": {
    "name": "ipython",
    "version": 3
   },
   "file_extension": ".py",
   "mimetype": "text/x-python",
   "name": "python",
   "nbconvert_exporter": "python",
   "pygments_lexer": "ipython3",
   "version": "3.10.7"
  },
  "orig_nbformat": 4,
  "vscode": {
   "interpreter": {
    "hash": "26de051ba29f2982a8de78e945f0abaf191376122a1563185a90213a26c5da77"
   }
  }
 },
 "nbformat": 4,
 "nbformat_minor": 2
}
