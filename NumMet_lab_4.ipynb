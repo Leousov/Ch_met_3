{
 "cells": [
  {
   "cell_type": "markdown",
   "metadata": {},
   "source": [
    "<h1 alingn=\"center\">Вариант 24 </h1>"
   ]
  },
  {
   "cell_type": "code",
   "execution_count": 1,
   "metadata": {},
   "outputs": [],
   "source": [
    "from math import e\n",
    "import numpy as np\n",
    "import matplotlib.pyplot as plt\n",
    "def f(x):\n",
    "    return 2 * e ** x - 2 * x + 3\n",
    "\n",
    "a, b = 1, 2\n",
    "n = 5\n",
    "x_mas = np.arange(a, b, (b-a) / n)\n",
    "f_mas = []\n",
    "for i in x_mas:\n",
    "    f_mas.append(f(i))"
   ]
  },
  {
   "cell_type": "markdown",
   "metadata": {},
   "source": [
    "<h1 alingn=\"center\">Вариант 25 </h1>"
   ]
  },
  {
   "cell_type": "code",
   "execution_count": 2,
   "metadata": {},
   "outputs": [],
   "source": [
    "from math import e\n",
    "def f(x):\n",
    "    return 3 ** x + 2 - x\n",
    "\n",
    "a, b = 1, 2\n",
    "n = 5\n",
    "x_mas = np.arange(a, b, (b-a) / n)\n",
    "f_mas = []\n",
    "for i in x_mas:\n",
    "    f_mas.append(f(i))"
   ]
  },
  {
   "cell_type": "markdown",
   "metadata": {},
   "source": [
    "<h2>Среднеквадратичное приближение"
   ]
  },
  {
   "cell_type": "code",
   "execution_count": 3,
   "metadata": {},
   "outputs": [],
   "source": [
    "def rms(x_mas, y_mas, f):\n",
    "    s = 0\n",
    "    for i in enumerate(x_mas):\n",
    "        s += (y_mas[i[0]] - f(i[1])) ** 2\n",
    "    return s"
   ]
  },
  {
   "cell_type": "markdown",
   "metadata": {},
   "source": [
    "<h1>Интерполяционный метод Ньютона"
   ]
  },
  {
   "cell_type": "code",
   "execution_count": 10,
   "metadata": {},
   "outputs": [],
   "source": [
    "def div_dif(d, x, y, i, j, f_dict):\n",
    "    if (x[i], x[j]) in f_dict:\n",
    "        return f_dict[(x[i], x[j])]\n",
    "    if x[i] > x[j]:\n",
    "        x[i], x[j] = x[j], x[i]\n",
    "    if x[i] + d == x[j]:\n",
    "        f_dict[(x[i], x[j])] = (y[j] - y[i]) / d\n",
    "        return f_dict[(x[i], x[j])]\n",
    "    else:\n",
    "        f_dict[(x[i], x[j])] = (div_dif(d, x, y, i+1, j, f_dict) - div_dif(d, x, y, i, j-1, f_dict)) / (x[j] - x[i])\n",
    "        return f_dict[(x[i], x[j])]\n",
    "\n",
    "\n",
    "def int_new_prep(x_mas, y_mas):\n",
    "    f_dict = {}\n",
    "    div_dif(x_mas[1] - x_mas[0], x_mas, y_mas, 0, len(x_mas)-1, f_dict)\n",
    "    return f_dict\n",
    "\n",
    "def int_new(x_mas, y_mas, x, f_dict):\n",
    "    s = 0\n",
    "    prod = 1\n",
    "    for i in enumerate(x_mas):\n",
    "        if i[0] == 0:\n",
    "            s += y_mas[0] \n",
    "        else:\n",
    "            prod *= (x - i[1]) \n",
    "            s += prod * f_dict[(x_mas[0], i[1])]\n",
    "    return s"
   ]
  },
  {
   "cell_type": "code",
   "execution_count": 13,
   "metadata": {},
   "outputs": [
    {
     "data": {
      "text/plain": [
       "2.439746241565512"
      ]
     },
     "execution_count": 13,
     "metadata": {},
     "output_type": "execute_result"
    }
   ],
   "source": [
    "\n",
    "x1 = np.arange(a + (b-a) / (2 * n), b - (b-a) / (2 * n), (b-a) / n)\n",
    "fd = int_new_prep(x_mas, f_mas)\n",
    "y1 = []\n",
    "for i in x1:\n",
    "    y1.append(int_new(x_mas, f_mas, i, fd))\n",
    "rms(x1, y1, f)"
   ]
  },
  {
   "cell_type": "code",
   "execution_count": null,
   "metadata": {},
   "outputs": [],
   "source": [
    "def ff(x):\n",
    "    return 2 * x**3 - 2 * x**2 + 3 * x - 1\n",
    "f_dict = {}\n",
    "div_dif(ff, 1, 0, 5, f_dict)\n",
    "f_dict"
   ]
  }
 ],
 "metadata": {
  "kernelspec": {
   "display_name": "Python 3.10.7 64-bit",
   "language": "python",
   "name": "python3"
  },
  "language_info": {
   "codemirror_mode": {
    "name": "ipython",
    "version": 3
   },
   "file_extension": ".py",
   "mimetype": "text/x-python",
   "name": "python",
   "nbconvert_exporter": "python",
   "pygments_lexer": "ipython3",
   "version": "3.10.7"
  },
  "orig_nbformat": 4,
  "vscode": {
   "interpreter": {
    "hash": "26de051ba29f2982a8de78e945f0abaf191376122a1563185a90213a26c5da77"
   }
  }
 },
 "nbformat": 4,
 "nbformat_minor": 2
}
