{
 "cells": [
  {
   "cell_type": "markdown",
   "metadata": {},
   "source": [
    "<h1 alingn=\"center\">Вариант 24 </h1>"
   ]
  },
  {
   "cell_type": "code",
   "execution_count": 2,
   "metadata": {},
   "outputs": [],
   "source": [
    "from math import e\n",
    "import numpy as np\n",
    "import matplotlib.pyplot as plt\n",
    "def f(x):\n",
    "    return 2 * e ** x - 2 * x + 3\n",
    "\n",
    "a, b = 1, 2\n",
    "n = 5\n",
    "x_mas = np.arange(a, b, (b-a) / n)\n",
    "f_mas = []\n",
    "for i in x_mas:\n",
    "    f_mas.append(f(i))"
   ]
  },
  {
   "cell_type": "markdown",
   "metadata": {},
   "source": [
    "<h1 alingn=\"center\">Вариант 25 </h1>"
   ]
  },
  {
   "cell_type": "code",
   "execution_count": 3,
   "metadata": {},
   "outputs": [],
   "source": [
    "from math import e\n",
    "def f(x):\n",
    "    return 3 ** x + 2 - x\n",
    "\n",
    "a, b = 1, 2\n",
    "n = 5\n",
    "x_mas = np.arange(a, b, (b-a) / n)\n",
    "f_mas = []\n",
    "for i in x_mas:\n",
    "    f_mas.append(f(i))"
   ]
  },
  {
   "cell_type": "markdown",
   "metadata": {},
   "source": [
    "<h2>Среднеквадратичное приближение"
   ]
  },
  {
   "cell_type": "code",
   "execution_count": 11,
   "metadata": {},
   "outputs": [],
   "source": [
    "def rms(x_mas, y_mas, f):\n",
    "    s = 0\n",
    "    for i in enumerate(x_mas):\n",
    "        s += (y_mas[i[0]] - f(i[1])) ** 2\n",
    "    return s"
   ]
  },
  {
   "cell_type": "markdown",
   "metadata": {},
   "source": [
    "<h1>Интерполяционный метод Ньютона"
   ]
  },
  {
   "cell_type": "code",
   "execution_count": 10,
   "metadata": {},
   "outputs": [],
   "source": [
    "def div_dif(f, d, x_1, x_2, f_dict):\n",
    "    if (x_1, x_2) in f_dict:\n",
    "        return f_dict[(x_1, x_2)]\n",
    "    if x_1 > x_2:\n",
    "        x_1, x_2 = x_2, x_1\n",
    "    if x_1 + d == x_2:\n",
    "        f_dict[(x_1, x_2)] = (f(x_2) - f(x_1)) / d\n",
    "        return (f(x_2) - f(x_1)) / d\n",
    "    else:\n",
    "        f_dict[(x_1, x_2)] = (div_dif(f, d, x_1 + d, x_2, f_dict) - div_dif(f, d, x_1, x_2 - d, f_dict)) / (x_2 - x_1)\n",
    "        return f_dict[(x_1, x_2)]\n",
    "\n",
    "\n",
    "\n",
    "def int_new(x_mas, y_mas):\n",
    "    pass"
   ]
  },
  {
   "cell_type": "code",
   "execution_count": 12,
   "metadata": {},
   "outputs": [
    {
     "data": {
      "text/plain": [
       "{(4, 5): 107.0,\n",
       " (3, 4): 63.0,\n",
       " (3, 5): 22.0,\n",
       " (2, 3): 31.0,\n",
       " (2, 4): 16.0,\n",
       " (2, 5): 2.0,\n",
       " (1, 2): 11.0,\n",
       " (1, 3): 10.0,\n",
       " (1, 4): 2.0,\n",
       " (1, 5): 0.0,\n",
       " (0, 1): 3.0,\n",
       " (0, 2): 4.0,\n",
       " (0, 3): 2.0,\n",
       " (0, 4): 0.0,\n",
       " (0, 5): 0.0}"
      ]
     },
     "execution_count": 12,
     "metadata": {},
     "output_type": "execute_result"
    }
   ],
   "source": [
    "def ff(x):\n",
    "    return 2 * x**3 - 2 * x**2 + 3 * x - 1\n",
    "f_dict = {}\n",
    "div_dif(ff, 1, 0, 5, f_dict)\n",
    "f_dict"
   ]
  }
 ],
 "metadata": {
  "kernelspec": {
   "display_name": "Python 3.10.7 64-bit",
   "language": "python",
   "name": "python3"
  },
  "language_info": {
   "codemirror_mode": {
    "name": "ipython",
    "version": 3
   },
   "file_extension": ".py",
   "mimetype": "text/x-python",
   "name": "python",
   "nbconvert_exporter": "python",
   "pygments_lexer": "ipython3",
   "version": "3.10.7"
  },
  "orig_nbformat": 4,
  "vscode": {
   "interpreter": {
    "hash": "26de051ba29f2982a8de78e945f0abaf191376122a1563185a90213a26c5da77"
   }
  }
 },
 "nbformat": 4,
 "nbformat_minor": 2
}
