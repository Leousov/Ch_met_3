{
 "cells": [
  {
   "cell_type": "markdown",
   "metadata": {},
   "source": [
    "<h1 alingn=\"center\">Вариант 24 </h1>"
   ]
  },
  {
   "cell_type": "code",
   "execution_count": 13,
   "metadata": {},
   "outputs": [
    {
     "data": {
      "text/plain": [
       "9.341548540943208"
      ]
     },
     "execution_count": 13,
     "metadata": {},
     "output_type": "execute_result"
    }
   ],
   "source": [
    "from math import e\n",
    "import numpy as np\n",
    "import matplotlib.pyplot as plt\n",
    "def f(x):\n",
    "    return 2 * e ** x - 2 * x + 3\n",
    "def f_sh(x):\n",
    "    return 2*e**x - 2\n",
    "def integral(x0, xn):\n",
    "    return 2 * e ** xn - xn**2 + 3*xn - (2 * e ** x0 - x0**2 + 3*x0)\n",
    "a, b = 1, 2\n",
    "n = 5\n",
    "var = \"24\"\n",
    "epsilon = 10**(-8)\n",
    "# Создание таблицы (xi,fi)\n",
    "x_mas = np.arange(a, b+0.00000000000001, (b-a) / n)\n",
    "f_mas = []\n",
    "for i in x_mas:\n",
    "    f_mas.append(f(i))\n",
    "    \n",
    "actual_integral = integral(a,b)\n",
    "actual_integral"
   ]
  },
  {
   "cell_type": "markdown",
   "metadata": {},
   "source": [
    "<h1 alingn=\"center\">Вариант 25 </h1>"
   ]
  },
  {
   "cell_type": "code",
   "execution_count": 14,
   "metadata": {},
   "outputs": [
    {
     "data": {
      "text/plain": [
       "5.9614353597610235"
      ]
     },
     "execution_count": 14,
     "metadata": {},
     "output_type": "execute_result"
    }
   ],
   "source": [
    "from math import e, log\n",
    "import numpy as np\n",
    "import matplotlib.pyplot as plt\n",
    "def f(x):\n",
    "    return 3 ** x + 2 - x\n",
    "def f_sh(x):\n",
    "    return 3**x * log(3) - 1\n",
    "def integral(x0, xn):\n",
    "    return 3 ** xn / log(3) - 1/2*xn**2 +2*xn - (3 ** x0 / log(3) - 1/2*x0**2 +2*x0)\n",
    "a, b = 1, 2\n",
    "n = 5\n",
    "var = \"25\"\n",
    "epsilon = 10**(-8)\n",
    "# Создание таблицы (xi,fi)\n",
    "x_mas = np.arange(a, b+0.00000000000001, (b-a) / n)\n",
    "f_mas = []\n",
    "for i in x_mas:\n",
    "    f_mas.append(f(i))\n",
    "    \n",
    "actual_integral = integral(a,b)\n",
    "actual_integral"
   ]
  },
  {
   "attachments": {},
   "cell_type": "markdown",
   "metadata": {},
   "source": [
    "<h2> Метод трапеций"
   ]
  },
  {
   "cell_type": "code",
   "execution_count": 15,
   "metadata": {},
   "outputs": [
    {
     "data": {
      "text/plain": [
       "5.9614353925022225"
      ]
     },
     "execution_count": 15,
     "metadata": {},
     "output_type": "execute_result"
    }
   ],
   "source": [
    "def trapeze_method(a, b):\n",
    "    n = 1\n",
    "    h = (b-a)/n\n",
    "    medium = (f(a)+f(b))/2\n",
    "    int_cur = h*medium\n",
    "    s0 = 0\n",
    "    pogr = int_cur / 3\n",
    "    while abs(pogr) >= epsilon*abs(int_cur):\n",
    "        s1 = s0\n",
    "        sa = int_cur\n",
    "        s0 = int_cur\n",
    "        n *= 2\n",
    "        h /= 2\n",
    "        for i in range(1, n, 2):\n",
    "            medium += f(a+i*h)\n",
    "        int_cur = h * medium\n",
    "        sa2 = int_cur\n",
    "        pogr = (int_cur-s0)/3\n",
    "    return int_cur\n",
    "\n",
    "trapeze_method(a,b)"
   ]
  },
  {
   "attachments": {},
   "cell_type": "markdown",
   "metadata": {},
   "source": [
    "<h2> Модифицированный метод трапеций"
   ]
  },
  {
   "cell_type": "code",
   "execution_count": 16,
   "metadata": {},
   "outputs": [
    {
     "data": {
      "text/plain": [
       "5.961435349223467"
      ]
     },
     "execution_count": 16,
     "metadata": {},
     "output_type": "execute_result"
    }
   ],
   "source": [
    "def trapeze_method_2(a,b):\n",
    "    n = 1\n",
    "    h = (b-a)/n\n",
    "    sk = (f(a)+f(b))/2\n",
    "    sk2 = (f_sh(a) - f_sh(b)) / 12\n",
    "    int_cur = h*sk + (h ** 2) * sk2\n",
    "    s0 = 0\n",
    "    alpha = (0.5 ** 4) / (1 - (0.5 ** 4))\n",
    "    while True:\n",
    "        s1 = s0\n",
    "        sa = int_cur\n",
    "        s0 = int_cur\n",
    "        n *= 2\n",
    "        h /= 2\n",
    "        for i in range(1, n, 2):\n",
    "            sk += f(a+i*h)\n",
    "        int_cur = h * sk + (h ** 2) * sk2\n",
    "        Sa2 = int_cur\n",
    "        if (n >= 2):\n",
    "            ch = alpha * (int_cur - s0)\n",
    "        if (abs(ch) < epsilon*abs(int_cur)):\n",
    "            break\n",
    "    return int_cur\n",
    "trapeze_method_2(a,b)"
   ]
  },
  {
   "attachments": {},
   "cell_type": "markdown",
   "metadata": {},
   "source": [
    "<h2> Метод Симпсона"
   ]
  },
  {
   "cell_type": "code",
   "execution_count": 17,
   "metadata": {},
   "outputs": [
    {
     "data": {
      "text/plain": [
       "5.961435401906529"
      ]
     },
     "execution_count": 17,
     "metadata": {},
     "output_type": "execute_result"
    }
   ],
   "source": [
    "def simpson_method(a,b):\n",
    "    n = 1\n",
    "    h = (b-a)/n\n",
    "    values = [f(a),f((a+b)/2),f(b)]\n",
    "    args = [a,(a+b)/2,b]\n",
    "    int_cur = ((b-a)/6)*(values[0]+4*values[1]+values[2])\n",
    "    s0 = 0\n",
    "    alpha = 1/15\n",
    "    while True:\n",
    "        s1 = s0\n",
    "        sa = int_cur\n",
    "        s0 = int_cur\n",
    "        n = 2*n\n",
    "        h = h/2\n",
    "        int_cur = 0\n",
    "\n",
    "        for i in range(len(args)-1,0,-1):\n",
    "            args.insert(i,args[i-1]+(h/2))\n",
    "            values.insert(i,f(args[i]))\n",
    "\n",
    "        for i in range(0,2*n - 1,2):\n",
    "            int_cur += (h/6)*(values[i]+4*values[i+1]+values[i+2])\n",
    "        sa2 = int_cur\n",
    "        if (n >= 2):\n",
    "            ch = alpha * (int_cur - s0)\n",
    "        if (n >= 4):\n",
    "            k =  (1/log(0.5)) * log((sa2-s1)/(sa-s1)-1)\n",
    "        if (abs(ch) < epsilon*abs(int_cur)) or n > 32:\n",
    "            break\n",
    "    return int_cur\n",
    "simpson_method(a,b)"
   ]
  },
  {
   "attachments": {},
   "cell_type": "markdown",
   "metadata": {},
   "source": [
    "<h2>Метод Гаусса"
   ]
  },
  {
   "cell_type": "code",
   "execution_count": 18,
   "metadata": {},
   "outputs": [
    {
     "data": {
      "text/plain": [
       "5.961435358601155"
      ]
     },
     "execution_count": 18,
     "metadata": {},
     "output_type": "execute_result"
    }
   ],
   "source": [
    "from math import sqrt\n",
    "def gauss_method(a,b):\n",
    "    N = 1\n",
    "    h = (b-a)/N\n",
    "    A = [5/9,8/9,5/9]\n",
    "    x = [-sqrt(3/5),0,sqrt(3/5)]\n",
    "    \n",
    "    left = a\n",
    "    right = left + h\n",
    "    args = []\n",
    "    values = []\n",
    "    for j in range(N):\n",
    "        args.append([((left+right)/2) + (((right-left)/2)*i) for i in x ])\n",
    "        values.append([f(i) for i in args[j]])\n",
    "        left = right\n",
    "        right = left + h\n",
    "    S = 0\n",
    "    for i,j in zip(values[0],A):\n",
    "        S += i*j\n",
    "    S *= 1/2\n",
    "    S0 = 0\n",
    "    alpha = 1/63\n",
    "    while True:\n",
    "        S1 = S0\n",
    "        Sa = S\n",
    "        S0 = S\n",
    "        N = 2*N\n",
    "        h = h/2\n",
    "        S = 0\n",
    "\n",
    "        left = a\n",
    "        right = left + h\n",
    "        args = []\n",
    "        values = []\n",
    "        for j in range(N):\n",
    "            args.append([((left+right)/2) + (((right-left)/2)*k) for k in x ])\n",
    "            values.append([f(k) for k in args[j]])\n",
    "            left = right\n",
    "            right = left + h\n",
    "\n",
    "        S = 0\n",
    "        for i in values:\n",
    "            temp = 0\n",
    "            for j,k in zip(i,A):\n",
    "                temp += j*k\n",
    "            temp *= h/2\n",
    "            S += temp\n",
    "\n",
    "        Sa2 = S\n",
    "        if (N >= 2):\n",
    "            ch = alpha * (S - S0)\n",
    "        if (abs(ch) < epsilon*abs(S)) and N >= 4:\n",
    "            break\n",
    "    return S\n",
    "gauss_method(a,b)"
   ]
  }
 ],
 "metadata": {
  "kernelspec": {
   "display_name": "Python 3",
   "language": "python",
   "name": "python3"
  },
  "language_info": {
   "codemirror_mode": {
    "name": "ipython",
    "version": 3
   },
   "file_extension": ".py",
   "mimetype": "text/x-python",
   "name": "python",
   "nbconvert_exporter": "python",
   "pygments_lexer": "ipython3",
   "version": "3.10.7"
  },
  "orig_nbformat": 4,
  "vscode": {
   "interpreter": {
    "hash": "26de051ba29f2982a8de78e945f0abaf191376122a1563185a90213a26c5da77"
   }
  }
 },
 "nbformat": 4,
 "nbformat_minor": 2
}
